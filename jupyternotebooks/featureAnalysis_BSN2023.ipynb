{
 "cells": [
  {
   "cell_type": "code",
   "execution_count": null,
   "metadata": {},
   "outputs": [],
   "source": [
    "%reset"
   ]
  },
  {
   "cell_type": "code",
   "execution_count": null,
   "metadata": {},
   "outputs": [],
   "source": [
    "########################################\n",
    "# Author - Shehjar and ChatGPT\n",
    "########################################"
   ]
  },
  {
   "cell_type": "code",
   "execution_count": null,
   "metadata": {},
   "outputs": [],
   "source": [
    "import json\n",
    "import glob\n",
    "import calendar\n",
    "from statistics import mean \n",
    "import statistics\n",
    "import re\n",
    "from sklearn import preprocessing"
   ]
  },
  {
   "cell_type": "code",
   "execution_count": null,
   "metadata": {
    "scrolled": true
   },
   "outputs": [],
   "source": [
    "import numpy as np \n",
    "import pandas as pd                  # for DataFrames\n",
    "from numpy.linalg import eig\n",
    "import matplotlib.pyplot as plt\n",
    "import plotly.express as px\n",
    "import plotly.graph_objects as go\n",
    "from plotly.offline import init_notebook_mode, iplot\n",
    "from scipy.stats import kurtosis\n",
    "from scipy.stats import skew\n",
    "from sklearn import preprocessing as pre\n"
   ]
  },
  {
   "cell_type": "code",
   "execution_count": null,
   "metadata": {},
   "outputs": [],
   "source": [
    "import scipy.fftpack                 # discrete Fourier transforms\n",
    "from scipy import signal\n",
    "from scipy.signal import find_peaks\n",
    "from scipy.signal import butter, lfilter\n",
    "from scipy.signal import find_peaks, peak_prominences\n",
    "from scipy.signal import chirp, peak_widths\n"
   ]
  },
  {
   "cell_type": "code",
   "execution_count": null,
   "metadata": {
    "scrolled": true
   },
   "outputs": [],
   "source": [
    "import plotly.express as px\n",
    "import plotly.graph_objects as go\n",
    "import plotly.figure_factory as ff\n",
    "from plotly.subplots import make_subplots\n",
    "import os"
   ]
  },
  {
   "cell_type": "code",
   "execution_count": null,
   "metadata": {},
   "outputs": [],
   "source": [
    "root = \"/Users/shehjarsadhu/Desktop/UniversityOfRhodeIsland/Graduate/WBL/Project_IOTEX/iotex-glove/PD/\"\n",
    "# Write all the results outside of the PD data folder.\n",
    "root_results_write = \"/Users/shehjarsadhu/Desktop/UniversityOfRhodeIsland/Graduate/WBL/Project_IOTEX/iotex-glove/\"\n",
    "\n"
   ]
  },
  {
   "cell_type": "markdown",
   "metadata": {},
   "source": [
    "## Initial Raw Data Plots"
   ]
  },
  {
   "cell_type": "code",
   "execution_count": null,
   "metadata": {
    "scrolled": true
   },
   "outputs": [],
   "source": [
    "df_p1 = pd.read_csv(root + \"Participant1/2021-06-24/rg_20210624-170825.csv\")\n",
    "df_p2 = pd.read_csv(root + \"Participant2/2021-06-28/rg_20210628-153436.csv\")\n",
    "df_p3 = pd.read_csv(root +  \"Participant3/2021-07-08/rg_20210708-130053.csv\")\n",
    "df_p4 = pd.read_csv(root + \"/Participant4/2021-10-18/rg_20211018-184648.csv\")\n",
    "\n"
   ]
  },
  {
   "cell_type": "code",
   "execution_count": null,
   "metadata": {},
   "outputs": [],
   "source": [
    "df_results1 = pd.read_csv(root_results_write + \"results_p1.csv\") # reaults_file - results_p2.csv\n",
    "df_results2 = pd.read_csv(root_results_write + \"results_p2.csv\") # reaults_file - results_p2.csv\n",
    "\n",
    "df_results3 = pd.read_csv(root_results_write + \"results_p3.csv\") # reaults_file - results_p2.csv\n",
    "\n",
    "df_results4 = pd.read_csv(root_results_write + \"results_p4.csv\") # reaults_file - results_p2.csv\n"
   ]
  },
  {
   "cell_type": "code",
   "execution_count": null,
   "metadata": {},
   "outputs": [],
   "source": []
  },
  {
   "cell_type": "code",
   "execution_count": null,
   "metadata": {},
   "outputs": [],
   "source": [
    "\n",
    "df_results1_not = df_results1[df_results1[\"NOT\"]!=\"X\"]\n"
   ]
  },
  {
   "cell_type": "code",
   "execution_count": null,
   "metadata": {},
   "outputs": [],
   "source": [
    "\n",
    "df_results2_not = df_results2[df_results2[\"NOT\"]!=\"X\"]\n"
   ]
  },
  {
   "cell_type": "code",
   "execution_count": null,
   "metadata": {},
   "outputs": [],
   "source": []
  },
  {
   "cell_type": "code",
   "execution_count": null,
   "metadata": {},
   "outputs": [],
   "source": [
    "\n",
    "df_results3_not = df_results3[df_results3[\"NOT\"]!=\"X\"]\n"
   ]
  },
  {
   "cell_type": "code",
   "execution_count": null,
   "metadata": {},
   "outputs": [],
   "source": [
    "\n",
    "df_results4_not = df_results4[df_results4[\"NOT\"]!=\"X\"]\n"
   ]
  },
  {
   "cell_type": "code",
   "execution_count": null,
   "metadata": {},
   "outputs": [],
   "source": []
  },
  {
   "cell_type": "code",
   "execution_count": null,
   "metadata": {},
   "outputs": [],
   "source": [
    "print(\"df_results1.shape:\",df_results1.shape,\"df_results2.shape:\",df_results2.shape,\"df_results3.shape:\",df_results3.shape,\"df_results4.shape: \",df_results4.shape)\n",
    "\n",
    "print(\"After quality Check Removal: \",df_results1_not.shape,df_results2_not.shape,df_results3_not.shape,df_results4_not.shape)\n",
    "\n"
   ]
  },
  {
   "cell_type": "code",
   "execution_count": null,
   "metadata": {},
   "outputs": [],
   "source": [
    "df_results1_not[df_results1_not[\"FileName\"].str.contains(\"lg\")]"
   ]
  },
  {
   "cell_type": "code",
   "execution_count": null,
   "metadata": {},
   "outputs": [],
   "source": [
    "df_results1_not[df_results1_not[\"FileName\"].str.contains(\"rg\")].shape"
   ]
  },
  {
   "cell_type": "code",
   "execution_count": null,
   "metadata": {},
   "outputs": [],
   "source": [
    "df_results2_not[df_results2_not[\"FileName\"].str.contains(\"lg\")].shape"
   ]
  },
  {
   "cell_type": "code",
   "execution_count": null,
   "metadata": {},
   "outputs": [],
   "source": [
    "df_results2_not[df_results2_not[\"FileName\"].str.contains(\"rg\")].shape"
   ]
  },
  {
   "cell_type": "code",
   "execution_count": null,
   "metadata": {},
   "outputs": [],
   "source": [
    "df_results3_not[df_results3_not[\"FileName\"].str.contains(\"lg\")].shape"
   ]
  },
  {
   "cell_type": "code",
   "execution_count": null,
   "metadata": {},
   "outputs": [],
   "source": [
    "df_results3_not[df_results3_not[\"FileName\"].str.contains(\"rg\")].shape"
   ]
  },
  {
   "cell_type": "code",
   "execution_count": null,
   "metadata": {},
   "outputs": [],
   "source": [
    "df_results4_not[df_results4_not[\"FileName\"].str.contains(\"lg\")].shape"
   ]
  },
  {
   "cell_type": "code",
   "execution_count": null,
   "metadata": {},
   "outputs": [],
   "source": [
    "df_results4_not[df_results4_not[\"FileName\"].str.contains(\"rg\")].shape"
   ]
  },
  {
   "cell_type": "code",
   "execution_count": null,
   "metadata": {},
   "outputs": [],
   "source": []
  },
  {
   "cell_type": "code",
   "execution_count": null,
   "metadata": {},
   "outputs": [],
   "source": [
    "plt.rcParams[\"figure.figsize\"] = [10.50, 6.50] # WIDTH, HEIGHT\n",
    "fig, axs = plt.subplots(2, 2)\n",
    "axs[0, 0].plot(df_p1[df_p1[\"activity\"]==1][\"index\"][100:500] )\n",
    "axs[0, 0].set_title('Raw Data: Index Particiant 1')\n",
    "axs[0, 1].plot(df_p2[df_p2[\"activity\"]==1][\"index\"][100:500] )\n",
    "axs[0, 1].set_title('Raw Data: Index Particiant 2')\n",
    "axs[1, 0].plot(df_p3[df_p3[\"activity\"]==1][\"index\"][100:500] )\n",
    "axs[1, 0].set_title('Raw Data: Index Particiant 3')\n",
    "axs[1, 1].plot(df_p4[df_p4[\"activity\"]==1][\"index\"][100:500] )\n",
    "axs[1, 1].set_title('Raw Data: Index Particiant 4')\n",
    "fig.subplots_adjust(wspace=0.4,hspace=0.5)\n"
   ]
  },
  {
   "cell_type": "code",
   "execution_count": null,
   "metadata": {},
   "outputs": [],
   "source": [
    "plt.rcParams[\"figure.figsize\"] = [10.50, 6.50] # WIDTH, HEIGHT\n",
    "fig, axs = plt.subplots(2, 2)\n",
    "axs[0, 0].plot(df_p1[df_p1[\"activity\"]==1][\"index\"][100:500]*-1 )\n",
    "axs[0, 0].set_title('Raw Data: Index Particiant 1 (Inverted)')\n",
    "axs[0, 1].plot(df_p2[df_p2[\"activity\"]==1][\"index\"][100:500]*-1 )\n",
    "axs[0, 1].set_title('Raw Data: Index Particiant 2 (Inverted)')\n",
    "axs[1, 0].plot(df_p3[df_p3[\"activity\"]==1][\"index\"][100:500]*-1 )\n",
    "axs[1, 0].set_title('Raw Data: Index Particiant 3 (Inverted)')\n",
    "axs[1, 1].plot(df_p4[df_p4[\"activity\"]==1][\"index\"][100:500]*-1 )\n",
    "axs[1, 1].set_title('Raw Data: Index Particiant 4 (Inverted)')\n",
    "fig.subplots_adjust(wspace=0.4,hspace=0.5)\n"
   ]
  },
  {
   "cell_type": "code",
   "execution_count": null,
   "metadata": {},
   "outputs": [],
   "source": [
    "\n",
    "\n",
    "# Create the line plot\n",
    "fig = go.Figure(data=go.Scatter(y=df_p1[df_p1[\"activity\"]==1][\"index\"][100:500],line=dict(width=5)))\n",
    "# Set the background color to be fully transparent\n",
    "fig.update_layout(plot_bgcolor='rgba(0, 0, 0, 0)')\n",
    "\n",
    "# Show the plot\n",
    "fig.show()"
   ]
  },
  {
   "cell_type": "code",
   "execution_count": null,
   "metadata": {},
   "outputs": [],
   "source": [
    "\n",
    "\n",
    "# Create the line plot\n",
    "fig = go.Figure(data=go.Scatter(y=df_p2[df_p2[\"activity\"]==1][\"index\"][100:500],line=dict(width=5)))\n",
    "# Set the background color to be fully transparent\n",
    "fig.update_layout(plot_bgcolor='rgba(0, 0, 0, 0)')\n",
    "\n",
    "# Show the plot\n",
    "fig.show()"
   ]
  },
  {
   "cell_type": "code",
   "execution_count": null,
   "metadata": {},
   "outputs": [],
   "source": [
    "\n",
    "\n",
    "# Create the line plot\n",
    "fig = go.Figure(data=go.Scatter(y=df_p3[df_p3[\"activity\"]==1][\"index\"][100:500],line=dict(width=5)))\n",
    "# Set the background color to be fully transparent\n",
    "fig.update_layout(plot_bgcolor='rgba(0, 0, 0, 0)')\n",
    "\n",
    "# Show the plot\n",
    "fig.show()"
   ]
  },
  {
   "cell_type": "code",
   "execution_count": null,
   "metadata": {},
   "outputs": [],
   "source": [
    "\n",
    "\n",
    "# Create the line plot\n",
    "fig = go.Figure(data=go.Scatter(y=df_p4[df_p4[\"activity\"]==1][\"index\"][100:500],line=dict(width=5)))\n",
    "# Set the background color to be fully transparent\n",
    "fig.update_layout(plot_bgcolor='rgba(0, 0, 0, 0)')\n",
    "\n",
    "# Show the plot\n",
    "fig.show()"
   ]
  },
  {
   "cell_type": "code",
   "execution_count": null,
   "metadata": {},
   "outputs": [],
   "source": [
    "plt.rcParams[\"figure.figsize\"] = [10.50, 6.50] # WIDTH, HEIGHT\n",
    "inv_p1 = df_p1[df_p1[\"activity\"]==1][\"index\"][100:500]*-1\n",
    "inv_p2 = df_p2[df_p2[\"activity\"]==1][\"index\"][100:500]*-1 \n",
    "inv_p3 = df_p3[df_p3[\"activity\"]==1][\"index\"][100:500]*-1\n",
    "inv_p4 = df_p4[df_p4[\"activity\"]==1][\"index\"][100:500]*-1\n",
    "fig, axs = plt.subplots(2, 2)\n",
    "axs[0, 0].plot(inv_p1.diff())\n",
    "axs[0, 0].set_title('Raw Data: Index Particiant 1 (Difference)')\n",
    "axs[0, 1].plot(inv_p2.diff())\n",
    "axs[0, 1].set_title('Raw Data: Index Particiant 2 (Difference)')\n",
    "axs[1, 0].plot(inv_p3.diff())\n",
    "axs[1, 0].set_title('Raw Data: Index Particiant 3 (Difference)')\n",
    "axs[1, 1].plot(inv_p4.diff())\n",
    "axs[1, 1].set_title('Raw Data: Index Particiant 4 (Difference)')\n",
    "fig.subplots_adjust(wspace=0.4,hspace=0.5)\n"
   ]
  },
  {
   "cell_type": "code",
   "execution_count": null,
   "metadata": {
    "scrolled": true
   },
   "outputs": [],
   "source": [
    "df_issue = pd.read_csv(root+\"Participant1/2021-07-03/rg_20210703-070405.csv\")\n",
    "df_issue[\"activity\"].value_counts() # FT low sampling rate poroblem 1      96."
   ]
  },
  {
   "cell_type": "markdown",
   "metadata": {},
   "source": [
    "## Signal Processing functions for the paper pipeline"
   ]
  },
  {
   "cell_type": "code",
   "execution_count": null,
   "metadata": {
    "scrolled": true
   },
   "outputs": [],
   "source": [
    "# Takes: An n-dimentional numpy array.\n",
    "# Returns: yf,xf,AMP where yf is the scipi.fft() output, xf is the frequencies of the given fft, and AMP is the amplitude of the given fft. \n",
    "def my_fft(df_finger_tapping_2_5_index_norm,Fs):\n",
    "    print(\"my_fft(): df_finger_tapping_2_5_index_norm \",len(df_finger_tapping_2_5_index_norm))\n",
    "    N = len(df_finger_tapping_2_5_index_norm)\n",
    "    yf = scipy.fftpack.fft(df_finger_tapping_2_5_index_norm,n=N)\n",
    "    # n, period of the signal.\n",
    "    #print(\"my_fft() N//2: \",N//2)\n",
    "    xf = scipy.fftpack.fftfreq(N,1/Fs)[:N//2] # get the frequency component Fs = 40 Hz\n",
    "    #print(\"my_fft() xf:\",xf)\n",
    "    #print(\"xf: \",xf)\n",
    "    AMP= 2.0/N * np.abs(yf[0:N//2])\n",
    "    #print(\"AMP: \",AMP)\n",
    "    return yf,xf,AMP\n"
   ]
  },
  {
   "cell_type": "code",
   "execution_count": null,
   "metadata": {
    "scrolled": true
   },
   "outputs": [],
   "source": [
    "# Takes : the fft() output yf.\n",
    "# Returns: Filtered singal.\n",
    "def frequency_filtering(yf,max_amp_index,len_data):\n",
    "    bounds = 2\n",
    "    high_freq_fft = yf.copy()\n",
    "    high_freq_fft[:max_amp_index-bounds] = 0\n",
    "    high_freq_fft[max_amp_index+bounds:] = 0\n",
    "    filtered_sig = scipy.fftpack.ifft(high_freq_fft,n=len_data)#,\n",
    "    return filtered_sig\n"
   ]
  },
  {
   "cell_type": "code",
   "execution_count": null,
   "metadata": {},
   "outputs": [],
   "source": [
    "\n",
    "def time_based_peak_detect(df_finger_tapping_2_5_index_norm):\n",
    "    indices,properties_peaks = find_peaks(df_finger_tapping_2_5_index_norm, height=np.quantile(df_finger_tapping_2_5_index_norm, 0.50))\n",
    "   # print(\"Number of Peaks in time based: \", len(indices))\n",
    "    # find the widths of the peak detected by the random peak detector.\n",
    "    peak_width = peak_widths(df_finger_tapping_2_5_index_norm, indices,rel_height=0.5)\n",
    "    width_threshold = peak_width[0].mean()\n",
    "    # get peak indicies of the raw signal based on the width parameter.\n",
    "    indicies_p2, properties_peaks_p2 =find_peaks(df_finger_tapping_2_5_index_norm, height=np.quantile(df_finger_tapping_2_5_index_norm, 0.50),width =width_threshold)\n",
    "    peaks_timebased =[df_finger_tapping_2_5_index_norm[j] for j in indicies_p2]\n",
    "    # peaks_timebased:  Peaks on df_finger_tapping_2_5_index_norm (Raw Data)\n",
    "    return width_threshold, indices, peak_width[0],indicies_p2,peaks_timebased\n",
    "\n"
   ]
  },
  {
   "cell_type": "code",
   "execution_count": null,
   "metadata": {},
   "outputs": [],
   "source": [
    "def moving_average(X, window_size):\n",
    "    X_new =[]\n",
    "    # end_index = window_size\n",
    "    for i, value in enumerate(X):\n",
    "        #print(\"index, value\",i, value)\n",
    "        X_new.insert(i, sum(X[i:i+window_size])/len(X[i:i+window_size]))\n",
    "    return X_new\n",
    "        "
   ]
  },
  {
   "cell_type": "code",
   "execution_count": null,
   "metadata": {},
   "outputs": [],
   "source": [
    "def butter_bandpass(lowcut, highcut, fs, order=5):\n",
    "    nyq = 0.5 * fs\n",
    "    low = lowcut / nyq\n",
    "    high = highcut / nyq\n",
    "    b, a = butter(order, [low, high], btype='band')\n",
    "    return b, a\n",
    "\n"
   ]
  },
  {
   "cell_type": "code",
   "execution_count": null,
   "metadata": {},
   "outputs": [],
   "source": [
    "\n",
    "def butter_bandpass_filter(data, lowcut, highcut, fs, order=5):\n",
    "    b, a = butter_bandpass(lowcut, highcut, fs, order=order)\n",
    "    y = lfilter(b, a, data)\n",
    "    return y"
   ]
  },
  {
   "cell_type": "code",
   "execution_count": null,
   "metadata": {},
   "outputs": [],
   "source": [
    "# df_finger_tapping - takes in the time columns form the finger tapping task dataframe.\n",
    "# Returns Fs, num_samples_2 - total number of samples,start_idx,end_idx\n",
    "def crop_dataset(df_finger_tapping):\n",
    "    st_time = df_finger_tapping[\"time\"].iloc[0]\n",
    "    stop_time = df_finger_tapping[\"time\"].iloc[df_finger_tapping.shape[0]-1]\n",
    "    total_time_nano = stop_time - st_time\n",
    "    total_sec = total_time_nano/1000000000\n",
    "    Fs = df_finger_tapping.shape[0]/round(total_sec, 2) # int(total_sec)\n",
    "    print(\"Sampling Frequency (Fs =): \", Fs)\n",
    "    num_samples_2 = Fs*2.5\n",
    "    print(\"num_samples_2: Fs*2.5 \",num_samples_2)\n",
    "    # Subset 2.5 seconds of data.\n",
    "    start_idx = 100\n",
    "    end_idx = start_idx+int(num_samples_2)\n",
    "    return Fs, num_samples_2,start_idx,end_idx "
   ]
  },
  {
   "cell_type": "code",
   "execution_count": null,
   "metadata": {},
   "outputs": [],
   "source": [
    "########################################################\n",
    "# Sanity check if the moving average filter is working.\n",
    "########################################################\n",
    "# Get x values of the sine wave\n",
    "time        = np.arange(0, 10, 0.1);\n",
    "# Amplitude of the sine wave is sine of a variable like time\n",
    "amplitude   = np.sin(time)\n",
    "# Plot a sine wave using time and amplitude obtained for the sine wave\n",
    "plt.plot(time, amplitude)\n",
    "########################################################\n",
    "# Apply Filter.\n",
    "########################################################\n",
    "window_size = 5\n",
    "X_new = moving_average(amplitude,window_size)\n",
    "plt.plot(X_new)"
   ]
  },
  {
   "cell_type": "code",
   "execution_count": null,
   "metadata": {},
   "outputs": [],
   "source": [
    "df_p1_plot = pd.read_csv(\"/Users/shehjarsadhu/Desktop/UniversityOfRhodeIsland/Graduate/WBL/Project_IOTEX/iotex-glove/PD/Participant1/2021-06-24/rg_20210624-170825.csv\")\n",
    "\n",
    "df_finger_tapping = df_p1_plot[df_p1_plot[\"activity\"]==1]\n"
   ]
  },
  {
   "cell_type": "code",
   "execution_count": null,
   "metadata": {
    "tags": []
   },
   "outputs": [],
   "source": []
  },
  {
   "cell_type": "raw",
   "metadata": {},
   "source": []
  },
  {
   "cell_type": "code",
   "execution_count": null,
   "metadata": {
    "scrolled": true
   },
   "outputs": [],
   "source": [
    "# Returns a list of filepaths and date IDs at which the exercises were performed.\n",
    "def process_iotex_data(participant_id,results_file_name):\n",
    "    np.set_printoptions(suppress=True) # to get only numeric notations. \n",
    "    df_rg_paths = pd.read_csv(root_results_write + results_file_name) # reaults_file - results_p2.csv\n",
    "    # print(df_rg_paths[\"Participant\"])\n",
    "    df_rg_paths = df_rg_paths[df_rg_paths[\"Participant\"]==participant_id]\n",
    "    df_rg_paths = df_rg_paths[df_rg_paths[\"NOT\"]!=\"X\"]\n",
    "    df_rg_paths = df_rg_paths[df_rg_paths[\"MedStatus\"]!=\"X\"]\n",
    "    df_rg_paths[\"Stage1_Random_Peaks\"] = np.linspace(-911, -911, num=df_rg_paths.shape[0], endpoint=False)\n",
    "    df_rg_paths[\"TimeBasedPD\"] = np.linspace(-911, -911, num=df_rg_paths.shape[0], endpoint=False)\n",
    "    df_rg_paths[\"FrequencyBasedPD\"] = np.linspace(-911, -911, num=df_rg_paths.shape[0], endpoint=False)\n",
    "    df_rg_paths[\"width_threshold\"] = np.linspace(-911, -911, num=df_rg_paths.shape[0], endpoint=False)\n",
    "    df_rg_paths[\"SNR_mean_std\"] = np.linspace(-911, -911, num=df_rg_paths.shape[0], endpoint=False)\n",
    "    df_rg_paths['SNR_Filtered'] = np.linspace(-911, -911, num=df_rg_paths.shape[0], endpoint=False)\n",
    "    # Time interval.\n",
    "    peak2peak_diff_freq_list = []\n",
    "    peak2peak_diff_time_list = []\n",
    "    \n",
    "    # Amplitude interval.\n",
    "    p2p_amplitude_freq = []\n",
    "    p2p_amplitude_time = []\n",
    "    \n",
    "    # Peak amplitudes\n",
    "    peakamp_list_per_session = [] # frequency based.\n",
    "    peakamp_list_per_session_timeBased = []\n",
    "    file_name_list = []\n",
    "    med_time_list = []\n",
    "    feel_medicaiton_list = []\n",
    "    feel_medication_list = []\n",
    "    width_threshold_list = []\n",
    "    #print(\"df_rg_paths: \",df_rg_paths)\n",
    "    for index, row in df_rg_paths.iterrows():\n",
    "        print(\"\",index, row[\"Participant\"] +\"/\"+ row[\"DateList\"] + \"/\" + row[\"FileName\"],\"===========================\")\n",
    "        if row[\"FileName\"] != \"rg_20210703-070405.csv\":\n",
    "            if row[\"FileName\"] != \"lg_20211029-153037.csv\": #if row[\"FileName\"] != \"lg_20211029-153037.csv\":\n",
    "                df = pd.read_csv(root+row[\"Participant\"] +\"/\"+ row[\"DateList\"] + \"/\" + row[\"FileName\"])\n",
    "                df_med = pd.read_fwf(root+row[\"Participant\"] +\"/\"+ row[\"DateList\"] + \"/\" + row[\"MedStatus\"],header=None,ignore_index = True)\n",
    "                df_rg_paths.at[index,'tremor'] = int(df_med.loc[0].values[0].split(\"=\")[1])\n",
    "                df_rg_paths.at[index,'dyskinesia'] =int(df_med.loc[1].values[0].split(\"=\")[1])\n",
    "                df_rg_paths.at[index,'bands_difficulty'] =int(df_med.loc[2].values[0].split(\"=\")[1])\n",
    "                df_rg_paths.at[index,'sleep_quality'] =int(df_med.loc[3].values[0].split(\"=\")[1])\n",
    "                df_rg_paths.at[index,'time_since_medication'] =df_med.loc[4].values[0].split(\"=\")[1]\n",
    "                print(\"Time Since Medication : \",df_med.loc[4].values[0].split(\"=\")[1])\n",
    "                df_rg_paths.at[index,'feel_medication'] = df_med.loc[5].values[0].split(\"=\")[1]\n",
    "                if df_med.loc[4].values[0].split(\"=\")[1] == \"4_plus\"or df_med.loc[4].values[0].split(\"=\")[1] == \"0_to_1_hrs\":\n",
    "                    df_rg_paths.at[index,'med_on_off'] = 0 # MED OFF\n",
    "                if df_med.loc[4].values[0].split(\"=\")[1] == \"1_to_2_hrs\" or df_med.loc[4].values[0].split(\"=\")[1] == \"2_to_3_hrs\" :\n",
    "                    df_rg_paths.at[index,'med_on_off'] = 1 # MED ON\n",
    "#         # Subset the Finger tapping activity.\n",
    "        #################### ------------------------ SUBSET DATA ------------------------ ####################\n",
    "        if row[\"FileName\"].startswith(\"rg_\"):\n",
    "            df_finger_tapping = df[df[\"activity\"]==1]\n",
    "        if row[\"FileName\"].startswith(\"lg_\"):\n",
    "             df_finger_tapping = df[df[\"activity\"]==0]\n",
    "        #################### ------------------------ PREPROCESSING ------------------------ ####################\n",
    "        if df_finger_tapping.shape[0]>0: # If data is present.            \n",
    "            Fs, num_samples_2,start_idx,end_idx = crop_dataset(df_finger_tapping)\n",
    "            if int(num_samples_2)>=30: # Number of samples should be >= 30. \n",
    "                df_rg_paths.at[index,'AchievedSR'] = Fs\n",
    "                # 1) CROP DATA TO 2.5 Seconds and invert it.\n",
    "                df_finger_tapping_2_5 = df_finger_tapping[start_idx:end_idx]*-1 # invert the signal *-1.\n",
    "                time_stamp = df_finger_tapping_2_5[\"time\"]*-1\n",
    "                # 2) DETREND\n",
    "                detrended_signal = signal.detrend(df_finger_tapping_2_5[\"index\"])\n",
    "                # 3) NORMALIZE\n",
    "                df_finger_tapping_2_5_index_norm = (detrended_signal-np.min(detrended_signal))/(np.max(detrended_signal)-np.min(detrended_signal))\n",
    "                # 4) BAND PASS 1-5 Hz\n",
    "                band_pass_filtered = butter_bandpass_filter(df_finger_tapping_2_5_index_norm, 1, 5, Fs, order=5)\n",
    "                # 5) MOVIING AVERAGE \n",
    "                mov_average_filt = moving_average(band_pass_filtered, 5) #scipy.signal.medfilt(df_finger_tapping_2_5_index_norm[0], kernel_size=9)\n",
    "\n",
    "                ######################################################################################################################\n",
    "                #################### ------------------------ TIME BASED ------------------------ ####################\n",
    "                ######################################################################################################################                width_threshold, indices, peak_width, indicies_p2, peaks_timebased = time_based_peak_detect(mov_average_filt)\n",
    "                # peak detector on moving average filter. \n",
    "                # Stage 2 peaks - indicies_p2, peaks_timebased\n",
    "                width_threshold, indices, peak_width, indicies_p2, peaks_timebased = time_based_peak_detect(mov_average_filt)\n",
    "                # append to create a list of lists of time based detected peaks.\n",
    "                peakamp_list_per_session_timeBased.append(peaks_timebased)\n",
    "                peak_width_time = [i/Fs for i in peak_width] #Fs=. 1/period.\n",
    "                # append output resutls to a df. # Time sapce converted values. \n",
    "                width_threshold_list.append(peak_width_time) \n",
    "                df_rg_paths.at[index,'TimeBased']   =len(indicies_p2)\n",
    "                df_rg_paths.at[index,'width_threshold'] =width_threshold \n",
    "                peak2peak_diff_time = [peaks_timebased[i + 1] - peaks_timebased[i] for i in range(len(peaks_timebased)-1)]\n",
    "                \n",
    "                time_at_peak_time_based = [time_stamp.to_list()[j] for j in indicies_p2]\n",
    "                time_differences_p2p_time_based = [x - time_at_peak_time_based[i - 1] for i, x in enumerate(time_at_peak_time_based)][1:]\n",
    "                p2p_amp_differences_timebased = [x - peaks_timebased[i - 1] for i, x in enumerate(peaks_timebased)][1:] # p2p amplitude differences in time based.\n",
    "                peak_to_peak_seconds_timeBased = [val/1000000000 for val in time_differences_p2p_time_based] # convert difference to seconds.\n",
    "                print(\"Time Based p2p time in seconds : \",peak_to_peak_seconds_timeBased)\n",
    "                peak2peak_diff_time_list.append(peak_to_peak_seconds_timeBased)\n",
    "                p2p_amplitude_time.append(p2p_amp_differences_timebased)\n",
    "            \n",
    "                ######################################################################################################################\n",
    "                #################### ------------------------ FREQUENCY BASED FILTERING------------------------ ####################\n",
    "                ######################################################################################################################\n",
    "                yf,xf,AMP = my_fft(mov_average_filt,Fs)\n",
    "                mov_average_filt_minus = np.negative(np.array(mov_average_filt))\n",
    "                minus_yf,minus_xf,minus_AMP = my_fft(mov_average_filt_minus,Fs)\n",
    "                while minus_xf[minus_AMP.argmax()]<3:\n",
    "                    minus_AMP[minus_AMP.argmax()] = 0\n",
    "                print(\"Dominant Frequency:AMP.argmax() Negative \",minus_xf[minus_AMP.argmax()])\n",
    "\n",
    "                while xf[AMP.argmax()]<3:\n",
    "                    AMP[AMP.argmax()] = 0\n",
    "                    \n",
    "                print(\"Dominant Frequency:AMP.argmax()  \",xf[AMP.argmax()])\n",
    "                print(\"Maximum amplitude index: - \",np.array(AMP).argmax())\n",
    "\n",
    "                filtered_sig = frequency_filtering(yf,np.array(AMP).argmax(),len(mov_average_filt)) # Filtered signal based on inverse fft and dominant frequency component.\n",
    "                width_threshold_freq, indices_freq, peak_width_freq, indicies_p2_freq, peaks_timebased_freq = time_based_peak_detect(filtered_sig.real)\n",
    "                # Find Peaks in the filtered singal.\n",
    "                indicies_p2_freq,properties_peaks = find_peaks(filtered_sig.real, height=np.quantile(filtered_sig.real, 0.50))\n",
    "                peaks_timebased_freq = [filtered_sig.real[j] for j in indicies_p2_freq] \n",
    "                raw_data_peaks = [mov_average_filt[j] for j in indicies_p2_freq]\n",
    "                print(\"time_stamp FT\",len(time_stamp),time_stamp.to_list()[0])\n",
    "                # total_time_nano = stop_time - st_time\n",
    "                # total_sec = total_time_nano/1000000000\n",
    "                time_at_peak = [time_stamp.to_list()[j] for j in indicies_p2_freq]\n",
    "                time_differences = [x - time_at_peak[i - 1] for i, x in enumerate(time_at_peak)][1:]\n",
    "                \n",
    "                p2p_amp_differences_freq = [x - raw_data_peaks[i - 1] for i, x in enumerate(raw_data_peaks)][1:]\n",
    "                peak_to_peak_seconds = [val/1000000000 for val in time_differences] # convert difference to seconds.\n",
    "\n",
    "                peak2peak_diff_freq_list.append(peak_to_peak_seconds)\n",
    "                \n",
    "                p2p_amplitude_freq.append(p2p_amp_differences_freq) # p2p amplitude differences in frequency based.\n",
    "                \n",
    "                print(\"Frequency Based P2P amplitude differences: \",p2p_amp_differences_freq)\n",
    "                print(\"peak_to_peak_seconds: \",peak_to_peak_seconds)\n",
    "                #freqs, times, spectrogram = signal.spectrogram(mov_average_filt)\n",
    "#                 freqs, psd = signal.welch(mov_average_filt,nperseg=1024)\n",
    "#                 print(\"signal.welch(mov_average_filt) psd: \",np.array(psd).argmax(),\"PSD freq: \",freqs[np.array(psd).argmax()])\n",
    "#                 plt.figure(figsize=(5, 4))\n",
    "#                 plt.title('Spectrogram')\n",
    "#                 plt.ylabel('Frequency band')\n",
    "#                 plt.xlabel('Time window')\n",
    "#                 plt.tight_layout()\n",
    "#########################################################################################################################################################################################################################\n",
    "#                                                     PLOTTING \n",
    "#########################################################################################################################################################################################################################\n",
    "                title_font = 12\n",
    "                axis_font = 40\n",
    "                font = {'family' : 'Sans'}\n",
    "                plt.rc('font', **font)\n",
    "                plt.rc('xtick', labelsize=50) \n",
    "                plt.rc('ytick', labelsize=50) \n",
    "\n",
    "                fig, axs  = plt.subplots(4,figsize=(10, 20))\n",
    "                # wspace = 0.2   # the amount of width reserved for blank space between subplots\n",
    "                #hspace = 0.2   # the amount of height reserved for white space between subplots\n",
    "                plt.subplots_adjust(hspace = 0.5) # top=0.8-> for top title spacing.\n",
    "                axs[0].plot(band_pass_filtered,color=\"#171ad1\",linestyle = '--',label  = \"BandPass\")\n",
    "                axs[0].plot(mov_average_filt,color=\"#171ad1\",linewidth =4,label  = \"MovingAverage\")\n",
    "                \n",
    "                axs[1].plot(filtered_sig.real,color=\"blue\",linewidth =4,label  = \"Frequency Filtered\")\n",
    "#                 axs[1].scatter(indicies_p2_freq,peaks_timebased_freq,marker=\"o\",s=100,color=\"#ff1a00\",label  = \"Frequency Peaks\")  \n",
    "                \n",
    "                axs[2].plot(xf,AMP,color=\"#171ad1\",linewidth =4,label  = \"FFT\")\n",
    "                \n",
    "                axs[3].plot(mov_average_filt,color=\"#2aa82a\",linewidth =4,label  = \"MovingAverage\")\n",
    "#                 axs[3].scatter(indicies_p2_freq, raw_data_peaks,marker=\"o\",s=50,color =\"#ed1a02\",label  = \"Frequency Peaks For Raw Data\")\n",
    "#                 axs[3].scatter( indicies_p2, peaks_timebased,marker=\"X\",s=100,color=\"blue\",label  = \"Time Peaks\")\n",
    "#                 axs[3].axhline(y = np.quantile(mov_average_filt, 0.50), color = 'blue', linestyle = '--')\n",
    "\n",
    "#                 plt.xticks(fontsize=25)\n",
    "                #plt.legend(bbox_to_anchor=(1.02, 1), loc='upper left', borderaxespad=0)\n",
    "                #plt.legend(bbox_to_anchor=(1.02, 1), loc='upper left', borderaxespad=0)\n",
    "                plt.show()\n",
    "                \n",
    "\n",
    "#########################################################################################################################################################################################################################\n",
    "                # Calculate the peak to peak differencs in freequency based filtereing method.\n",
    "                file_name_list.append(row[\"FileName\"])\n",
    "                med_time_list.append(df_med.loc[4].values[0].split(\"=\")[1])\n",
    "                feel_medicaiton_list.append(df_med.loc[5].values[0].split(\"=\")[1])\n",
    "                # Append results to a pandas data frame.\n",
    "                df_rg_paths.at[index,'TimeBasedPD'] = len(peaks_timebased)\n",
    "                df_rg_paths.at[index,'FrequencyBasedPD'] = len(raw_data_peaks) #len(peak2peak_diff_freq)\n",
    "                df_rg_paths.at[index,'DominantFreq'] = xf[AMP.argmax()]\n",
    "                df_rg_paths.at[index,'SNR_mean_std'] = abs(df_finger_tapping_2_5[\"index\"].mean()/df_finger_tapping_2_5[\"index\"].std())\n",
    "                df_rg_paths.at[index,'SNR_Filtered'] =  mean(mov_average_filt)/statistics.pstdev(mov_average_filt)\n",
    "                df_rg_paths.at[index,'PeakAmplitudeMean'] =mean(raw_data_peaks)\n",
    "                df_rg_paths.at[index,'PeakAmplitudeMax'] =mean(raw_data_peaks)\n",
    "                df_rg_paths.at[index,'PeakAmplitudeMin'] = min(raw_data_peaks)\n",
    "                df_rg_paths.at[index,'PeakAmplitudeStd'] = statistics.pstdev(raw_data_peaks)\n",
    "                df_rg_paths.at[index,'PeakAmplitude']  = str(raw_data_peaks)\n",
    "                print(\"Skewness: \",skew(AMP, axis=0, bias=True))\n",
    "                print(\"Kurtosis: \",kurtosis(AMP, axis=0, bias=True))\n",
    "                df_rg_paths.at[index,'KurtosisFFT'] = kurtosis(AMP, axis=0, bias=True)\n",
    "                df_rg_paths.at[index,'SkewnessFFT'] = skew(AMP, axis=0, bias=True)\n",
    "                auto_correlation = scipy.signal.correlate(df_finger_tapping_2_5_index_norm, df_finger_tapping_2_5_index_norm, mode='full', method='auto')\n",
    "        p2p_freq_df = pd.DataFrame(peak2peak_diff_freq_list)\n",
    "        p2p_time_df = pd.DataFrame(peak2peak_diff_time_list) \n",
    "        withd_threshold_df = pd.DataFrame(width_threshold_list)\n",
    "        #  Amplitude interval.\n",
    "        p2p_amplitude_freq_df = pd.DataFrame(p2p_amplitude_freq) # p2p difference in amplitude for frequency based\n",
    "        p2p_amplitude_time_df = pd.DataFrame(p2p_amplitude_time)\n",
    "    \n",
    "        peak_amnplitude_df_freq = pd.DataFrame(p2p_amplitude_freq)\n",
    "        peak_amnplitude_df_timebased = pd.DataFrame(peakamp_list_per_session_timeBased)\n",
    "        peak_amnplitude_df_timebased[\"filename\"] =file_name_list\n",
    "        peak_amnplitude_df_timebased[\"med_time\"]=med_time_list\n",
    "        peak_amnplitude_df_timebased[\"med_feel\"]=feel_medicaiton_list\n",
    "        peak_amnplitude_df_freq[\"filename\"]=file_name_list\n",
    "        peak_amnplitude_df_freq[\"med_time\"]=med_time_list\n",
    "        peak_amnplitude_df_freq[\"med_feel\"]=feel_medicaiton_list\n",
    "        p2p_amplitude_freq_df[\"med_feel\"] = file_name_list\n",
    "        p2p_amplitude_freq_df[\"med_time\"] = med_time_list\n",
    "        \n",
    "        p2p_amplitude_time_df[\"med_feel\"] = file_name_list\n",
    "        p2p_amplitude_time_df[\"med_time\"] = med_time_list\n",
    "        \n",
    "        withd_threshold_df[\"filename\"] = file_name_list\n",
    "        withd_threshold_df[\"med_time\"] = med_time_list\n",
    "        withd_threshold_df[\"med_feel\"] = feel_medicaiton_list\n",
    "        p2p_time_df[\"med_feel\"] = file_name_list\n",
    "        p2p_time_df[\"med_time\"] = med_time_list\n",
    "        \n",
    "        p2p_time_df[\"med_feel\"] = feel_medicaiton_list\n",
    "        p2p_freq_df[\"filename\"] =  file_name_list\n",
    "        \n",
    "        p2p_freq_df[\"med_time\"] = med_time_list\n",
    "        p2p_freq_df[\"med_feel\"] = feel_medicaiton_list\n",
    "        \n",
    "#df_rg_paths,= over all results for all the files all_results.\n",
    "#peak_amnplitude_df_timebased - All the Peak amplitudes of Time based peak detector\n",
    "#peak_amnplitude_df_freq - All the Peak amplitudes of Frequency based peak detector\n",
    "# *** p2p_time_df - Time based p2p difference in time.\n",
    "# *** p2p_freq_df - Frequency based p2p difference in time.\n",
    "#p2p_amplitude_freq_df - # Frequency based  p2p difference in amplitude.\n",
    "\n",
    "    return df_rg_paths, peak_amnplitude_df_timebased,peak_amnplitude_df_freq,p2p_time_df,p2p_freq_df,p2p_amplitude_freq_df,p2p_amplitude_time_df  #p2p_freq_df,p2p_time_df,withd_threshold_df,peak_amnplitude_df_freq,peak_amnplitude_df_timebased,peak_amnplitude_df_freq  # Row is Session number, columsn are peak indexes\n",
    "\n",
    "\n",
    "    \n",
    "    "
   ]
  },
  {
   "cell_type": "code",
   "execution_count": null,
   "metadata": {
    "scrolled": true
   },
   "outputs": [],
   "source": []
  },
  {
   "cell_type": "code",
   "execution_count": null,
   "metadata": {
    "scrolled": true
   },
   "outputs": [],
   "source": [
    "output_file_results = \"/Users/shehjarsadhu/Desktop/UniversityOfRhodeIsland/Graduate/WBL/Project_IOTEX/Results_Out\"\n"
   ]
  },
  {
   "cell_type": "code",
   "execution_count": null,
   "metadata": {},
   "outputs": [],
   "source": []
  },
  {
   "cell_type": "code",
   "execution_count": null,
   "metadata": {
    "scrolled": true
   },
   "outputs": [],
   "source": [
    "#df_rg_paths,= over all results for all the files all_results.\n",
    "#peak_amnplitude_df_timebased - All the Peak amplitudes of Time based peak detector\n",
    "#peak_amnplitude_df_freq - All the Peak amplitudes of Frequency based peak detector\n",
    "# *** p2p_time_df - Time based p2p difference in time.\n",
    "# *** p2p_freq_df - Frequency based p2p difference in time.\n",
    "#p2p_amplitude_freq_df - # Frequency based  p2p difference in amplitude.\n",
    "\n",
    "results_p1, peak_amnplitude_df_timebased,peak_amnplitude_df_freq,p2p_time_df,p2p_freq_df,p2p_amplitude_freq_df,p2p_amplitude_time_df = process_iotex_data(\"Participant1\",\"results_p1.csv\")\n",
    "\n",
    "\n"
   ]
  },
  {
   "cell_type": "code",
   "execution_count": null,
   "metadata": {},
   "outputs": [],
   "source": [
    "results_p1.shape[0] + results_p2.shape[0] + results_p3.shape[0] + results_p4.shape[0]"
   ]
  },
  {
   "cell_type": "code",
   "execution_count": null,
   "metadata": {},
   "outputs": [],
   "source": [
    "results_p1.shape"
   ]
  },
  {
   "cell_type": "code",
   "execution_count": null,
   "metadata": {},
   "outputs": [],
   "source": [
    "results_p2.shape"
   ]
  },
  {
   "cell_type": "code",
   "execution_count": null,
   "metadata": {},
   "outputs": [],
   "source": [
    "results_p3.shape"
   ]
  },
  {
   "cell_type": "code",
   "execution_count": null,
   "metadata": {},
   "outputs": [],
   "source": [
    "results_p4.shape"
   ]
  },
  {
   "cell_type": "code",
   "execution_count": null,
   "metadata": {},
   "outputs": [],
   "source": [
    "results_p1[\"time_since_medication\"].value_counts()"
   ]
  },
  {
   "cell_type": "code",
   "execution_count": null,
   "metadata": {},
   "outputs": [],
   "source": [
    "results_p2[\"time_since_medication\"].value_counts()"
   ]
  },
  {
   "cell_type": "code",
   "execution_count": null,
   "metadata": {},
   "outputs": [],
   "source": [
    "results_p3[\"time_since_medication\"].value_counts()"
   ]
  },
  {
   "cell_type": "code",
   "execution_count": null,
   "metadata": {},
   "outputs": [],
   "source": [
    "results_p4[\"time_since_medication\"].value_counts()"
   ]
  },
  {
   "cell_type": "code",
   "execution_count": null,
   "metadata": {},
   "outputs": [],
   "source": [
    "# results_p1.to_csv(output_file_results+\"results_p1.csv\",index=0)\n",
    "# peak2peak_diff_freq_list1.to_csv(output_file_results+\"results_p1_p2pdiff_freq.csv\",index=0)\n",
    "# peak2peak_diff_time_list1.to_csv(output_file_results+\"results_p1_p2pdiff_time.csv\",index=0)\n",
    "# withd_threshold_df.to_csv(output_file_results+\"results_p1_width_threshold.csv\",index=0)\n",
    "# peak_amnplitude_df_freq.to_csv(output_file_results+\"results_p1_peak_amplitude_frequency.csv\",index=0)\n",
    "# peak_amnplitude_df_timebased.to_csv(output_file_results+\"results_p1_peak_amplitude_time.csv\",index=0)"
   ]
  },
  {
   "cell_type": "code",
   "execution_count": null,
   "metadata": {
    "scrolled": true
   },
   "outputs": [],
   "source": [
    "# p2p_amplitude_freq_df,p2p_amplitude_time_df\n",
    "results_p2 , peak_amnplitude_df_timebased2 ,peak_amnplitude_df_freq2 ,p2p_time_df2,p2p_freq_df2,p2p_amplitude_freq_df2,p2p_amplitude_time_df2 = process_iotex_data(\"Participant2\",\"results_p2.csv\")\n",
    "\n"
   ]
  },
  {
   "cell_type": "code",
   "execution_count": null,
   "metadata": {},
   "outputs": [],
   "source": [
    "# results_p2.to_csv(output_file_results+\"results_p2.csv\",index=0)\n",
    "# peak2peak_diff_freq_list2.to_csv(output_file_results+\"results_p1_p2pdiff_freq2.csv\",index=0)\n",
    "# peak2peak_diff_time_list2.to_csv(output_file_results+\"results_p1_p2pdiff_time2.csv\",index=0)\n",
    "# withd_threshold_df2.to_csv(output_file_results+\"results_p1_width_threshold2.csv\",index=0)\n",
    "# peak_amnplitude_df_freq2.to_csv(output_file_results+\"results_p1_peak_amplitude_frequency2.csv\",index=0)\n",
    "# peak_amnplitude_df_timebased2.to_csv(output_file_results+\"results_p1_peak_amplitude_time2.csv\",index=0)\n",
    "\n"
   ]
  },
  {
   "cell_type": "code",
   "execution_count": null,
   "metadata": {
    "scrolled": true
   },
   "outputs": [],
   "source": [
    "results_p3 , peak_amnplitude_df_timebased3 ,peak_amnplitude_df_freq3 , p2p_time_df3, p2p_freq_df3,p2p_amplitude_freq_df3,p2p_amplitude_time_df3 = process_iotex_data(\"Participant3\",\"results_p3.csv\")\n",
    "\n"
   ]
  },
  {
   "cell_type": "code",
   "execution_count": null,
   "metadata": {},
   "outputs": [],
   "source": [
    "# results_p3.to_csv(output_file_results+\"results_p3.csv\",index=0)\n",
    "# peak2peak_diff_freq_list3.to_csv(output_file_results+\"results_p1_p2pdiff_freq3.csv\",index=0)\n",
    "# peak2peak_diff_time_list3.to_csv(output_file_results+\"results_p1_p2pdiff_time3.csv\",index=0)\n",
    "# withd_threshold_df3.to_csv(output_file_results+\"results_p1_width_threshold3.csv\",index=0)\n",
    "# peak_amnplitude_df_freq3.to_csv(output_file_results+\"results_p1_peak_amplitude_frequency3.csv\",index=0)\n",
    "# peak_amnplitude_df_timebased3.to_csv(output_file_results+\"results_p1_peak_amplitude_time3.csv\",index=0)\n"
   ]
  },
  {
   "cell_type": "code",
   "execution_count": null,
   "metadata": {
    "scrolled": true
   },
   "outputs": [],
   "source": [
    "results_p4 , peak_amnplitude_df_timebased4 , peak_amnplitude_df_freq4 , p2p_time_df4 , p2p_freq_df4 , p2p_amplitude_freq_df4,p2p_amplitude_time_df4 = process_iotex_data(\"Participant4\",\"results_p4.csv\")\n",
    "\n",
    "\n"
   ]
  },
  {
   "cell_type": "code",
   "execution_count": null,
   "metadata": {},
   "outputs": [],
   "source": [
    "all_results = pd.concat([results_p1,results_p2,results_p3,results_p4])\n",
    "# low sampling frequency.\n",
    "all_results = all_results[all_results[\"FileName\"]!= \"lg_20210627-093647.csv\"] \n",
    "all_results = all_results[all_results[\"FileName\"]!= \"lg_20210702-185148.csv\"]\n",
    "all_results = all_results[all_results[\"FileName\"]!= \"lg_20210705-191026.csv\"]\n",
    "all_results = all_results[all_results[\"FileName\"]!= \"lg_20210704-115503.csv\"]\n",
    "all_results = all_results[all_results[\"FileName\"]!= \"lg_20211019-214518.csv\"]\n",
    "all_results = all_results[all_results[\"FileName\"]!= \"rg_20211019-214518.csv\"]\n",
    "\n"
   ]
  },
  {
   "cell_type": "code",
   "execution_count": null,
   "metadata": {},
   "outputs": [],
   "source": [
    "df_tsm_1 = results_p1[results_p1[\"time_since_medication\"] == \"0_to_1_hrs\"]\n",
    "\n",
    "df_tsm_2 =results_p1[results_p1[\"time_since_medication\"] == \"1_to_2_hrs\"]\n",
    "df_tsm_2 =results_p1[results_p1[\"time_since_medication\"] == \"1_to_2hrs\"]\n",
    "\n",
    "df_tsm_3 =results_p1[results_p1[\"time_since_medication\"] == \"2_to_3_hrs\"]\n",
    "\n",
    "df_tsm_4 =results_p1[results_p1[\"time_since_medication\"] == \"4_plus\"]\n"
   ]
  },
  {
   "cell_type": "code",
   "execution_count": null,
   "metadata": {},
   "outputs": [],
   "source": [
    "print(\"P1: \",mean(df_tsm_1[\"DominantFreq\"].dropna()),\"P2: \",mean(df_tsm_2[\"DominantFreq\"].dropna()),\"P3: \",mean(df_tsm_3[\"DominantFreq\"].dropna()),\"P4: \",mean(df_tsm_4[\"DominantFreq\"].dropna()))\n"
   ]
  },
  {
   "cell_type": "code",
   "execution_count": null,
   "metadata": {},
   "outputs": [],
   "source": [
    "print(\"P1: \",df_tsm_1[\"DominantFreq\"].dropna().std(),\"P2: \",df_tsm_2[\"DominantFreq\"].dropna().std(),\"P3: \",df_tsm_3[\"DominantFreq\"].dropna().std(),\"P4: \",df_tsm_4[\"DominantFreq\"].dropna().std())\n"
   ]
  },
  {
   "cell_type": "code",
   "execution_count": null,
   "metadata": {},
   "outputs": [],
   "source": [
    "all_results.to_csv(\"~/Desktop/All_Results_df.csv\")"
   ]
  },
  {
   "cell_type": "code",
   "execution_count": null,
   "metadata": {},
   "outputs": [],
   "source": [
    "list_of_peak_amplitudes = []\n",
    "time_since_meds = []\n",
    "for index, values in enumerate(all_results[\"PeakAmplitude\"]):\n",
    "    print(\"values: \",type(values),all_results.iloc[index][\"FileName\"] , values)\n",
    "    if values == \"nan\":\n",
    "        pass\n",
    "    print()\n",
    "    print(\"PeakAmplitude: \",all_results.iloc[index][\"time_since_medication\"])\n",
    "\n",
    "    #  ini_list = \"[1, 2, 3, 4, 5]\" Extract the elements of the list from the string\n",
    "    elements = re.findall(r'\\d+', values)\n",
    "    print(\"elements::::: \",elements)\n",
    "    for val in elements:\n",
    "        list_of_peak_amplitudes.append(float(val))\n",
    "        time_since_meds.append(all_results.iloc[index][\"time_since_medication\"])\n",
    "        \n",
    "    "
   ]
  },
  {
   "cell_type": "code",
   "execution_count": null,
   "metadata": {},
   "outputs": [],
   "source": [
    "print(\"len(list_of_peak_amplitudes),len(time_since_meds): \",len(list_of_peak_amplitudes),len(time_since_meds))"
   ]
  },
  {
   "cell_type": "code",
   "execution_count": null,
   "metadata": {},
   "outputs": [],
   "source": [
    "# Create data frame for R code Analysis.\n",
    "df_peakamplitudes = pd.DataFrame(list(zip(list_of_peak_amplitudes,time_since_meds)),\n",
    "                 columns=[\"PeakAmplitude\",\"TimeSinceMedication\"])"
   ]
  },
  {
   "cell_type": "code",
   "execution_count": null,
   "metadata": {},
   "outputs": [],
   "source": [
    "df_peakamplitudes.to_csv(\"~/Desktop/peak_amplitudes_all.csv\")"
   ]
  },
  {
   "cell_type": "code",
   "execution_count": null,
   "metadata": {},
   "outputs": [],
   "source": [
    "# pd.DataFrame(list_of_peak_amplitudes,time_since_meds)"
   ]
  },
  {
   "cell_type": "code",
   "execution_count": null,
   "metadata": {},
   "outputs": [],
   "source": [
    "all_results[\"AchievedSR\"].mean()"
   ]
  },
  {
   "cell_type": "code",
   "execution_count": null,
   "metadata": {},
   "outputs": [],
   "source": [
    "all_results[\"AchievedSR\"].std()"
   ]
  },
  {
   "cell_type": "code",
   "execution_count": null,
   "metadata": {},
   "outputs": [],
   "source": [
    "# results_p4.to_csv(output_file_results+\"results_p4.csv\",index=0)\n",
    "# peak2peak_diff_freq_list4.to_csv(output_file_results+\"results_p1_p2pdiff_freq4.csv\",index=0)\n",
    "# peak2peak_diff_time_list4.to_csv(output_file_results+\"results_p1_p2pdiff_time4.csv\",index=0)\n",
    "# withd_threshold_df4.to_csv(output_file_results+\"results_p1_width_threshold4.csv\",index=0)\n",
    "# peak_amnplitude_df_freq4.to_csv(output_file_results+\"results_p1_peak_amplitude_frequency4.csv\",index=0)\n",
    "# peak_amnplitude_df_timebased4.to_csv(output_file_results+\"results_p1_peak_amplitude_time4.csv\",index=0)\n",
    "\n",
    "results_p1[\"time_since_medication\"].value_counts()"
   ]
  },
  {
   "cell_type": "code",
   "execution_count": null,
   "metadata": {},
   "outputs": [],
   "source": [
    "results_p2[\"time_since_medication\"].value_counts()"
   ]
  },
  {
   "cell_type": "code",
   "execution_count": null,
   "metadata": {},
   "outputs": [],
   "source": [
    "results_p3[\"time_since_medication\"].value_counts()"
   ]
  },
  {
   "cell_type": "code",
   "execution_count": null,
   "metadata": {},
   "outputs": [],
   "source": [
    "results_p4[\"time_since_medication\"].value_counts()"
   ]
  },
  {
   "cell_type": "code",
   "execution_count": null,
   "metadata": {},
   "outputs": [],
   "source": []
  },
  {
   "cell_type": "code",
   "execution_count": null,
   "metadata": {},
   "outputs": [],
   "source": [
    "results_p1 = results_p1[results_p1[\"HumanRater1\"]!=\"X\"]\n",
    "results_p1 = results_p1[results_p1[\"HumanRater2\"]!=\"X\"]\n",
    "results_p1 = results_p1[results_p1[\"Method1_TimeBased_Peaks\"]!=-911]\n",
    "results_p1 = results_p1[results_p1[\"Method3_FreqBased_Peaks\"]!=-911]"
   ]
  },
  {
   "cell_type": "code",
   "execution_count": null,
   "metadata": {},
   "outputs": [],
   "source": [
    "results_p2 = results_p2[results_p2[\"HumanRater1\"]!=\"X\"]\n",
    "results_p2 = results_p2[results_p2[\"HumanRater2\"]!=\"X\"]\n",
    "results_p2 = results_p2[results_p2[\"Method1_TimeBased_Peaks\"]!=-911]\n",
    "results_p2 = results_p2[results_p2[\"Method3_FreqBased_Peaks\"]!=-911]\n"
   ]
  },
  {
   "cell_type": "code",
   "execution_count": null,
   "metadata": {},
   "outputs": [],
   "source": [
    "results_p3.columns"
   ]
  },
  {
   "cell_type": "code",
   "execution_count": null,
   "metadata": {},
   "outputs": [],
   "source": [
    "results_p3 = results_p3[results_p3[\"HumanRater1\"]!=\"X\"]\n",
    "results_p3 = results_p3[results_p3[\"HumanRater2\"]!=\"X\"]\n",
    "results_p3 = results_p3[results_p3[\"Method1_TimeBased_Peaks\"]!=-911]\n",
    "results_p3 = results_p3[results_p3[\"Method3_FreqBased_Peaks\"]!=-911]"
   ]
  },
  {
   "cell_type": "code",
   "execution_count": null,
   "metadata": {},
   "outputs": [],
   "source": []
  },
  {
   "cell_type": "code",
   "execution_count": null,
   "metadata": {},
   "outputs": [],
   "source": [
    "results_p4 = results_p4[results_p4[\"HumanRater1\"]!=\"X\"]\n",
    "results_p4 = results_p4[results_p4[\"HumanRater2\"]!=\"X\"]\n",
    "results_p4 = results_p4[results_p4[\"Method1_TimeBased_Peaks\"]!=-911]\n",
    "results_p4 = results_p4[results_p4[\"Method3_FreqBased_Peaks\"]!=-911]"
   ]
  },
  {
   "cell_type": "code",
   "execution_count": null,
   "metadata": {},
   "outputs": [],
   "source": [
    "all_results = all_results[all_results[\"HumanRater1\"]!=\"X\"]\n",
    "all_results = all_results[all_results[\"HumanRater2\"]!=\"X\"]\n",
    "all_results = all_results[all_results[\"HumanRater1\"]!=\"nan\"]\n",
    "all_results = all_results[all_results[\"HumanRater2\"]!=\"nan\"]\n",
    "\n",
    "all_results = all_results[all_results[\"Method1_TimeBased_Peaks\"]!=-911]\n",
    "all_results = all_results[all_results[\"Method3_FreqBased_Peaks\"]!=-911]"
   ]
  },
  {
   "cell_type": "code",
   "execution_count": null,
   "metadata": {},
   "outputs": [],
   "source": [
    "all_results.columns"
   ]
  },
  {
   "cell_type": "code",
   "execution_count": null,
   "metadata": {},
   "outputs": [],
   "source": [
    "all_results[\"time_since_medication\"].value_counts()"
   ]
  },
  {
   "cell_type": "markdown",
   "metadata": {},
   "source": [
    "\n",
    "## Peak to Peak AMPLITUDE Difference"
   ]
  },
  {
   "cell_type": "code",
   "execution_count": null,
   "metadata": {},
   "outputs": [],
   "source": []
  },
  {
   "cell_type": "code",
   "execution_count": null,
   "metadata": {},
   "outputs": [],
   "source": []
  },
  {
   "cell_type": "code",
   "execution_count": null,
   "metadata": {},
   "outputs": [],
   "source": [
    "# peak_amplitude_p2p_diff(peak_amnplitude_df_freq_0_1) Run the plots helper functions to get this plot/\n",
    "# peak_amplitude_p2p_diff(peak_amnplitude_df_freq_0_1)\n",
    "# MAKE DATA FRAMES BASED ON TIME ZONES FOR ALL PARTICIPANTS.\n",
    "p2p_amplitude_freq_df[\"PID\"] =\"P1\"\n",
    "p2p_amplitude_freq_df2[\"PID\"] =\"P2\"\n",
    "p2p_amplitude_time_df3[\"PID\"] =\"P3\"\n",
    "p2p_amplitude_freq_df4[\"PID\"] =\"P4\"\n",
    "\n",
    "p1_0_1_amp = p2p_amplitude_freq_df[p2p_amplitude_freq_df[\"med_time\"]==\"0_to_1_hrs\"]\n",
    "p1_1_2_amp = p2p_amplitude_freq_df[p2p_amplitude_freq_df[\"med_time\"]==\"1_to_2hrs\"]\n",
    "p1_2_3_amp = p2p_amplitude_freq_df[p2p_amplitude_freq_df[\"med_time\"]==\"2_to_3_hrs\"]\n",
    "p1_4_plus_amp = p2p_amplitude_freq_df[p2p_amplitude_freq_df[\"med_time\"]==\"4_plus\"]\n",
    "\n",
    "p2_0_1_amp = p2p_amplitude_freq_df2[p2p_amplitude_freq_df2[\"med_time\"]==\"0_to_1_hrs\"]\n",
    "p2_1_2_amp = p2p_amplitude_freq_df2[p2p_amplitude_freq_df2[\"med_time\"]==\"1_to_2hrs\"]\n",
    "p2_2_3_amp = p2p_amplitude_freq_df2[p2p_amplitude_freq_df2[\"med_time\"]==\"2_to_3_hrs\"]\n",
    "p2_4_plus_amp = p2p_amplitude_freq_df2[p2p_amplitude_freq_df2[\"med_time\"]==\"4_plus\"]\n",
    "## Take the time based peak detector for  P3\n",
    "################################################################################################\n",
    "p3_0_1_amp = p2p_amplitude_time_df3[p2p_amplitude_time_df3[\"med_time\"]==\"0_to_1_hrs\"]\n",
    "p3_1_2_amp = p2p_amplitude_time_df3[p2p_amplitude_time_df3[\"med_time\"]==\"1_to_2hrs\"]\n",
    "p3_2_3_amp = p2p_amplitude_time_df3[p2p_amplitude_time_df3[\"med_time\"]==\"2_to_3_hrs\"]\n",
    "p3_4_plus_amp = p2p_amplitude_time_df3[p2p_amplitude_time_df3[\"med_time\"]==\"4_plus\"]\n",
    "\n",
    "################################################################################################\n",
    "p4_0_1_amp = p2p_amplitude_freq_df4[p2p_amplitude_freq_df4[\"med_time\"]==\"0_to_1_hrs\"]\n",
    "p4_1_2_amp = p2p_amplitude_freq_df4[p2p_amplitude_freq_df4[\"med_time\"]==\"1_to_2hrs\"]\n",
    "p4_2_3_amp = p2p_amplitude_freq_df4[p2p_amplitude_freq_df4[\"med_time\"]==\"2_to_3_hrs\"]\n",
    "p4_4_plus_amp = p2p_amplitude_freq_df4[p2p_amplitude_freq_df4[\"med_time\"]==\"4_plus\"]\n",
    "\n",
    "p2p_0_1_amp = pd.concat([p1_0_1_amp,p2_0_1_amp,p4_0_1_amp])\n",
    "p2p_1_2_amp = pd.concat([p1_1_2_amp,p2_1_2_amp,p4_1_2_amp])\n",
    "p2p_2_3_amp = pd.concat([p1_2_3_amp,p2_2_3_amp,p4_2_3_amp])\n",
    "p2p_4plus_amp = pd.concat([p1_4_plus_amp,p2_4_plus_amp,p4_4_plus_amp])\n",
    "\n",
    "\n",
    "hrs_0_1_amp = peak_amplitude_p2p_diff(p2p_0_1_amp)\n",
    "hrs_1_2_amp = peak_amplitude_p2p_diff(p2p_1_2_amp)\n",
    "hrs_2_3_amp = p2pplot_allsessions_inone(p2p_2_3_amp)\n",
    "hrs_4plus_amp = peak_amplitude_p2p_diff(p2p_4plus_amp)\n",
    "\n",
    "hrs_0_1_amp = [element for element in hrs_0_1_amp if str(element) != \"nan\"]\n",
    "hrs_1_2_amp = [element for element in hrs_1_2_amp if str(element) != \"nan\"]\n",
    "hrs_2_3_amp = [element for element in hrs_2_3_amp if str(element) != \"nan\"]\n",
    "hrs_4plus_amp = [element for element in hrs_4plus_amp if str(element) != \"nan\"]\n",
    "\n"
   ]
  },
  {
   "cell_type": "code",
   "execution_count": null,
   "metadata": {},
   "outputs": [],
   "source": []
  },
  {
   "cell_type": "code",
   "execution_count": null,
   "metadata": {},
   "outputs": [],
   "source": [
    "first_zone = []\n",
    "second_zone = []\n",
    "third_zone = []\n",
    "fourth_zone = []\n",
    "for i in range(len(hrs_0_1_amp)):\n",
    "        first_zone.append(\"0_1hours\")\n",
    "for i in range(len(hrs_1_2_amp)):\n",
    "        second_zone.append(\"1_2hours\")\n",
    "for i in range(len(hrs_2_3_amp)):\n",
    "        third_zone.append(\"2_3hours\")\n",
    "for i in range(len(hrs_4plus_amp)):\n",
    "        fourth_zone.append(\"4_plus_hours\")\n",
    "df_1 = pd.DataFrame(list(zip(hrs_0_1_amp,first_zone)))\n",
    "df_2 = pd.DataFrame(list(zip(hrs_1_2_amp,second_zone)))\n",
    "df_3 = pd.DataFrame(list(zip(hrs_2_3_amp,third_zone)))\n",
    "df_4 = pd.DataFrame(list(zip(hrs_4plus_amp,fourth_zone)))\n",
    "p2pampDifference_df = pd.concat([df_1,df_2,df_3,df_4])\n",
    "p2pampDifference_df.columns = [\"peakAmplitude\",\"timeSinceMedicaion\"]\n"
   ]
  },
  {
   "cell_type": "code",
   "execution_count": null,
   "metadata": {},
   "outputs": [],
   "source": []
  },
  {
   "cell_type": "code",
   "execution_count": null,
   "metadata": {},
   "outputs": [],
   "source": []
  },
  {
   "cell_type": "code",
   "execution_count": null,
   "metadata": {},
   "outputs": [],
   "source": [
    "p2pampDifference_df.to_csv(\"~/Desktop/p2p_amplitude_diff.csv\")"
   ]
  },
  {
   "cell_type": "code",
   "execution_count": null,
   "metadata": {},
   "outputs": [],
   "source": []
  },
  {
   "cell_type": "code",
   "execution_count": null,
   "metadata": {},
   "outputs": [],
   "source": []
  },
  {
   "cell_type": "code",
   "execution_count": null,
   "metadata": {},
   "outputs": [],
   "source": [
    "print(\"Peak To Peak AMPLITUDE in seconds for all participnats\")\n",
    "fig = go.Figure()\n",
    "fig.add_trace(go.Box(y=hrs_0_1_amp  , boxpoints='all', name=\"0-1\",    marker_color='rgb(7,40,89)', hovertemplate='%{y:.4f}'))\n",
    "fig.add_trace(go.Box(y=hrs_1_2_amp  , boxpoints='all',name=\"1-2\",    marker_color='rgb(42, 130, 168)',  hovertemplate='%{y:.4f}'))\n",
    "fig.add_trace(go.Box(y=hrs_2_3_amp, boxpoints='all',name=\"2-3\",    marker_color='rgb(107,174,214)', hovertemplate='%{y:.4f}' ))\n",
    "fig.add_trace(go.Box(y=hrs_4plus_amp, boxpoints='all',name=\"4 plus\",marker_color='rgb(42, 86, 168)',hovertemplate='%{y:.4f}'))\n",
    "fig.update_layout(\n",
    "    title='Peak to Peak Difference in Amplitude (N-) ',\n",
    "    paper_bgcolor='rgb(243, 243, 243)',\n",
    "    plot_bgcolor='rgb(243, 243, 243)',\n",
    "    showlegend=True,\n",
    "    yaxis = dict(\n",
    "tickfont = dict(size=30)),\n",
    "    xaxis = dict(\n",
    "tickfont = dict(size=30))\n",
    "\n",
    ")\n",
    "\n",
    "fig.show()\n"
   ]
  },
  {
   "cell_type": "code",
   "execution_count": null,
   "metadata": {},
   "outputs": [],
   "source": [
    "peak2peak_diff_freq_list1[\"PID\"] =\"P1\"\n",
    "peak2peak_diff_freq_list2[\"PID\"] =\"P2\"\n",
    "peak2peak_diff_freq_list4[\"PID\"] =\"P4\"\n"
   ]
  },
  {
   "cell_type": "code",
   "execution_count": null,
   "metadata": {},
   "outputs": [],
   "source": [
    "# peak2peak_diff_freq_list3[\"PID\"] =\"P3\"\n"
   ]
  },
  {
   "cell_type": "code",
   "execution_count": null,
   "metadata": {},
   "outputs": [],
   "source": [
    "#p2p\n",
    "def p2pplot_allsessions_inone(peak_amnplitude_df_freq_0_1):\n",
    "    list_all = []\n",
    "    for i in range(peak_amnplitude_df_freq_0_1.shape[0]):\n",
    "        for j in peak_amnplitude_df_freq_0_1.iloc[i][:12].to_list():\n",
    "            list_all.append(j)\n",
    "    return list_all"
   ]
  },
  {
   "cell_type": "code",
   "execution_count": null,
   "metadata": {},
   "outputs": [],
   "source": [
    "p2p_freq_df[\"med_time\"].value_counts()"
   ]
  },
  {
   "cell_type": "code",
   "execution_count": null,
   "metadata": {},
   "outputs": [],
   "source": [
    "# Peak to peak time in seconds.\n",
    "# results_p4 , peak_amnplitude_df_timebased4 , peak_amnplitude_df_freq4 , p2p_time_df4 , p2p_freq_df4 , p2p_amplitude_freq_df4\n",
    "\n",
    "p1_0_1 = p2p_freq_df[p2p_freq_df[\"med_time\"]==\"0_to_1_hrs\"]\n",
    "\n",
    "p1_1_2 = p2p_freq_df[p2p_freq_df[\"med_time\"]==\"1_to_2hrs\"]\n",
    "p1_1_2 = p2p_freq_df[p2p_freq_df[\"med_time\"]==\"1_to_2_hrs\"]\n",
    "\n",
    "p1_2_3 = p2p_freq_df[p2p_freq_df[\"med_time\"]==\"2_to_3_hrs\"]\n",
    "\n",
    "p1_4_plus = p2p_freq_df[p2p_freq_df[\"med_time\"]==\"4_plus\"]\n",
    "\n",
    "p2_0_1 = p2p_freq_df2[p2p_freq_df2[\"med_time\"]==\"0_to_1_hrs\"]\n",
    "p2_1_2 = p2p_freq_df2[p2p_freq_df2[\"med_time\"]==\"1_to_2hrs\"]\n",
    "p2_1_2 = p2p_freq_df2[p2p_freq_df2[\"med_time\"]==\"1_to_2_hrs\"]\n",
    "\n",
    "p2_2_3 = p2p_freq_df2[p2p_freq_df2[\"med_time\"]==\"2_to_3_hrs\"]\n",
    "\n",
    "p2_4_plus = p2p_freq_df2[p2p_freq_df2[\"med_time\"]==\"4_plus\"]\n",
    "\n",
    "## Take the time based peak detector for  P3\n",
    "p3_0_1 = p2p_time_df3[p2p_time_df3[\"med_time\"]==\"0_to_1_hrs\"]\n",
    "p3_1_2 = p2p_time_df3[p2p_time_df3[\"med_time\"]==\"1_to_2hrs\"]\n",
    "p3_1_2 = p2p_time_df3[p2p_time_df3[\"med_time\"]==\"1_to_2_hrs\"]\n",
    "\n",
    "p3_2_3 = p2p_time_df3[p2p_time_df3[\"med_time\"]==\"2_to_3_hrs\"]\n",
    "\n",
    "p3_4_plus = p2p_time_df3[p2p_time_df3[\"med_time\"]==\"4_plus\"]\n",
    "\n",
    "p4_0_1 = p2p_freq_df4[p2p_freq_df4[\"med_time\"]==\"0_to_1_hrs\"]\n",
    "p4_1_2 = p2p_freq_df4[p2p_freq_df4[\"med_time\"]==\"1_to_2hrs\"]\n",
    "p4_1_2 = p2p_freq_df4[p2p_freq_df4[\"med_time\"]==\"1_to_2_hrs\"]\n",
    "\n",
    "p4_2_3 = p2p_freq_df4[p2p_freq_df4[\"med_time\"]==\"2_to_3_hrs\"]\n",
    "\n",
    "p4_4_plus = p2p_freq_df4[p2p_freq_df4[\"med_time\"]==\"4_plus\"]\n",
    "\n",
    "p2p_0_1 = pd.concat([p1_0_1,p2_0_1,p3_0_1,p4_0_1])\n",
    "p2p_1_2 = pd.concat([p1_1_2,p2_1_2,p3_1_2,p4_1_2])\n",
    "p2p_2_3 = pd.concat([p1_2_3,p2_2_3,p3_2_3,p4_2_3])\n",
    "\n",
    "p2p_4plus = pd.concat([p1_4_plus,p2_4_plus,p3_4_plus,p4_4_plus])\n",
    "\n"
   ]
  },
  {
   "cell_type": "code",
   "execution_count": null,
   "metadata": {},
   "outputs": [],
   "source": [
    "len(p1_0_1)"
   ]
  },
  {
   "cell_type": "code",
   "execution_count": null,
   "metadata": {},
   "outputs": [],
   "source": [
    "len(p2p_4plus)"
   ]
  },
  {
   "cell_type": "code",
   "execution_count": null,
   "metadata": {},
   "outputs": [],
   "source": [
    "len(p2p_2_3)"
   ]
  },
  {
   "cell_type": "code",
   "execution_count": null,
   "metadata": {},
   "outputs": [],
   "source": []
  },
  {
   "cell_type": "code",
   "execution_count": null,
   "metadata": {},
   "outputs": [],
   "source": [
    "hrs_0_1 = p2pplot_allsessions_inone(p2p_0_1)\n",
    "hrs_1_2 = p2pplot_allsessions_inone(p2p_1_2)\n",
    "hrs_2_3 = p2pplot_allsessions_inone(p2p_2_3)\n",
    "hrs_4plus = p2pplot_allsessions_inone(p2p_4plus)\n",
    "hrs_0_1 = [element for element in hrs_0_1 if str(element) != \"nan\"]\n",
    "hrs_1_2 = [element for element in hrs_1_2 if str(element) != \"nan\"]\n",
    "hrs_2_3 = [element for element in hrs_2_3 if str(element) != \"nan\"]\n",
    "hrs_4plus = [element for element in hrs_4plus if str(element) != \"nan\"]\n",
    "\n"
   ]
  },
  {
   "cell_type": "code",
   "execution_count": null,
   "metadata": {},
   "outputs": [],
   "source": [
    "px.bar([np.std(hrs_0_1),np.std(hrs_1_2),np.std(hrs_2_3),np.std(hrs_4plus) ])\n"
   ]
  },
  {
   "cell_type": "code",
   "execution_count": null,
   "metadata": {},
   "outputs": [],
   "source": []
  },
  {
   "cell_type": "code",
   "execution_count": null,
   "metadata": {},
   "outputs": [],
   "source": []
  },
  {
   "cell_type": "code",
   "execution_count": null,
   "metadata": {},
   "outputs": [],
   "source": [
    "first_zone1 = []\n",
    "second_zone1 = []\n",
    "third_zone1 = []\n",
    "fourth_zone1 = []\n",
    "for i in range(len(hrs_0_1)):\n",
    "        first_zone1.append(\"0_1hours\")\n",
    "for i in range(len(hrs_1_2)):\n",
    "        second_zone1.append(\"1_2hours\")\n",
    "for i in range(len(hrs_2_3)):\n",
    "        third_zone1.append(\"2_3hours\")\n",
    "for i in range(len(hrs_4plus)):\n",
    "        fourth_zone1.append(\"4_plus_hours\")\n",
    "df_11 = pd.DataFrame(list(zip(hrs_0_1,first_zone1)))\n",
    "df_21 = pd.DataFrame(list(zip(hrs_1_2,second_zone1)))\n",
    "df_31 = pd.DataFrame(list(zip(hrs_2_3,third_zone1)))\n",
    "df_41 = pd.DataFrame(list(zip(hrs_4plus,fourth_zone1)))\n",
    "df_p2p_time = pd.concat([df_11,df_21,df_31,df_41])\n",
    "df_p2p_time.columns = [\"p2p_time\",\"tsm\"]\n"
   ]
  },
  {
   "cell_type": "code",
   "execution_count": null,
   "metadata": {},
   "outputs": [],
   "source": []
  },
  {
   "cell_type": "code",
   "execution_count": null,
   "metadata": {},
   "outputs": [],
   "source": [
    "df_p2p_time.to_csv(\"~/Desktop/p2p_time_seconds.csv\")\n"
   ]
  },
  {
   "cell_type": "code",
   "execution_count": null,
   "metadata": {},
   "outputs": [],
   "source": [
    "df_p2p_time[\"tsm\"].unique()"
   ]
  },
  {
   "cell_type": "code",
   "execution_count": null,
   "metadata": {},
   "outputs": [],
   "source": [
    "for i in df_p2p_time[\"p2p_time\"]:\n",
    "    print(i)"
   ]
  },
  {
   "cell_type": "code",
   "execution_count": null,
   "metadata": {},
   "outputs": [],
   "source": [
    "\n",
    "\n",
    "hist_data = [[i for i in hrs_0_1 if i >= 0.03], [i for i in hrs_1_2 if i >= 0.03],[i for i in hrs_2_3 if i >= 0.03],[i for i in hrs_4plus if i >= 0.03]]\n",
    "# Create distplot with custom bin_size\n",
    "fig = ff.create_distplot(hist_data,group_labels=['0_1hours', '1_2hours', '2_3hours', '4_plus_hours'],show_hist=False,)\n",
    "fig.show()\n"
   ]
  },
  {
   "cell_type": "code",
   "execution_count": null,
   "metadata": {},
   "outputs": [],
   "source": [
    "len(hrs_4plus)"
   ]
  },
  {
   "cell_type": "code",
   "execution_count": null,
   "metadata": {},
   "outputs": [],
   "source": [
    "len(hrs_2_3)"
   ]
  },
  {
   "cell_type": "code",
   "execution_count": null,
   "metadata": {},
   "outputs": [],
   "source": [
    "len(hrs_1_2)"
   ]
  },
  {
   "cell_type": "code",
   "execution_count": null,
   "metadata": {},
   "outputs": [],
   "source": [
    "len(hrs_0_1)"
   ]
  },
  {
   "cell_type": "code",
   "execution_count": null,
   "metadata": {},
   "outputs": [],
   "source": [
    "print(np.mean(hrs_0_1),np.std(hrs_0_1))\n",
    "print(np.mean(hrs_1_2),np.std(hrs_1_2))\n",
    "print(np.mean(hrs_2_3),np.std(hrs_2_3))\n",
    "print(np.mean(hrs_4plus),np.std(hrs_4plus))"
   ]
  },
  {
   "cell_type": "code",
   "execution_count": null,
   "metadata": {},
   "outputs": [],
   "source": []
  },
  {
   "cell_type": "code",
   "execution_count": null,
   "metadata": {},
   "outputs": [],
   "source": []
  },
  {
   "cell_type": "code",
   "execution_count": null,
   "metadata": {},
   "outputs": [],
   "source": []
  },
  {
   "cell_type": "code",
   "execution_count": null,
   "metadata": {},
   "outputs": [],
   "source": [
    "print(\"Peak To Peak time in seconds for all participnats\")\n",
    "fig = go.Figure()\n",
    "# keep only values greater than certain limit.\n",
    "fig.add_trace(go.Box(y=hrs_0_1  , boxpoints='all', # only outliers name=\"0-1\",    marker_color='rgb(7,40,89)', hovertemplate='%{y:.4f}'))\n",
    "fig.add_trace(go.Box(y=hrs_1_2   , boxpoints='all',name=\"1-2\",    marker_color='rgb(42, 130, 168)',  hovertemplate='%{y:.4f}'))\n",
    "fig.add_trace(go.Box(y=hrs_2_3, boxpoints='all',name=\"2-3\",    marker_color='rgb(107,174,214)', hovertemplate='%{y:.4f}' ))\n",
    "fig.add_trace(go.Box(y=hrs_4plus , boxpoints='all',name=\"4 plus\",marker_color='rgb(42, 86, 168)',hovertemplate='%{y:.4f}'))\n",
    "fig.update_layout(\n",
    "    title='Inter peak interval time seconds ',\n",
    "    paper_bgcolor='rgb(243, 243, 243)',\n",
    "    plot_bgcolor='rgb(243, 243, 243)',\n",
    "    showlegend=True,\n",
    "    yaxis = dict(\n",
    "tickfont = dict(size=30)),\n",
    "    xaxis = dict(\n",
    "tickfont = dict(size=30))\n",
    "\n",
    ")\n",
    "\n",
    "fig.show()\n"
   ]
  },
  {
   "cell_type": "code",
   "execution_count": null,
   "metadata": {},
   "outputs": [],
   "source": []
  },
  {
   "cell_type": "code",
   "execution_count": null,
   "metadata": {},
   "outputs": [],
   "source": [
    "len(hrs_4plus)"
   ]
  },
  {
   "cell_type": "code",
   "execution_count": null,
   "metadata": {},
   "outputs": [],
   "source": [
    "len([i for i in hrs_4plus if i >= 0.03])"
   ]
  },
  {
   "cell_type": "code",
   "execution_count": null,
   "metadata": {},
   "outputs": [],
   "source": [
    "hrs_0_1_minus =[]\n",
    "hrs_1_2_minus=[]\n",
    "hrs_2_3_minus=[]\n",
    "hrs_4plus_minus=[]\n",
    "threshold = 0.005\n",
    "for i in hrs_0_1:\n",
    "    if i >= threshold:\n",
    "        hrs_0_1_minus.append(i)\n",
    "for i in hrs_1_2:\n",
    "    if i >= threshold:\n",
    "        hrs_1_2_minus.append(i)\n",
    "             \n",
    "for i in hrs_2_3:\n",
    "    if i >= threshold:\n",
    "        hrs_2_3_minus.append(i)\n",
    "        \n",
    "for i in hrs_4plus:\n",
    "    if i >= threshold:\n",
    "        hrs_4plus_minus.append(i)\n",
    "        \n"
   ]
  },
  {
   "cell_type": "code",
   "execution_count": null,
   "metadata": {},
   "outputs": [],
   "source": [
    "print(np.mean(hrs_0_1_minus),np.std(hrs_0_1_minus))\n",
    "print(np.mean(hrs_1_2_minus),np.std(hrs_1_2_minus))\n",
    "print(np.mean(hrs_2_3_minus),np.std(hrs_2_3_minus))\n",
    "print(np.mean(hrs_4plus_minus),np.std(hrs_4plus_minus))"
   ]
  },
  {
   "cell_type": "code",
   "execution_count": null,
   "metadata": {},
   "outputs": [],
   "source": [
    "data = [hrs_0_1_minus, hrs_1_2_minus, hrs_2_3_minus, hrs_4plus_minus]\n",
    " \n",
    "fig = plt.figure(figsize =(10, 7))\n",
    " \n",
    "# Creating axes instance\n",
    "ax = fig.add_axes([0, 0, 1, 1])\n",
    " \n",
    "# Creating plot\n",
    "bp = ax.boxplot(data)\n",
    " \n",
    "# show plot\n",
    "plt.show()"
   ]
  },
  {
   "cell_type": "code",
   "execution_count": null,
   "metadata": {},
   "outputs": [],
   "source": [
    "print(\"Peak To Peak time in seconds for all participnats\")\n",
    "fig = go.Figure()\n",
    "# keep only values greater than certain limit.\n",
    "fig.add_trace(go.Box(y=hrs_0_1_minus  , boxpoints='all', name=\"0-1\",    marker_color='rgb(7,40,89)'))\n",
    "fig.add_trace(go.Box(y= hrs_1_2_minus , boxpoints='all',name=\"1-2\",    marker_color='rgb(42, 130, 168)'  ))\n",
    "fig.add_trace(go.Box(y=hrs_2_3_minus , boxpoints='all',name=\"2-3\",    marker_color='rgb(107,174,214)' ))\n",
    "fig.add_trace(go.Box(y= hrs_4plus_minus, boxpoints='all',name=\"4 plus\",marker_color='rgb(42, 86, 168)'))\n",
    "fig.update_layout(\n",
    "    title='Inter peak interval time seconds ',\n",
    "    paper_bgcolor='rgb(243, 243, 243)',\n",
    "    plot_bgcolor='rgb(243, 243, 243)',\n",
    "    showlegend=True,\n",
    "    yaxis = dict(\n",
    "tickfont = dict(size=30)),\n",
    "    xaxis = dict(\n",
    "tickfont = dict(size=30))\n",
    "\n",
    ")\n",
    "\n",
    "fig.show()\n"
   ]
  },
  {
   "cell_type": "code",
   "execution_count": null,
   "metadata": {},
   "outputs": [],
   "source": []
  },
  {
   "cell_type": "code",
   "execution_count": null,
   "metadata": {},
   "outputs": [],
   "source": []
  },
  {
   "cell_type": "code",
   "execution_count": null,
   "metadata": {},
   "outputs": [],
   "source": []
  },
  {
   "cell_type": "code",
   "execution_count": null,
   "metadata": {},
   "outputs": [],
   "source": []
  },
  {
   "cell_type": "code",
   "execution_count": null,
   "metadata": {},
   "outputs": [],
   "source": [
    "all_1_2_hours = all_results[all_results[\"time_since_medication\"]==\"1_to_2hrs\"][\"DominantFreq\"].to_list() + all_results[all_results[\"time_since_medication\"]==\"1_to_2_hrs\"][\"DominantFreq\"].to_list()\n",
    "\n"
   ]
  },
  {
   "cell_type": "code",
   "execution_count": null,
   "metadata": {},
   "outputs": [],
   "source": []
  },
  {
   "cell_type": "code",
   "execution_count": null,
   "metadata": {},
   "outputs": [],
   "source": [
    "\n",
    "all_results.to_csv(\"~/Desktop/results_all_df.csv\")"
   ]
  },
  {
   "cell_type": "code",
   "execution_count": null,
   "metadata": {},
   "outputs": [],
   "source": [
    "\n",
    "fig = go.Figure()\n",
    "fig.add_trace(go.Box(y=all_results[all_results[\"time_since_medication\"]==\"0_to_1_hrs\"][\"DominantFreq\"],marker_color='rgb(7,40,89)', boxpoints='all',name=\"0-1\"))\n",
    "fig.add_trace(go.Box(y=all_1_2_hours, boxpoints='all',name=\"1-2\",marker_color='rgb(42, 130, 168)'))\n",
    "fig.add_trace(go.Box(y=all_results[all_results[\"time_since_medication\"]==\"2_to_3_hrs\"][\"DominantFreq\"],  marker_color='rgb(107,174,214)',boxpoints='all',name=\"2-3\"))\n",
    "fig.add_trace(go.Box(y=all_results[all_results[\"time_since_medication\"]==\"4_plus\"][\"DominantFreq\"], marker_color='rgb(42, 86, 168)',boxpoints='all',name=\"4 plus\"))\n",
    "fig.update_layout(\n",
    "    title='Dominant Frequency (N=129) ',\n",
    "    paper_bgcolor='rgb(243, 243, 243)',\n",
    "    plot_bgcolor='rgb(243, 243, 243)',\n",
    "    showlegend=True,\n",
    "    yaxis = dict(\n",
    "tickfont = dict(size=30)),\n",
    "    xaxis = dict(\n",
    "tickfont = dict(size=30))\n",
    "\n",
    ")\n",
    "fig.show()\n",
    "    \n",
    "    "
   ]
  },
  {
   "cell_type": "code",
   "execution_count": null,
   "metadata": {},
   "outputs": [],
   "source": []
  },
  {
   "cell_type": "code",
   "execution_count": null,
   "metadata": {},
   "outputs": [],
   "source": []
  },
  {
   "cell_type": "code",
   "execution_count": null,
   "metadata": {},
   "outputs": [],
   "source": []
  },
  {
   "cell_type": "code",
   "execution_count": null,
   "metadata": {},
   "outputs": [],
   "source": [
    "results = pd.read_csv(\"~/Desktop/all_results.csv\")"
   ]
  },
  {
   "cell_type": "code",
   "execution_count": null,
   "metadata": {},
   "outputs": [],
   "source": [
    "results = results[results[\"HumanRater1\"]!=\"X\"]\n",
    "results = results[results[\"HumanRater2\"]!=\"X\"]\n",
    "results = results[results[\"HumanRater1\"]!=\"nan\"]\n",
    "results = results[results[\"HumanRater2\"]!=\"nan\"]\n",
    "\n",
    "results = results[results[\"Method1_TimeBased_Peaks\"]!=-911]\n",
    "results = results[results[\"Method3_FreqBased_Peaks\"]!=-911]"
   ]
  },
  {
   "cell_type": "code",
   "execution_count": null,
   "metadata": {},
   "outputs": [],
   "source": []
  },
  {
   "cell_type": "code",
   "execution_count": null,
   "metadata": {},
   "outputs": [],
   "source": [
    "# all_results\n",
    "\n",
    "fig3= go.Figure()\n",
    "fig3.add_trace(go.Bar(\n",
    "    x=results[\"FileName\"],\n",
    "    y=results[\"HumanRater1\"],\n",
    "    name='Human Rater',\n",
    "    marker_color='green'\n",
    "))\n",
    "                  \n",
    "fig3.add_trace(go.Bar(\n",
    "    x=results[\"FileName\"],\n",
    "    y= results[\"Method1_TimeBased_Peaks\"],#results_p1[results_p1.Method1_TimeBased !=-911.0],\n",
    "    name='Time Based',\n",
    "    marker_color='blue'\n",
    "))\n",
    "fig3.add_trace(go.Bar(\n",
    "    x=results[\"FileName\"],\n",
    "    y= results[\"Method3_FreqBased_Peaks\"], #results_p1[results_p1.Method3_FreqBased !=-911.0],\n",
    "    name='Frequency Based',\n",
    "    marker_color='indianred'\n",
    "))\n",
    "\n",
    "# True Positive Rate (sensitivity) - TP/TP+FN\n",
    "# True Negative Rate (specificity) - TN/TN+FP\n",
    "\n",
    "fig3.update_layout(\n",
    "        title = \"Peak Detector Accuracy\",\n",
    "\n",
    "yaxis = dict(\n",
    "tickfont = dict(size=20)),\n",
    "    xaxis = dict(\n",
    "tickfont = dict(size=20)))\n",
    "fig3.show()\n",
    "\n",
    "    "
   ]
  },
  {
   "cell_type": "code",
   "execution_count": null,
   "metadata": {},
   "outputs": [],
   "source": [
    "# all_results\n",
    "\n",
    "fig3= go.Figure()\n",
    "fig3.add_trace(go.Bar(\n",
    "    x=results[\"FileName\"],\n",
    "    y=results[\"HumanRater1\"],\n",
    "    name='Human Rater',\n",
    "    marker_color='green'\n",
    "))\n",
    "                  \n",
    "fig3.add_trace(go.Bar(\n",
    "    x=results[\"FileName\"],\n",
    "    y= results[\"Method1_TimeBased_Peaks\"],#results_p1[results_p1.Method1_TimeBased !=-911.0],\n",
    "    name='Time Based',\n",
    "    marker_color='blue'\n",
    "))\n",
    "fig3.add_trace(go.Bar(\n",
    "    x=results[\"FileName\"],\n",
    "    y= results[\"Method3_FreqBased_Peaks\"], #results_p1[results_p1.Method3_FreqBased !=-911.0],\n",
    "    name='Frequency Based',\n",
    "    marker_color='indianred'\n",
    "))\n",
    "\n",
    "# True Positive Rate (sensitivity) - TP/TP+FN\n",
    "# True Negative Rate (specificity) - TN/TN+FP\n",
    "\n",
    "fig3.update_layout(\n",
    "        title = \"Peak Detector Accuracy\",\n",
    "\n",
    "yaxis = dict(\n",
    "tickfont = dict(size=20)),\n",
    "    xaxis = dict(\n",
    "tickfont = dict(size=20)))\n",
    "fig3.show()\n",
    "\n",
    "    "
   ]
  },
  {
   "cell_type": "code",
   "execution_count": null,
   "metadata": {},
   "outputs": [],
   "source": [
    "fig = go.Figure()\n",
    "fig.add_trace(go.Box(y=results[\"RatingAverage\"], boxpoints='all',name=\"Average Human Rating\"))\n",
    "fig.add_trace(go.Box(y=results[\"Method1_TimeBased_Peaks\"], boxpoints='all',name=\"Time Based\"))\n",
    "fig.add_trace(go.Box(y=results[\"Method3_FreqBased_Peaks\"], boxpoints='all',name=\"Frequency Based\"))\n",
    "fig.update_layout(\n",
    "yaxis = dict(\n",
    "tickfont = dict(size=30)),\n",
    "    xaxis = dict(\n",
    "tickfont = dict(size=30))\n",
    "\n",
    ")\n",
    "fig.show()"
   ]
  },
  {
   "cell_type": "code",
   "execution_count": null,
   "metadata": {},
   "outputs": [],
   "source": []
  },
  {
   "cell_type": "code",
   "execution_count": null,
   "metadata": {},
   "outputs": [],
   "source": [
    "fig3= go.Figure()\n",
    "fig3.add_trace(go.Bar(\n",
    "    x=results_p1[\"FileName\"],\n",
    "    y=results_p1[\"HumanRater1\"],\n",
    "    name='Human Rater',\n",
    "    marker_color='green'\n",
    "))\n",
    "                  \n",
    "fig3.add_trace(go.Bar(\n",
    "    x=results_p1[\"FileName\"],\n",
    "    y= results_p1[\"Method1_TimeBased_Peaks\"],#results_p1[results_p1.Method1_TimeBased !=-911.0],\n",
    "    name='Time Based',\n",
    "    marker_color='blue'\n",
    "))\n",
    "fig3.add_trace(go.Bar(\n",
    "    x=results_p1[\"FileName\"],\n",
    "    y= results_p1[\"Method3_FreqBased_Peaks\"], #results_p1[results_p1.Method3_FreqBased !=-911.0],\n",
    "    name='Frequency Based',\n",
    "    marker_color='indianred'\n",
    "))\n",
    "\n",
    "fig3.show()\n",
    "# True Positive Rate (sensitivity) - TP/TP+FN\n",
    "# True Negative Rate (specificity) - TN/TN+FP\n",
    "\n"
   ]
  },
  {
   "cell_type": "code",
   "execution_count": null,
   "metadata": {},
   "outputs": [],
   "source": [
    "fig3= go.Figure()\n",
    "fig3.add_trace(go.Bar(\n",
    "    x=results_p2[\"FileName\"],\n",
    "    y=results_p2[\"HumanRater1\"],\n",
    "    name='Human Rater',\n",
    "    marker_color='green'\n",
    "))\n",
    "                  \n",
    "fig3.add_trace(go.Bar(\n",
    "    x=results_p2[\"FileName\"],\n",
    "    y= results_p2[\"Method1_TimeBased_Peaks\"],#results_p1[results_p1.Method1_TimeBased !=-911.0],\n",
    "    name='Time Based',\n",
    "    marker_color='blue'\n",
    "))\n",
    "fig3.add_trace(go.Bar(\n",
    "    x=results_p2[\"FileName\"],\n",
    "    y= results_p2[\"Method3_FreqBased_Peaks\"], #results_p1[results_p1.Method3_FreqBased !=-911.0],\n",
    "    name='Frequency Based',\n",
    "    marker_color='indianred'\n",
    "))\n",
    "\n",
    "fig3.show()\n",
    "# True Positive Rate (sensitivity) - TP/TP+FN\n",
    "# True Negative Rate (specificity) - TN/TN+FP\n",
    "\n"
   ]
  },
  {
   "cell_type": "code",
   "execution_count": null,
   "metadata": {},
   "outputs": [],
   "source": [
    "fig3= go.Figure()\n",
    "fig3.add_trace(go.Bar(\n",
    "    x=results_p3[\"FileName\"],\n",
    "    y=results_p3[\"HumanRater1\"],\n",
    "    name='Human Rater',\n",
    "    marker_color='green'\n",
    "))\n",
    "                  \n",
    "fig3.add_trace(go.Bar(\n",
    "    x=results_p3[\"FileName\"],\n",
    "    y= results_p3[\"Method1_TimeBased_Peaks\"],#results_p1[results_p1.Method1_TimeBased !=-911.0],\n",
    "    name='Time Based',\n",
    "    marker_color='blue'\n",
    "))\n",
    "fig3.add_trace(go.Bar(\n",
    "    x=results_p3[\"FileName\"],\n",
    "    y= results_p3[\"Method3_FreqBased_Peaks\"], #results_p1[results_p1.Method3_FreqBased !=-911.0],\n",
    "    name='Frequency Based',\n",
    "    marker_color='indianred'\n",
    "))\n",
    "\n",
    "fig3.show()\n",
    "# True Positive Rate (sensitivity) - TP/TP+FN\n",
    "# True Negative Rate (specificity) - TN/TN+FP\n",
    "\n"
   ]
  },
  {
   "cell_type": "code",
   "execution_count": null,
   "metadata": {},
   "outputs": [],
   "source": [
    "fig3= go.Figure()\n",
    "fig3.add_trace(go.Bar(\n",
    "    x=results_p4[\"FileName\"],\n",
    "    y=results_p4[\"HumanRater2\"],\n",
    "    name='Human Rater',\n",
    "    marker_color='green'\n",
    "))\n",
    "                  \n",
    "fig3.add_trace(go.Bar(\n",
    "    x=results_p4[\"FileName\"],\n",
    "    y= results_p4[\"Method1_TimeBased_Peaks\"],#results_p1[results_p1.Method1_TimeBased !=-911.0],\n",
    "    name='Time Based',\n",
    "    marker_color='blue'\n",
    "))\n",
    "fig3.add_trace(go.Bar(\n",
    "    x=results_p4[\"FileName\"],\n",
    "    y= results_p4[\"Method3_FreqBased_Peaks\"], #results_p1[results_p1.Method3_FreqBased !=-911.0],\n",
    "    name='Frequency Based',\n",
    "    marker_color='indianred'\n",
    "))\n",
    "\n",
    "fig3.show()\n",
    "# True Positive Rate (sensitivity) - TP/TP+FN\n",
    "# True Negative Rate (specificity) - TN/TN+FP\n",
    "  \n"
   ]
  },
  {
   "cell_type": "code",
   "execution_count": null,
   "metadata": {},
   "outputs": [],
   "source": [
    "results_p1.describe()"
   ]
  },
  {
   "cell_type": "code",
   "execution_count": null,
   "metadata": {},
   "outputs": [],
   "source": [
    "print(mean(results_p2[\"HumanRater1\"].astype('int')),results_p2[\"HumanRater1\"].astype('int').std())\n",
    "print(mean(results_p2[\"HumanRater2\"].astype('int')),results_p2[\"HumanRater2\"].astype('int').std())\n",
    "print(mean(results_p2[\"Method1_TimeBased_Peaks\"].astype('int')),results_p2[\"Method1_TimeBased_Peaks\"].astype('int').std())\n",
    "print(mean(results_p2[\"Method3_FreqBased_Peaks\"].astype('int')),results_p2[\"Method3_FreqBased_Peaks\"].astype('int').std())\n"
   ]
  },
  {
   "cell_type": "code",
   "execution_count": null,
   "metadata": {},
   "outputs": [],
   "source": [
    "print(mean(results_p3[\"HumanRater1\"].astype('int')),results_p3[\"HumanRater1\"].astype('int').std())\n",
    "print(mean(results_p3[\"HumanRater2\"].astype('int')),results_p3[\"HumanRater2\"].astype('int').std())\n",
    "print(mean(results_p3[\"Method1_TimeBased_Peaks\"].astype('int')),results_p3[\"Method1_TimeBased_Peaks\"].astype('int').std())\n",
    "print(mean(results_p3[\"Method3_FreqBased_Peaks\"].astype('int')),results_p3[\"Method3_FreqBased_Peaks\"].astype('int').std())\n"
   ]
  },
  {
   "cell_type": "code",
   "execution_count": null,
   "metadata": {},
   "outputs": [],
   "source": [
    "print(mean(results_p4[\"HumanRater1\"].astype('int')),results_p4[\"HumanRater1\"].astype('int').std())\n"
   ]
  },
  {
   "cell_type": "code",
   "execution_count": null,
   "metadata": {},
   "outputs": [],
   "source": [
    "print(mean(results_p4[\"HumanRater2\"].astype('int')),results_p4[\"HumanRater2\"].astype('int').std())\n",
    "print(mean(results_p4[\"Method1_TimeBased_Peaks\"].astype('int')),results_p4[\"Method1_TimeBased_Peaks\"].astype('int').std())\n",
    "print(mean(results_p4[\"Method3_FreqBased_Peaks\"].astype('int')),results_p4[\"Method3_FreqBased_Peaks\"].astype('int').std())\n"
   ]
  },
  {
   "cell_type": "code",
   "execution_count": null,
   "metadata": {},
   "outputs": [],
   "source": []
  },
  {
   "cell_type": "code",
   "execution_count": null,
   "metadata": {},
   "outputs": [],
   "source": []
  },
  {
   "cell_type": "code",
   "execution_count": null,
   "metadata": {},
   "outputs": [],
   "source": [
    "results_p2.describe()"
   ]
  },
  {
   "cell_type": "code",
   "execution_count": null,
   "metadata": {},
   "outputs": [],
   "source": [
    "results_p3.describe()"
   ]
  },
  {
   "cell_type": "code",
   "execution_count": null,
   "metadata": {},
   "outputs": [],
   "source": []
  },
  {
   "cell_type": "markdown",
   "metadata": {},
   "source": [
    "# Time Since Medication Statistics # Of responses for each participant"
   ]
  },
  {
   "cell_type": "code",
   "execution_count": null,
   "metadata": {},
   "outputs": [],
   "source": [
    "participants =['0-1', '1-2', '2-3','4+']\n",
    "\n",
    "fig = go.Figure(data=[\n",
    "    go.Bar(name='P1', x=participants, y=[4,2,8,23],text=[4,2,8,23]),\n",
    "    go.Bar(name='P2', x=participants, y=[0,6,1,12],text=[0,6,1,12]),\n",
    "    go.Bar(name='P3', x=participants, y=[0,7,12,16],text=[0,7,12,16]),\n",
    "    go.Bar(name='P4', x=participants, y=[13,1,0,17],text=[13,1,0,17])\n",
    "])\n",
    "# Change the bar mode\n",
    "fig.update_layout(barmode='group')\n",
    "fig.show()"
   ]
  },
  {
   "cell_type": "code",
   "execution_count": null,
   "metadata": {},
   "outputs": [],
   "source": [
    "withd_threshold_df = withd_threshold_df.reset_index()"
   ]
  },
  {
   "cell_type": "code",
   "execution_count": null,
   "metadata": {},
   "outputs": [],
   "source": []
  },
  {
   "cell_type": "code",
   "execution_count": null,
   "metadata": {},
   "outputs": [],
   "source": []
  },
  {
   "cell_type": "code",
   "execution_count": null,
   "metadata": {},
   "outputs": [],
   "source": [
    "#################################################################################################################\n",
    "# SELECT PARTICIPANT DF BASED ON MEDICAIOTN TIMES.\n",
    "#################################################################################################################\n",
    "####### Width Threshold.\n",
    "withd_threshold_df_4plus = withd_threshold_df[withd_threshold_df[\"med_time\"]==\"4_plus\"]\n",
    "withd_threshold_df_1_to_2_hrs = withd_threshold_df[withd_threshold_df[\"med_time\"]==\"1_to_2_hrs\"]\n",
    "withd_threshold_df_2_to_3_hrs = withd_threshold_df[withd_threshold_df[\"med_time\"]==\"2_to_3_hrs\"]\n",
    "withd_threshold_df_0_to_1_hrs = withd_threshold_df[withd_threshold_df[\"med_time\"]==\"0_to_1_hrs\"]\n",
    "\n",
    "############ Peak to Peak Diff.\n",
    "peak2peak_diff_freq_list1_0_to_1_hrs = peak2peak_diff_freq_list1[peak2peak_diff_freq_list1[\"med_time\"]==\"0_to_1_hrs\"]\n",
    "peak2peak_diff_freq_list1_1_to_2_hrs = peak2peak_diff_freq_list1[peak2peak_diff_freq_list1[\"med_time\"]==\"1_to_2_hrs\"]\n",
    "peak2peak_diff_freq_list1_2_to_3_hrs = peak2peak_diff_freq_list1[peak2peak_diff_freq_list1[\"med_time\"]==\"2_to_3_hrs\"]\n",
    "peak2peak_diff_freq_list1_4plus = peak2peak_diff_freq_list1[peak2peak_diff_freq_list1[\"med_time\"]==\"4_plus\"]\n",
    "\n",
    "\n",
    "peak2peak_diff_time_list1_4plus = peak2peak_diff_freq_list1[peak2peak_diff_time_list1[\"med_time\"]==\"4_plus\"]\n",
    "peak2peak_diff_time_list1_1_to_2_hrs = peak2peak_diff_freq_list1[peak2peak_diff_time_list1[\"med_time\"]==\"1_to_2_hrs\"]\n",
    "peak2peak_diff_time_list1_2_to_3_hrs = peak2peak_diff_freq_list1[peak2peak_diff_time_list1[\"med_time\"]==\"2_to_3_hrs\"]\n",
    "peak2peak_diff_time_list1_0_to_1_hrs = peak2peak_diff_freq_list1[peak2peak_diff_time_list1[\"med_time\"]==\"0_to_1_hrs\"]\n",
    "\n",
    "############ Peak Amplitude.\n",
    "peak_amnplitude_df_freq_0_1= peak_amnplitude_df_freq[peak_amnplitude_df_freq[\"med_time\"]==\"0_to_1_hrs\"]\n",
    "peak_amnplitude_df_freq_1_2 = peak_amnplitude_df_freq[peak_amnplitude_df_freq[\"med_time\"]==\"1_to_2_hrs\"]\n",
    "peak_amnplitude_df_freq_2_3 = peak_amnplitude_df_freq[peak_amnplitude_df_freq[\"med_time\"]==\"2_to_3_hrs\"]\n",
    "peak_amnplitude_df_freq_4plus = peak_amnplitude_df_freq[peak_amnplitude_df_freq[\"med_time\"]==\"4_plus\"]\n",
    "\n",
    "peak_amnplitude_df_time_0_1= peak_amnplitude_df_timebased[peak_amnplitude_df_timebased[\"med_time\"]==\"0_to_1_hrs\"]\n",
    "peak_amnplitude_df_time_1_2 = peak_amnplitude_df_timebased[peak_amnplitude_df_timebased[\"med_time\"]==\"1_to_2_hrs\"]\n",
    "peak_amnplitude_df_time_2_3 = peak_amnplitude_df_timebased[peak_amnplitude_df_timebased[\"med_time\"]==\"2_to_3_hrs\"]\n",
    "peak_amnplitude_df_time_4plus = peak_amnplitude_df_timebased[peak_amnplitude_df_timebased[\"med_time\"]==\"4_plus\"]\n",
    "\n"
   ]
  },
  {
   "cell_type": "code",
   "execution_count": null,
   "metadata": {},
   "outputs": [],
   "source": [
    "#################################################################################################################\n",
    "# PARTICIPANT 2\n",
    "#################################################################################################################\n",
    "\n",
    "\n",
    "####### Width Threshold.\n",
    "withd_threshold_df_4plus2 = withd_threshold_df2[withd_threshold_df2[\"med_time\"]==\"4_plus\"]\n",
    "withd_threshold_df_1_to_2_hrs2 = withd_threshold_df2[withd_threshold_df2[\"med_time\"]==\"1_to_2_hrs\"]\n",
    "withd_threshold_df_2_to_3_hrs2 = withd_threshold_df2[withd_threshold_df2[\"med_time\"]==\"2_to_3_hrs\"]\n",
    "withd_threshold_df_0_to_1_hrs2 = withd_threshold_df2[withd_threshold_df2[\"med_time\"]==\"0_to_1_hrs\"]\n",
    "\n",
    "############ Peak to Peak Diff.\n",
    "\n",
    "peak2peak_diff_freq_list1_4plus2 = peak2peak_diff_freq_list2[peak2peak_diff_freq_list2[\"med_time\"]==\"4_plus\"]\n",
    "peak2peak_diff_freq_list1_1_to_2_hrs2 = peak2peak_diff_freq_list2[peak2peak_diff_freq_list2[\"med_time\"]==\"1_to_2_hrs\"]\n",
    "peak2peak_diff_freq_list1_2_to_3_hrs2 = peak2peak_diff_freq_list2[peak2peak_diff_freq_list2[\"med_time\"]==\"2_to_3_hrs\"]\n",
    "peak2peak_diff_freq_list1_0_to_1_hrs2 = peak2peak_diff_freq_list2[peak2peak_diff_freq_list2[\"med_time\"]==\"0_to_1_hrs\"]\n",
    "\n",
    "\n",
    "peak2peak_diff_time_list1_0_to_1_hrs2 = peak2peak_diff_time_list2[peak2peak_diff_time_list2[\"med_time\"]==\"4_plus\"]\n",
    "peak2peak_diff_time_list1_1_to_2_hrs2 = peak_amnplitude_df_freq2[peak2peak_diff_time_list2[\"med_time\"]==\"1_to_2_hrs\"]\n",
    "peak2peak_diff_time_list1_2_to_3_hrs2 = peak2peak_diff_time_list2[peak2peak_diff_time_list2[\"med_time\"]==\"2_to_3_hrs\"]\n",
    "peak2peak_diff_time_list1_4plus2 = peak2peak_diff_time_list2[peak2peak_diff_time_list2[\"med_time\"]==\"0_to_1_hrs\"]\n",
    "\n",
    "\n",
    "############ Peak Amplitude\n",
    "\n",
    "peak_amnplitude_df_freq_0_12= peak_amnplitude_df_freq2[peak_amnplitude_df_freq2[\"med_time\"]==\"0_to_1_hrs\"]\n",
    "peak_amnplitude_df_freq_1_22 = peak_amnplitude_df_freq2[peak_amnplitude_df_freq2[\"med_time\"]==\"1_to_2_hrs\"]\n",
    "peak_amnplitude_df_freq_2_32 = peak_amnplitude_df_freq2[peak_amnplitude_df_freq2[\"med_time\"]==\"2_to_3_hrs\"]\n",
    "peak_amnplitude_df_freq_4plus2 = peak_amnplitude_df_freq2[peak_amnplitude_df_freq2[\"med_time\"]==\"4_plus\"]\n",
    "\n",
    "peak_amnplitude_df_time_0_12= peak_amnplitude_df_timebased2[peak_amnplitude_df_timebased2[\"med_time\"]==\"0_to_1_hrs\"]\n",
    "peak_amnplitude_df_time_1_22 = peak_amnplitude_df_timebased2[peak_amnplitude_df_timebased2[\"med_time\"]==\"1_to_2_hrs\"]\n",
    "peak_amnplitude_df_time_2_32 = peak_amnplitude_df_timebased2[peak_amnplitude_df_timebased2[\"med_time\"]==\"2_to_3_hrs\"]\n",
    "peak_amnplitude_df_time_4plus2 = peak_amnplitude_df_timebased2[peak_amnplitude_df_timebased2[\"med_time\"]==\"4_plus\"]\n",
    "\n",
    "\n",
    "\n"
   ]
  },
  {
   "cell_type": "code",
   "execution_count": null,
   "metadata": {},
   "outputs": [],
   "source": [
    "#################################################################################################################\n",
    "# PARTICIPANT 3\n",
    "#################################################################################################################\n",
    "####### Width Threshold.\n",
    "\n",
    "withd_threshold_df_4plus3 = withd_threshold_df3[withd_threshold_df3[\"med_time\"]==\"4_plus\"]\n",
    "withd_threshold_df_1_to_2_hrs3 = withd_threshold_df3[withd_threshold_df3[\"med_time\"]==\"1_to_2_hrs\"]\n",
    "withd_threshold_df_2_to_3_hrs3 = withd_threshold_df3[withd_threshold_df3[\"med_time\"]==\"2_to_3_hrs\"]\n",
    "withd_threshold_df_0_to_1_hrs3 = withd_threshold_df3[withd_threshold_df3[\"med_time\"]==\"0_to_1_hrs\"]\n",
    "\n",
    "############ Peak to Peak Diff.\n",
    "peak2peak_diff_freq_list1_4plus3 = peak2peak_diff_freq_list3[peak2peak_diff_freq_list3[\"med_time\"]==\"4_plus\"]\n",
    "peak2peak_diff_freq_list1_1_to_2_hrs3 = peak2peak_diff_freq_list3[peak2peak_diff_freq_list3[\"med_time\"]==\"1_to_2_hrs\"]\n",
    "peak2peak_diff_freq_list1_2_to_3_hrs3 = peak2peak_diff_freq_list3[peak2peak_diff_freq_list3[\"med_time\"]==\"2_to_3_hrs\"]\n",
    "peak2peak_diff_freq_list1_0_to_1_hrs3 = peak2peak_diff_freq_list3[peak2peak_diff_freq_list3[\"med_time\"]==\"0_to_1_hrs\"]\n",
    "\n",
    "peak2peak_diff_time_list1_4plus3 = peak2peak_diff_time_list3[peak2peak_diff_time_list3[\"med_time\"]==\"0_to_1_hrs\"]\n",
    "peak2peak_diff_time_list1_1_to_2_hrs3 = peak_amnplitude_df_freq3[peak2peak_diff_time_list3[\"med_time\"]==\"1_to_2_hrs\"]\n",
    "peak2peak_diff_time_list1_2_to_3_hrs3 = peak2peak_diff_time_list3[peak2peak_diff_time_list3[\"med_time\"]==\"2_to_3_hrs\"]\n",
    "peak2peak_diff_time_list1_0_to_1_hrs3 = peak2peak_diff_time_list3[peak2peak_diff_time_list3[\"med_time\"]==\"4_plus\"]\n",
    "\n",
    "\n",
    "############ Peak Amplitude\n",
    "\n",
    "peak_amnplitude_df_freq_0_13 = peak_amnplitude_df_freq3[peak_amnplitude_df_freq3[\"med_time\"]==\"0_to_1_hrs\"]\n",
    "peak_amnplitude_df_freq_1_23 = peak_amnplitude_df_freq3[peak_amnplitude_df_freq3[\"med_time\"]==\"1_to_2_hrs\"]\n",
    "peak_amnplitude_df_freq_2_33 = peak_amnplitude_df_freq3[peak_amnplitude_df_freq3[\"med_time\"]==\"2_to_3_hrs\"]\n",
    "peak_amnplitude_df_freq_4plus3 = peak_amnplitude_df_freq3[peak_amnplitude_df_freq3[\"med_time\"]==\"4_plus\"]\n",
    "\n",
    "\n",
    "\n",
    "peak_amnplitude_df_time_0_13= peak_amnplitude_df_timebased3[peak_amnplitude_df_timebased3[\"med_time\"]==\"0_to_1_hrs\"]\n",
    "peak_amnplitude_df_time_1_23 = peak_amnplitude_df_timebased3[peak_amnplitude_df_timebased3[\"med_time\"]==\"1_to_2_hrs\"]\n",
    "peak_amnplitude_df_time_2_33 = peak_amnplitude_df_timebased3[peak_amnplitude_df_timebased3[\"med_time\"]==\"2_to_3_hrs\"]\n",
    "peak_amnplitude_df_time_4plus3 = peak_amnplitude_df_timebased3[peak_amnplitude_df_timebased3[\"med_time\"]==\"4_plus\"]\n",
    "\n"
   ]
  },
  {
   "cell_type": "code",
   "execution_count": null,
   "metadata": {},
   "outputs": [],
   "source": [
    "#################################################################################################################\n",
    "# PARTICIPANT 4\n",
    "#################################################################################################################\n",
    "####### Width Threshold.\n",
    "\n",
    "withd_threshold_df_4plus4 = withd_threshold_df4[withd_threshold_df4[\"med_time\"]==\"4_plus\"]\n",
    "withd_threshold_df_1_to_2_hrs4 = withd_threshold_df4[withd_threshold_df4[\"med_time\"]==\"1_to_2_hrs\"]\n",
    "withd_threshold_df_2_to_3_hrs4 = withd_threshold_df4[withd_threshold_df4[\"med_time\"]==\"2_to_3_hrs\"]\n",
    "withd_threshold_df_0_to_1_hrs4 = withd_threshold_df4[withd_threshold_df4[\"med_time\"]==\"0_to_1_hrs\"]\n",
    "\n",
    "############ Peak to Peak Diff.\n",
    "\n",
    "peak2peak_diff_freq_list1_4plus4 = peak2peak_diff_freq_list4[peak2peak_diff_freq_list4[\"med_time\"]==\"4_plus\"]\n",
    "peak2peak_diff_freq_list1_1_to_2_hrs4 = peak2peak_diff_freq_list4[peak2peak_diff_freq_list4[\"med_time\"]==\"1_to_2_hrs\"]\n",
    "peak2peak_diff_freq_list1_2_to_3_hrs4 = peak2peak_diff_freq_list4[peak2peak_diff_freq_list4[\"med_time\"]==\"2_to_3_hrs\"]\n",
    "peak2peak_diff_freq_list1_0_to_1_hrs4 = peak2peak_diff_freq_list4[peak2peak_diff_freq_list4[\"med_time\"]==\"0_to_1_hrs\"]\n",
    "\n",
    "\n",
    "peak2peak_diff_time_list1_4plus4 = peak2peak_diff_time_list4[peak2peak_diff_time_list4[\"med_time\"]==\"4_plus\"]\n",
    "peak2peak_diff_time_list1_1_to_2_hrs4 = peak2peak_diff_time_list4[peak2peak_diff_time_list4[\"med_time\"]==\"1_to_2_hrs\"]\n",
    "peak2peak_diff_time_list1_2_to_3_hrs4 = peak2peak_diff_time_list4[peak2peak_diff_time_list4[\"med_time\"]==\"2_to_3_hrs\"]\n",
    "peak2peak_diff_time_list1_0_to_1_hrs4 = peak2peak_diff_time_list4[peak2peak_diff_time_list4[\"med_time\"]==\"0_to_1_hrs\"]\n",
    "\n",
    "\n",
    "############ Peak Amplitude\n",
    "\n",
    "peak_amnplitude_df_freq_0_14 = peak_amnplitude_df_freq4[peak_amnplitude_df_freq4[\"med_time\"]==\"0_to_1_hrs\"]\n",
    "peak_amnplitude_df_freq_1_24 = peak_amnplitude_df_freq4[peak_amnplitude_df_freq4[\"med_time\"]==\"1_to_2_hrs\"]\n",
    "peak_amnplitude_df_freq_2_34 = peak_amnplitude_df_freq4[peak_amnplitude_df_freq4[\"med_time\"]==\"2_to_3_hrs\"]\n",
    "peak_amnplitude_df_freq_4plus4 = peak_amnplitude_df_freq4[peak_amnplitude_df_freq4[\"med_time\"]==\"4_plus\"]\n",
    "\n",
    "peak_amnplitude_df_time_0_14= peak_amnplitude_df_timebased4[peak_amnplitude_df_timebased4[\"med_time\"]==\"0_to_1_hrs\"]\n",
    "peak_amnplitude_df_time_1_24 = peak_amnplitude_df_timebased4[peak_amnplitude_df_timebased4[\"med_time\"]==\"1_to_2_hrs\"]\n",
    "peak_amnplitude_df_time_2_34 = peak_amnplitude_df_timebased4[peak_amnplitude_df_timebased4[\"med_time\"]==\"2_to_3_hrs\"]\n",
    "peak_amnplitude_df_time_4plus4 = peak_amnplitude_df_timebased4[peak_amnplitude_df_timebased4[\"med_time\"]==\"4_plus\"]\n",
    "\n"
   ]
  },
  {
   "cell_type": "code",
   "execution_count": null,
   "metadata": {},
   "outputs": [],
   "source": []
  },
  {
   "cell_type": "code",
   "execution_count": null,
   "metadata": {},
   "outputs": [],
   "source": [
    "########################################################################################################\n",
    "# Plotting Module for results analysis.\n",
    "########################################################################################################\n",
    "def width_thresh_box(withd_threshold_df):\n",
    "    fig = go.Figure()\n",
    "    for i in range(withd_threshold_df.shape[0]):\n",
    "    #     print(i)\n",
    "        fig.add_trace(go.Box(y=withd_threshold_df.iloc[i][:13], boxpoints='all'))\n",
    "    fig.show()\n",
    "def peak_topeak_diff_box(peak2peak_diff_freq_list1):\n",
    "    fig = go.Figure()\n",
    "    for i in range(peak2peak_diff_freq_list1.shape[0]):\n",
    "    #     print(i)\n",
    "        fig.add_trace(go.Box(y=peak2peak_diff_freq_list1.iloc[i][:13], boxpoints='all'))\n",
    "    fig.show()\n",
    "    \n",
    "# Takes in a pandas df peak_amnplitude_df_freq_0_1 with values of all the peak parameters seperated by medicaiton times.\n",
    "# Returns a list of peak to peak values.\n",
    "def peak_amplitude_p2p_diff(peak_amnplitude_df_freq_0_1):\n",
    "    list_all = []\n",
    "    for i in range(peak_amnplitude_df_freq_0_1.shape[0]):\n",
    "        for j in peak_amnplitude_df_freq_0_1.iloc[i][:10].to_list():\n",
    "            list_all.append(j)\n",
    "    return list_all\n",
    "    \n",
    "\n",
    "    \n",
    "def plot_all_raw():\n",
    "    fig = Figure()\n",
    "    for i,value in p1_med_off.iterrows():\n",
    "\n",
    "        print(\"value: \",value[\"FileName\"])\n",
    "        df = pd.read_csv(root + value[\"Participant\"] + \"/\" + value[\"DateList\"] + \"/\"+ value[\"FileName\"])\n",
    "        st_time = df[\"time\"].iloc[0]\n",
    "        stop_time = df[\"time\"].iloc[df.shape[0]-1]\n",
    "        total_time_nano = stop_time - st_time\n",
    "        total_sec = total_time_nano/1000000000\n",
    "        Fs = df.shape[0]/round(total_sec, 2) # int(total_sec)\n",
    "        print(\"Sampling Frequency (Fs =): \", Fs)\n",
    "        num_samples_2 = Fs*2.5\n",
    "        print(\"num_samples_2: Fs*2.5 \",num_samples_2)\n",
    "        # Subset 2.5 seconds of data.\n",
    "        start_idx = 100\n",
    "        end_idx = start_idx+int(num_samples_2) \n",
    "        if int(num_samples_2)>=30:\n",
    "\n",
    "            df_finger_tapping_2_5_index_norm =preprocessing.normalize([df[\"index\"][start_idx:end_idx]])\n",
    "    #         ax.plot(df_finger_tapping_2_5_index_norm[0] ,label = \"line 1\")\n",
    "            fig.add_trace(go.Scatter( y=df_finger_tapping_2_5_index_norm[0],\n",
    "                                mode='lines',\n",
    "                                name=value[\"FileName\"]))\n",
    "\n",
    "        \n",
    "        "
   ]
  },
  {
   "cell_type": "code",
   "execution_count": null,
   "metadata": {},
   "outputs": [],
   "source": [
    "\n",
    "\n"
   ]
  },
  {
   "cell_type": "markdown",
   "metadata": {},
   "source": [
    "# Peak Width Parameter :\n",
    "- 1) Only for Time Based peak detector"
   ]
  },
  {
   "cell_type": "code",
   "execution_count": null,
   "metadata": {},
   "outputs": [],
   "source": [
    "print(\"Width of All Sessions:- P1\")\n",
    "freq_width1 = p2pplot_allsessions_inone(withd_threshold_df_0_to_1_hrs)\n",
    "freq_width2= p2pplot_allsessions_inone(withd_threshold_df_1_to_2_hrs)\n",
    "freq_width3 = p2pplot_allsessions_inone(withd_threshold_df_2_to_3_hrs)\n",
    "freq_width4 = p2pplot_allsessions_inone(withd_threshold_df_4plus)\n",
    "fig = go.Figure()\n",
    "fig.add_trace(go.Box(y=freq_width1, boxpoints='all',name=\"0-1\"))\n",
    "fig.add_trace(go.Box(y=freq_width2, boxpoints='all',name=\"1-2\"))\n",
    "fig.add_trace(go.Box(y=freq_width3, boxpoints='all',name=\"2-3\"))\n",
    "fig.add_trace(go.Box(y=freq_width4, boxpoints='all',name=\"4 plus\"))\n",
    "fig.show()\n",
    "    \n",
    "    "
   ]
  },
  {
   "cell_type": "code",
   "execution_count": null,
   "metadata": {},
   "outputs": [],
   "source": []
  },
  {
   "cell_type": "code",
   "execution_count": null,
   "metadata": {},
   "outputs": [],
   "source": [
    "print(\"Width of all sessions P2\")\n",
    "freq_width12 = p2pplot_allsessions_inone(withd_threshold_df_0_to_1_hrs2)\n",
    "freq_width22= p2pplot_allsessions_inone(withd_threshold_df_1_to_2_hrs2)\n",
    "freq_width32 = p2pplot_allsessions_inone(withd_threshold_df_2_to_3_hrs2)\n",
    "freq_width42 = p2pplot_allsessions_inone(withd_threshold_df_4plus)\n",
    "fig = go.Figure()\n",
    "fig.add_trace(go.Box(y=freq_width12, boxpoints='all',name=\"0-1\"))\n",
    "fig.add_trace(go.Box(y=freq_width22, boxpoints='all',name=\"1-2\"))\n",
    "fig.add_trace(go.Box(y=freq_width32, boxpoints='all',name=\"2-3\"))\n",
    "fig.add_trace(go.Box(y=freq_width42, boxpoints='all',name=\"4 plus\"))\n",
    "\n",
    "fig.show()\n",
    "    \n",
    "    "
   ]
  },
  {
   "cell_type": "code",
   "execution_count": null,
   "metadata": {},
   "outputs": [],
   "source": [
    "print(\"Width of all sessions P3\")\n",
    "freq_width13 = p2pplot_allsessions_inone(withd_threshold_df_0_to_1_hrs3)\n",
    "freq_width23= p2pplot_allsessions_inone(withd_threshold_df_1_to_2_hrs3)\n",
    "freq_width33 = p2pplot_allsessions_inone(withd_threshold_df_2_to_3_hrs3)\n",
    "freq_width43 = p2pplot_allsessions_inone(withd_threshold_df_4plus3)\n",
    "fig = go.Figure()\n",
    "fig.add_trace(go.Box(y=freq_width13, boxpoints='all',name=\"0-1\"))\n",
    "fig.add_trace(go.Box(y=freq_width23, boxpoints='all',name=\"1-2\"))\n",
    "fig.add_trace(go.Box(y=freq_width33, boxpoints='all',name=\"2-3\"))\n",
    "fig.add_trace(go.Box(y=freq_width43, boxpoints='all',name=\"4 plus\"))\n",
    "\n",
    "fig.show()\n",
    "    \n",
    "    "
   ]
  },
  {
   "cell_type": "code",
   "execution_count": null,
   "metadata": {},
   "outputs": [],
   "source": [
    "print(\"Width of all sessions P4\")\n",
    "freq_width14 = p2pplot_allsessions_inone(withd_threshold_df_0_to_1_hrs4)\n",
    "freq_width24= p2pplot_allsessions_inone(withd_threshold_df_1_to_2_hrs4)\n",
    "freq_width34 = p2pplot_allsessions_inone(withd_threshold_df_2_to_3_hrs4)\n",
    "freq_width44 = p2pplot_allsessions_inone(withd_threshold_df_4plus4)\n",
    "fig = go.Figure()\n",
    "fig.add_trace(go.Box(y=freq_width14, boxpoints='all',name=\"0-1\"))\n",
    "fig.add_trace(go.Box(y=freq_width24, boxpoints='all',name=\"1-2\"))\n",
    "fig.add_trace(go.Box(y=freq_width34, boxpoints='all',name=\"2-3\"))\n",
    "fig.add_trace(go.Box(y=freq_width44, boxpoints='all',name=\"4 plus\"))\n",
    "\n",
    "fig.show()\n",
    "    \n",
    "    "
   ]
  },
  {
   "cell_type": "code",
   "execution_count": null,
   "metadata": {},
   "outputs": [],
   "source": []
  },
  {
   "cell_type": "code",
   "execution_count": null,
   "metadata": {},
   "outputs": [],
   "source": []
  },
  {
   "cell_type": "code",
   "execution_count": null,
   "metadata": {},
   "outputs": [],
   "source": []
  },
  {
   "cell_type": "code",
   "execution_count": null,
   "metadata": {},
   "outputs": [],
   "source": []
  },
  {
   "cell_type": "code",
   "execution_count": null,
   "metadata": {},
   "outputs": [],
   "source": []
  },
  {
   "cell_type": "code",
   "execution_count": null,
   "metadata": {},
   "outputs": [],
   "source": []
  },
  {
   "cell_type": "code",
   "execution_count": null,
   "metadata": {},
   "outputs": [],
   "source": []
  },
  {
   "cell_type": "markdown",
   "metadata": {},
   "source": [
    "## Peak to Peak Difference feature:\n",
    "- 1) Frequency Based\n",
    "- 2) Time based"
   ]
  },
  {
   "cell_type": "code",
   "execution_count": null,
   "metadata": {},
   "outputs": [],
   "source": [
    "\n",
    "all_p2p_time = pd.concat([peak2peak_diff_time_list1,peak2peak_diff_time_list2,peak2peak_diff_time_list3,peak2peak_diff_time_list4])\n",
    "\n",
    "all_p2p_time_0_1 = all_p2p_time[all_p2p_time[\"med_time\"] ==\"0_to_1_hrs\"]\n",
    "all_p2p_time_1_2 = all_p2p_time[all_p2p_time[\"med_time\"] ==\"1_to_2_hrs\"]\n",
    "all_p2p_time_2_3 = all_p2p_time[all_p2p_time[\"med_time\"] ==\"2_to_3_hrs\"]\n",
    "all_p2p_time_4plus = all_p2p_time[all_p2p_time[\"med_time\"] ==\"4_plus\"]\n",
    "time_p2p1_all_part1 = p2pplot_allsessions_inone(all_p2p_time_0_1)\n",
    "time_p2p2_all_part2 = p2pplot_allsessions_inone(all_p2p_time_1_2)\n",
    "time_p2p3_all_part3 = p2pplot_allsessions_inone(all_p2p_time_2_3)\n",
    "time_p2p4_all_part4 = p2pplot_allsessions_inone(all_p2p_time_4plus)\n",
    "\n"
   ]
  },
  {
   "cell_type": "code",
   "execution_count": null,
   "metadata": {},
   "outputs": [],
   "source": [
    "fig = go.Figure()\n",
    "fig.add_trace(go.Box(y=time_p2p1_all_part1, boxpoints='all',name=\"0-1\"))\n",
    "fig.add_trace(go.Box(y=time_p2p2_all_part2, boxpoints='all',name=\"1-2\"))\n",
    "fig.add_trace(go.Box(y=time_p2p3_all_part3, boxpoints='all',name=\"2-3\"))\n",
    "fig.add_trace(go.Box(y=time_p2p4_all_part4, boxpoints='all',name=\"4 plus\"))\n",
    "fig.show()\n",
    "    "
   ]
  },
  {
   "cell_type": "code",
   "execution_count": null,
   "metadata": {},
   "outputs": [],
   "source": []
  },
  {
   "cell_type": "code",
   "execution_count": null,
   "metadata": {},
   "outputs": [],
   "source": []
  },
  {
   "cell_type": "code",
   "execution_count": null,
   "metadata": {},
   "outputs": [],
   "source": []
  },
  {
   "cell_type": "code",
   "execution_count": null,
   "metadata": {},
   "outputs": [],
   "source": []
  },
  {
   "cell_type": "code",
   "execution_count": null,
   "metadata": {},
   "outputs": [],
   "source": [
    "print(\"Peak to Peak (frequency based) p1\")\n",
    "freq_p2p1 = p2pplot_allsessions_inone(peak2peak_diff_freq_list1_0_to_1_hrs)\n",
    "freq_p2p2= p2pplot_allsessions_inone(peak2peak_diff_freq_list1_1_to_2_hrs)\n",
    "freq_p2p3 = p2pplot_allsessions_inone(peak2peak_diff_freq_list1_2_to_3_hrs)\n",
    "freq_p2p4 = p2pplot_allsessions_inone(peak2peak_diff_freq_list1_4plus)\n",
    "fig = go.Figure()\n",
    "fig.add_trace(go.Box(y=freq_p2p1, boxpoints='all',name=\"0-1\"))\n",
    "fig.add_trace(go.Box(y=freq_p2p2, boxpoints='all',name=\"1-2\"))\n",
    "fig.add_trace(go.Box(y=freq_p2p3, boxpoints='all',name=\"2-3\"))\n",
    "fig.add_trace(go.Box(y=freq_p2p4, boxpoints='all',name=\"4 plus\"))\n",
    "fig.update_layout(\n",
    "yaxis = dict(\n",
    "tickfont = dict(size=30)),\n",
    "    xaxis = dict(\n",
    "tickfont = dict(size=30))\n",
    "\n",
    ")\n",
    "fig.show()\n",
    "    "
   ]
  },
  {
   "cell_type": "code",
   "execution_count": null,
   "metadata": {},
   "outputs": [],
   "source": [
    "print(\"Peak to Peak (frequency based) P2\")\n",
    "\n",
    "freq_p2p12 = p2pplot_allsessions_inone(peak2peak_diff_freq_list1_0_to_1_hrs2)\n",
    "freq_p2p22= p2pplot_allsessions_inone(peak2peak_diff_freq_list1_1_to_2_hrs2)\n",
    "freq_p2p32 = p2pplot_allsessions_inone(peak2peak_diff_freq_list1_2_to_3_hrs2)\n",
    "freq_p2p42 = p2pplot_allsessions_inone(peak2peak_diff_freq_list1_4plus2)\n",
    "fig = go.Figure()\n",
    "fig.add_trace(go.Box(y=freq_p2p12, boxpoints='all',name=\"0-1\"))\n",
    "fig.add_trace(go.Box(y=freq_p2p22, boxpoints='all',name=\"1-2\"))\n",
    "fig.add_trace(go.Box(y=freq_p2p32, boxpoints='all',name=\"2-3\"))\n",
    "fig.add_trace(go.Box(y=freq_p2p42, boxpoints='all',name=\"4 plus\"))\n",
    "\n",
    "fig.show()\n",
    "    "
   ]
  },
  {
   "cell_type": "code",
   "execution_count": null,
   "metadata": {},
   "outputs": [],
   "source": [
    "print(\"Peak to Peak  (frequency based) P3\")\n",
    "\n",
    "freq_p2p13 = p2pplot_allsessions_inone(peak2peak_diff_freq_list1_0_to_1_hrs3)\n",
    "freq_p2p23= p2pplot_allsessions_inone(peak2peak_diff_freq_list1_1_to_2_hrs3)\n",
    "freq_p2p33 = p2pplot_allsessions_inone(peak2peak_diff_freq_list1_2_to_3_hrs3)\n",
    "freq_p2p43 = p2pplot_allsessions_inone(peak2peak_diff_freq_list1_4plus3)\n",
    "fig = go.Figure()\n",
    "fig.add_trace(go.Box(y=freq_p2p13, boxpoints='all',name=\"0-1\"))\n",
    "fig.add_trace(go.Box(y=freq_p2p23, boxpoints='all',name=\"1-2\"))\n",
    "fig.add_trace(go.Box(y=freq_p2p33, boxpoints='all',name=\"2-3\"))\n",
    "fig.add_trace(go.Box(y=freq_p2p43, boxpoints='all',name=\"4 plus\"))\n",
    "\n",
    "fig.show()\n",
    "    "
   ]
  },
  {
   "cell_type": "code",
   "execution_count": null,
   "metadata": {},
   "outputs": [],
   "source": []
  },
  {
   "cell_type": "code",
   "execution_count": null,
   "metadata": {},
   "outputs": [],
   "source": [
    "print(\"Peak to Peak (Frequency Based) P4\")\n",
    "\n",
    "freq_p2p14 = p2pplot_allsessions_inone(peak2peak_diff_freq_list1_0_to_1_hrs4)\n",
    "freq_p2p24= p2pplot_allsessions_inone(peak2peak_diff_freq_list1_1_to_2_hrs4)\n",
    "freq_p2p34 = p2pplot_allsessions_inone(peak2peak_diff_freq_list1_2_to_3_hrs4)\n",
    "freq_p2p44 = p2pplot_allsessions_inone(peak2peak_diff_freq_list1_4plus4)\n",
    "fig = go.Figure()\n",
    "fig.add_trace(go.Box(y=freq_p2p14, boxpoints='all',name=\"0-1\"))\n",
    "fig.add_trace(go.Box(y=freq_p2p24, boxpoints='all',name=\"1-2\"))\n",
    "fig.add_trace(go.Box(y=freq_p2p34, boxpoints='all',name=\"2-3\"))\n",
    "fig.add_trace(go.Box(y=freq_p2p44, boxpoints='all',name=\"4 plus\"))\n",
    "fig.show()\n",
    "    "
   ]
  },
  {
   "cell_type": "markdown",
   "metadata": {},
   "source": [
    "# All P2p Difference"
   ]
  },
  {
   "cell_type": "code",
   "execution_count": null,
   "metadata": {},
   "outputs": [],
   "source": []
  },
  {
   "cell_type": "code",
   "execution_count": null,
   "metadata": {},
   "outputs": [],
   "source": [
    "\n",
    "\n",
    "all_0_1 = freq_p2p1 + freq_p2p12 + freq_p2p13 + freq_p2p14\n",
    "all_1_2 = freq_p2p2 + freq_p2p22 + freq_p2p23 + freq_p2p24\n",
    "all_2_3 =  freq_p2p3 + freq_p2p32 + freq_p2p33 + freq_p2p34\n",
    "all_4_plus = freq_p2p4 + freq_p2p42 + freq_p2p43 + freq_p2p44\n",
    "all_0_1 = np.array(all_0_1)\n",
    "all_1_2 = np.array(all_1_2)\n",
    "all_2_3 = np.array(all_2_3)\n",
    "all_4_plus = np.array(all_4_plus)\n",
    "\n"
   ]
  },
  {
   "cell_type": "code",
   "execution_count": null,
   "metadata": {},
   "outputs": [],
   "source": []
  },
  {
   "cell_type": "code",
   "execution_count": null,
   "metadata": {},
   "outputs": [],
   "source": [
    "\n",
    "print(\"MAX's\",\"max(all_0_1),\",max(all_0_1),\"max(all_1_2):\",max(all_1_2),\"max(all_2_3): \",max(all_2_3),\"max(all_4_plus): \",max(all_4_plus))\n",
    "\n"
   ]
  },
  {
   "cell_type": "code",
   "execution_count": null,
   "metadata": {},
   "outputs": [],
   "source": [
    "\n",
    "\n",
    "\n",
    "\n",
    "print(\"MAX's\",\"max(all_0_1),\",max(all_0_1),\"max(all_1_2):\",max(all_1_2),\"max(all_2_3): \",max(all_2_3),\"max(all_4_plus): \",max(all_4_plus))\n",
    "\n",
    "print(\"all_0_1: \",statistics.pstdev(all_0_1),\"all_1_2: \",statistics.pstdev(all_1_2),\"all_2_3:\",statistics.pstdev(all_2_3),\"all_4_plus: \",statistics.pstdev(all_4_plus))\n",
    "\n"
   ]
  },
  {
   "cell_type": "code",
   "execution_count": null,
   "metadata": {},
   "outputs": [],
   "source": []
  },
  {
   "cell_type": "code",
   "execution_count": null,
   "metadata": {},
   "outputs": [],
   "source": []
  },
  {
   "cell_type": "code",
   "execution_count": null,
   "metadata": {},
   "outputs": [],
   "source": [
    "print(\"Peak to Peak (frequency based) ALL SESSIONS\")\n",
    "freq_p2p1 = p2pplot_allsessions_inone(peak2peak_diff_freq_list1_0_to_1_hrs)\n",
    "freq_p2p1 = [element for element in freq_p2p1 if str(element) != \"nan\"]\n",
    "\n",
    "freq_p2p2= p2pplot_allsessions_inone(peak2peak_diff_freq_list1_1_to_2_hrs)\n",
    "freq_p2p2 = [element for element in freq_p2p2 if str(element) != \"nan\"]\n",
    "freq_p2p3 = p2pplot_allsessions_inone(peak2peak_diff_freq_list1_2_to_3_hrs)\n",
    "freq_p2p3 = [element for element in freq_p2p3 if str(element) != \"nan\"]\n",
    "freq_p2p4 = p2pplot_allsessions_inone(peak2peak_diff_freq_list1_4plus)\n",
    "freq_p2p4 = [element for element in freq_p2p4 if str(element) != \"nan\"]\n"
   ]
  },
  {
   "cell_type": "code",
   "execution_count": null,
   "metadata": {},
   "outputs": [],
   "source": [
    "peak2peak_diff_freq_list1_0_to_1_hrs"
   ]
  },
  {
   "cell_type": "code",
   "execution_count": null,
   "metadata": {},
   "outputs": [],
   "source": [
    "peak2peak_diff_freq_list1_1_to_2_hrs"
   ]
  },
  {
   "cell_type": "code",
   "execution_count": null,
   "metadata": {},
   "outputs": [],
   "source": [
    "peak2peak_diff_freq_list1_2_to_3_hrs"
   ]
  },
  {
   "cell_type": "code",
   "execution_count": null,
   "metadata": {},
   "outputs": [],
   "source": [
    "peak2peak_diff_freq_list1_4plus"
   ]
  },
  {
   "cell_type": "markdown",
   "metadata": {},
   "source": [
    "# ALL SESSIONS P2P difference."
   ]
  },
  {
   "cell_type": "code",
   "execution_count": null,
   "metadata": {},
   "outputs": [],
   "source": [
    "fig = go.Figure()\n",
    "fig.add_trace(go.Box(y=freq_p2p1, boxpoints='all',name=\"0-1\"))\n",
    "fig.add_trace(go.Box(y=freq_p2p2, boxpoints='all',name=\"1-2\"))\n",
    "fig.add_trace(go.Box(y=freq_p2p3, boxpoints='all',name=\"2-3\"))\n",
    "fig.add_trace(go.Box(y=freq_p2p4, boxpoints='all',name=\"4 plus\"))\n",
    "fig.update_layout(\n",
    "        title = \"Peak to Peak for All sessions\",\n",
    "\n",
    "yaxis = dict(\n",
    "tickfont = dict(size=10)),\n",
    "    xaxis = dict(\n",
    "tickfont = dict(size=10))\n",
    "\n",
    ")\n",
    "fig.show()\n",
    "    "
   ]
  },
  {
   "cell_type": "code",
   "execution_count": null,
   "metadata": {},
   "outputs": [],
   "source": []
  },
  {
   "cell_type": "markdown",
   "metadata": {},
   "source": [
    "- 2) Time Based Peak to Peak difference feature:"
   ]
  },
  {
   "cell_type": "code",
   "execution_count": null,
   "metadata": {},
   "outputs": [],
   "source": [
    "p2_presults_all_time = pd.concat([peak2peak_diff_time_list1,peak2peak_diff_time_list2,peak2peak_diff_time_list3,peak2peak_diff_time_list4])\n"
   ]
  },
  {
   "cell_type": "code",
   "execution_count": null,
   "metadata": {},
   "outputs": [],
   "source": []
  },
  {
   "cell_type": "code",
   "execution_count": null,
   "metadata": {},
   "outputs": [],
   "source": []
  },
  {
   "cell_type": "code",
   "execution_count": null,
   "metadata": {},
   "outputs": [],
   "source": []
  },
  {
   "cell_type": "code",
   "execution_count": null,
   "metadata": {},
   "outputs": [],
   "source": [
    "print(\"Peak to Peak (time based) p1\")\n",
    "time_p2p1 = p2pplot_allsessions_inone(peak2peak_diff_time_list1_0_to_1_hrs)\n",
    "time_p2p2= p2pplot_allsessions_inone(peak2peak_diff_time_list1_1_to_2_hrs)\n",
    "time_p2p3 = p2pplot_allsessions_inone(peak2peak_diff_time_list1_2_to_3_hrs)\n",
    "time_p2p4 = p2pplot_allsessions_inone(peak2peak_diff_time_list1_4plus)\n",
    "fig = go.Figure()\n",
    "fig.add_trace(go.Box(y=time_p2p1, boxpoints='all',name=\"0-1\"))\n",
    "fig.add_trace(go.Box(y=time_p2p2, boxpoints='all',name=\"1-2\"))\n",
    "fig.add_trace(go.Box(y=time_p2p3, boxpoints='all',name=\"2-3\"))\n",
    "fig.add_trace(go.Box(y=time_p2p4, boxpoints='all',name=\"4 plus\"))\n",
    "fig.show()\n",
    "    "
   ]
  },
  {
   "cell_type": "code",
   "execution_count": null,
   "metadata": {},
   "outputs": [],
   "source": []
  },
  {
   "cell_type": "code",
   "execution_count": null,
   "metadata": {},
   "outputs": [],
   "source": []
  },
  {
   "cell_type": "code",
   "execution_count": null,
   "metadata": {},
   "outputs": [],
   "source": [
    "print(\"Peak to Peak (time based) p2\")\n",
    "time_p2p12 = p2pplot_allsessions_inone(peak2peak_diff_time_list1_0_to_1_hrs2)\n",
    "time_p2p22= p2pplot_allsessions_inone(peak2peak_diff_time_list1_1_to_2_hrs2)\n",
    "time_p2p32 = p2pplot_allsessions_inone(peak2peak_diff_time_list1_2_to_3_hrs2)       \n",
    "time_p2p42 = p2pplot_allsessions_inone(peak2peak_diff_time_list1_4plus2)\n",
    "fig = go.Figure()\n",
    "fig.add_trace(go.Box(y=time_p2p12, boxpoints='all',name=\"0-1\"))\n",
    "fig.add_trace(go.Box(y=time_p2p22, boxpoints='all',name=\"1-2\"))\n",
    "fig.add_trace(go.Box(y=time_p2p32, boxpoints='all',name=\"2-3\"))\n",
    "fig.add_trace(go.Box(y=time_p2p42, boxpoints='all',name=\"4 plus\"))\n",
    "fig.show()\n",
    "    "
   ]
  },
  {
   "cell_type": "code",
   "execution_count": null,
   "metadata": {},
   "outputs": [],
   "source": [
    "print(\"Peak to Peak (time based) p3\")\n",
    "time_p2p13 = p2pplot_allsessions_inone(peak2peak_diff_time_list1_0_to_1_hrs3)\n",
    "time_p2p23 = p2pplot_allsessions_inone(peak2peak_diff_time_list1_1_to_2_hrs3)\n",
    "time_p2p33 = p2pplot_allsessions_inone(peak2peak_diff_time_list1_2_to_3_hrs3)\n",
    "time_p2p43 = p2pplot_allsessions_inone(peak2peak_diff_time_list1_4plus3)\n",
    "fig = go.Figure()\n",
    "fig.add_trace(go.Box(y=time_p2p13, boxpoints='all',name=\"0-1\"))\n",
    "fig.add_trace(go.Box(y=time_p2p23, boxpoints='all',name=\"1-2\"))\n",
    "fig.add_trace(go.Box(y=time_p2p33, boxpoints='all',name=\"2-3\"))\n",
    "fig.add_trace(go.Box(y=time_p2p43, boxpoints='all',name=\"4 plus\"))\n",
    "fig.show()\n",
    "    "
   ]
  },
  {
   "cell_type": "code",
   "execution_count": null,
   "metadata": {},
   "outputs": [],
   "source": [
    "print(\"Peak to Peak (time based) p4\")\n",
    "time_p2p14 = p2pplot_allsessions_inone(peak2peak_diff_time_list1_0_to_1_hrs4)\n",
    "time_p2p24 = p2pplot_allsessions_inone(peak2peak_diff_time_list1_1_to_2_hrs4)\n",
    "time_p2p34 = p2pplot_allsessions_inone(peak2peak_diff_time_list1_2_to_3_hrs4)\n",
    "time_p2p44 = p2pplot_allsessions_inone(peak2peak_diff_time_list1_4plus3)\n",
    "fig = go.Figure()\n",
    "fig.add_trace(go.Box(y=time_p2p14, boxpoints='all',name=\"0-1\"))\n",
    "fig.add_trace(go.Box(y=time_p2p24, boxpoints='all',name=\"1-2\"))\n",
    "fig.add_trace(go.Box(y=time_p2p34, boxpoints='all',name=\"2-3\"))\n",
    "fig.add_trace(go.Box(y=time_p2p44, boxpoints='all',name=\"4 plus\"))\n",
    "fig.show()\n",
    "    "
   ]
  },
  {
   "cell_type": "markdown",
   "metadata": {},
   "source": [
    "# Peak Amplitude Feature:\n",
    "\n",
    "- 1) Timebased Based\n",
    "- 2) Frequency Based"
   ]
  },
  {
   "cell_type": "markdown",
   "metadata": {},
   "source": [
    "- 1) Peak Amplitude Time Based:"
   ]
  },
  {
   "cell_type": "code",
   "execution_count": null,
   "metadata": {},
   "outputs": [],
   "source": [
    "time_amp1 = plot_allsessions_inone(peak_amnplitude_df_time_0_1)\n",
    "time_amp2= plot_allsessions_inone(peak_amnplitude_df_time_1_2)\n",
    "time_amp3 = plot_allsessions_inone(peak_amnplitude_df_time_2_3)\n",
    "time_amp4 = plot_allsessions_inone(peak_amnplitude_df_time_4plus)\n",
    "\n",
    "time_amp12 = plot_allsessions_inone(peak_amnplitude_df_time_0_12)\n",
    "time_amp22= plot_allsessions_inone(peak_amnplitude_df_time_1_22)\n",
    "time_amp32 = plot_allsessions_inone(peak_amnplitude_df_time_2_32)\n",
    "time_amp42 = plot_allsessions_inone(peak_amnplitude_df_time_4plus2)\n",
    "\n",
    "\n",
    "time_amp13 = plot_allsessions_inone(peak_amnplitude_df_time_0_13)\n",
    "time_amp23= plot_allsessions_inone(peak_amnplitude_df_time_1_23)\n",
    "time_amp33 = plot_allsessions_inone(peak_amnplitude_df_time_2_33)\n",
    "time_amp43 = plot_allsessions_inone(peak_amnplitude_df_time_4plus3)\n",
    "\n",
    "time_amp14 = plot_allsessions_inone(peak_amnplitude_df_time_0_14)\n",
    "time_amp24= plot_allsessions_inone(peak_amnplitude_df_time_1_24)\n",
    "time_amp34 = plot_allsessions_inone(peak_amnplitude_df_time_2_34)\n",
    "time_amp44 = plot_allsessions_inone(peak_amnplitude_df_time_4plus4)\n"
   ]
  },
  {
   "cell_type": "code",
   "execution_count": null,
   "metadata": {},
   "outputs": [],
   "source": []
  },
  {
   "cell_type": "code",
   "execution_count": null,
   "metadata": {},
   "outputs": [],
   "source": [
    "print(\"Time Based Peak Detector's peak amplitude P1\")\n",
    "fig = go.Figure()\n",
    "fig.add_trace(go.Box(y=time_amp1, boxpoints='all',name=\"0-1\"))\n",
    "fig.add_trace(go.Box(y=time_amp2, boxpoints='all',name=\"1-2\"))\n",
    "fig.add_trace(go.Box(y=time_amp3, boxpoints='all',name=\"2-3\"))\n",
    "fig.add_trace(go.Box(y=time_amp4, boxpoints='all',name=\"4 plus\"))\n",
    "fig.show()\n",
    "    "
   ]
  },
  {
   "cell_type": "code",
   "execution_count": null,
   "metadata": {},
   "outputs": [],
   "source": [
    "print(\"Time Based Peak Detector's peak amplitude P2\")\n",
    "fig = go.Figure()\n",
    "fig.add_trace(go.Box(y=time_amp12, boxpoints='all',name=\"0-1\"))\n",
    "fig.add_trace(go.Box(y=time_amp22, boxpoints='all',name=\"1-2\"))\n",
    "fig.add_trace(go.Box(y=time_amp32, boxpoints='all',name=\"2-3\"))\n",
    "fig.add_trace(go.Box(y=time_amp42, boxpoints='all',name=\"4 plus\"))\n",
    "fig.show()\n",
    "    "
   ]
  },
  {
   "cell_type": "code",
   "execution_count": null,
   "metadata": {},
   "outputs": [],
   "source": [
    "print(\"Time Based Peak Detector's peak amplitude P3\")\n",
    "fig = go.Figure()\n",
    "fig.add_trace(go.Box(y=time_amp13, boxpoints='all',name=\"0-1\"))\n",
    "fig.add_trace(go.Box(y=time_amp23, boxpoints='all',name=\"1-2\"))\n",
    "fig.add_trace(go.Box(y=time_amp33, boxpoints='all',name=\"2-3\"))\n",
    "fig.add_trace(go.Box(y=time_amp43, boxpoints='all',name=\"4 plus\"))\n",
    "fig.show()\n",
    "    "
   ]
  },
  {
   "cell_type": "code",
   "execution_count": null,
   "metadata": {},
   "outputs": [],
   "source": [
    "print(\"Time Based Peak Detector's peak amplitude P4\")\n",
    "fig = go.Figure()\n",
    "fig.add_trace(go.Box(y=time_amp14, boxpoints='all',name=\"0-1\"))\n",
    "fig.add_trace(go.Box(y=time_amp24, boxpoints='all',name=\"1-2\"))\n",
    "fig.add_trace(go.Box(y=time_amp34, boxpoints='all',name=\"2-3\"))\n",
    "fig.add_trace(go.Box(y=time_amp44, boxpoints='all',name=\"4 plus\"))\n",
    "fig.show()\n",
    "    "
   ]
  },
  {
   "cell_type": "markdown",
   "metadata": {},
   "source": [
    "- ) Frequency Based: Peak Amplitudes "
   ]
  },
  {
   "cell_type": "code",
   "execution_count": null,
   "metadata": {},
   "outputs": [],
   "source": [
    "freq_time_amp1 = plot_allsessions_inone(peak_amnplitude_df_freq_0_1)\n",
    "freq_time_amp2 = plot_allsessions_inone(peak_amnplitude_df_freq_1_2)\n",
    "freq_time_amp3 = plot_allsessions_inone(peak_amnplitude_df_freq_2_3)\n",
    "freq_time_amp4 = plot_allsessions_inone(peak_amnplitude_df_freq_4plus)\n",
    "\n",
    "freq_time_amp12 = plot_allsessions_inone(peak_amnplitude_df_freq_0_12)\n",
    "freq_time_amp22 = plot_allsessions_inone(peak_amnplitude_df_freq_1_22)\n",
    "freq_time_amp32 = plot_allsessions_inone(peak_amnplitude_df_freq_2_32)\n",
    "freq_time_amp42 = plot_allsessions_inone(peak_amnplitude_df_freq_4plus2)\n",
    "\n",
    "freq_time_amp13 = plot_allsessions_inone(peak_amnplitude_df_freq_0_13)\n",
    "freq_time_amp23 = plot_allsessions_inone(peak_amnplitude_df_freq_1_23)\n",
    "freq_time_amp33 = plot_allsessions_inone(peak_amnplitude_df_freq_2_33)\n",
    "freq_time_amp43 = plot_allsessions_inone(peak_amnplitude_df_freq_4plus3)\n",
    "\n",
    "freq_time_amp14 = plot_allsessions_inone(peak_amnplitude_df_freq_0_14)\n",
    "freq_time_amp24= plot_allsessions_inone(peak_amnplitude_df_freq_1_24)\n",
    "freq_time_amp34 = plot_allsessions_inone(peak_amnplitude_df_freq_2_34)\n",
    "freq_time_amp44 = plot_allsessions_inone(peak_amnplitude_df_freq_4plus4)"
   ]
  },
  {
   "cell_type": "code",
   "execution_count": null,
   "metadata": {},
   "outputs": [],
   "source": [
    "all_freq_amp0_1 = freq_time_amp1 + freq_time_amp12 + freq_time_amp13 + freq_time_amp14\n",
    "all_freq_amp1_2 = freq_time_amp2 + freq_time_amp22 + freq_time_amp23 + freq_time_amp24\n",
    "all_freq_amp2_3 = freq_time_amp3 + freq_time_amp32 + freq_time_amp33 + freq_time_amp34\n",
    "all_freq_amp_4_plus = freq_time_amp4 + freq_time_amp42 + freq_time_amp43 + freq_time_amp44\n"
   ]
  },
  {
   "cell_type": "code",
   "execution_count": null,
   "metadata": {},
   "outputs": [],
   "source": []
  },
  {
   "cell_type": "code",
   "execution_count": null,
   "metadata": {},
   "outputs": [],
   "source": [
    "fig = go.Figure()\n",
    "fig.add_trace(go.Box(y=all_freq_amp0_1, boxpoints='all',name=\"0-1\"))\n",
    "fig.add_trace(go.Box(y=all_freq_amp1_2, boxpoints='all',name=\"1-2\"))\n",
    "fig.add_trace(go.Box(y=all_freq_amp2_3, boxpoints='all',name=\"2-3\"))\n",
    "fig.add_trace(go.Box(y=all_freq_amp_4_plus, boxpoints='all',name=\"4 plus\"))\n",
    "fig.update_layout(\n",
    "        title = \"Max Amplitude Frequency Based\",\n",
    "\n",
    "yaxis = dict(\n",
    "tickfont = dict(size=30)),\n",
    "    xaxis = dict(\n",
    "tickfont = dict(size=30)))\n",
    "fig.show()\n",
    "    "
   ]
  },
  {
   "cell_type": "code",
   "execution_count": null,
   "metadata": {},
   "outputs": [],
   "source": [
    "print(\"Frequency Based Peak amplitude- P1\")\n",
    "\n",
    "\n",
    "fig = go.Figure()\n",
    "fig.add_trace(go.Box(y=freq_time_amp1, boxpoints='all',name=\"0-1\"))\n",
    "fig.add_trace(go.Box(y=freq_time_amp2, boxpoints='all',name=\"1-2\"))\n",
    "fig.add_trace(go.Box(y=freq_time_amp3, boxpoints='all',name=\"2-3\"))\n",
    "fig.add_trace(go.Box(y=freq_time_amp4, boxpoints='all',name=\"4 plus\"))\n",
    "\n",
    "fig.show()\n",
    "    \n"
   ]
  },
  {
   "cell_type": "code",
   "execution_count": null,
   "metadata": {},
   "outputs": [],
   "source": [
    "print(\"Frequency Based Peak amplitude- P2\")\n",
    "\n",
    "\n",
    "fig = go.Figure()\n",
    "fig.add_trace(go.Box(y=freq_time_amp12, boxpoints='all',name=\"0-1\"))\n",
    "fig.add_trace(go.Box(y=freq_time_amp22, boxpoints='all',name=\"1-2\"))\n",
    "fig.add_trace(go.Box(y=freq_time_amp32, boxpoints='all',name=\"2-3\"))\n",
    "fig.add_trace(go.Box(y=freq_time_amp42, boxpoints='all',name=\"4 plus\"))\n",
    "\n",
    "fig.show()\n",
    "    \n"
   ]
  },
  {
   "cell_type": "code",
   "execution_count": null,
   "metadata": {},
   "outputs": [],
   "source": [
    "print(\"Frequency Based Peak amplitude- P3\")\n",
    "\n",
    "fig = go.Figure()\n",
    "fig.add_trace(go.Box(y=freq_time_amp13, boxpoints='all',name=\"0-1\"))\n",
    "fig.add_trace(go.Box(y=freq_time_amp23, boxpoints='all',name=\"1-2\"))\n",
    "fig.add_trace(go.Box(y=freq_time_amp33, boxpoints='all',name=\"2-3\"))\n",
    "fig.add_trace(go.Box(y=freq_time_amp43, boxpoints='all',name=\"4 plus\"))\n",
    "\n",
    "fig.show()\n",
    "    "
   ]
  },
  {
   "cell_type": "code",
   "execution_count": null,
   "metadata": {},
   "outputs": [],
   "source": [
    "print(\"Frequency Based Peak amplitude- P4\")\n",
    "\n",
    "fig = go.Figure()\n",
    "fig.add_trace(go.Box(y=freq_time_amp14, boxpoints='all',name=\"0-1\"))\n",
    "fig.add_trace(go.Box(y=freq_time_amp24, boxpoints='all',name=\"1-2\"))\n",
    "fig.add_trace(go.Box(y=freq_time_amp34, boxpoints='all',name=\"2-3\"))\n",
    "fig.add_trace(go.Box(y=freq_time_amp44, boxpoints='all',name=\"4 plus\"))\n",
    "\n",
    "fig.show()\n",
    "    "
   ]
  },
  {
   "cell_type": "markdown",
   "metadata": {},
   "source": [
    "# Domination Frequency Effect"
   ]
  },
  {
   "cell_type": "code",
   "execution_count": null,
   "metadata": {},
   "outputs": [],
   "source": [
    "results_p1.columns # DominantFreq"
   ]
  },
  {
   "cell_type": "code",
   "execution_count": null,
   "metadata": {},
   "outputs": [],
   "source": [
    "results_p1 = results_p1[results_p1[\"Stage1_Random_Peaks\"]!=-911.0]\n",
    "results_p2 = results_p2[results_p2[\"Stage1_Random_Peaks\"]!=-911.0]\n",
    "results_p3 = results_p3[results_p3[\"Stage1_Random_Peaks\"]!=-911.0]\n",
    "results_p4 = results_p4[results_p4[\"Stage1_Random_Peaks\"]!=-911.0]\n"
   ]
  },
  {
   "cell_type": "code",
   "execution_count": null,
   "metadata": {},
   "outputs": [],
   "source": [
    "results_p1_0_1 = results_p1[results_p1[\"time_since_medication\"]==\"0_to_1_hrs\"]\n",
    "results_p1_1_2 = results_p1[results_p1[\"time_since_medication\"]==\"1_to_2_hrs\"]\n",
    "results_p1_2_3 = results_p1[results_p1[\"time_since_medication\"]==\"2_to_3_hrs\"]\n",
    "results_p1_4plus = results_p1[results_p1[\"time_since_medication\"]==\"4_plus\"]\n",
    "\n",
    "results_p2_0_1 = results_p2[results_p2[\"time_since_medication\"]==\"0_to_1_hrs\"]\n",
    "results_p2_1_2 = results_p2[results_p2[\"time_since_medication\"]==\"1_to_2_hrs\"]\n",
    "results_p2_2_3 = results_p2[results_p2[\"time_since_medication\"]==\"2_to_3_hrs\"]\n",
    "results_p2_4plus = results_p2[results_p2[\"time_since_medication\"]==\"4_plus\"]\n",
    "\n",
    "results_p3_0_1 = results_p3[results_p3[\"time_since_medication\"]==\"0_to_1_hrs\"]\n",
    "results_p3_1_2 = results_p3[results_p3[\"time_since_medication\"]==\"1_to_2_hrs\"]\n",
    "results_p3_2_3 = results_p3[results_p3[\"time_since_medication\"]==\"2_to_3_hrs\"]\n",
    "results_p3_4plus = results_p3[results_p3[\"time_since_medication\"]==\"4_plus\"]\n",
    "\n",
    "results_p4_0_1 = results_p4[results_p4[\"time_since_medication\"]==\"0_to_1_hrs\"]\n",
    "results_p4_1_2 = results_p4[results_p4[\"time_since_medication\"]==\"1_to_2_hrs\"]\n",
    "results_p4_2_3 = results_p4[results_p4[\"time_since_medication\"]==\"2_to_3_hrs\"]\n",
    "results_p4_4plus = results_p4[results_p4[\"time_since_medication\"]==\"4_plus\"]\n"
   ]
  },
  {
   "cell_type": "code",
   "execution_count": null,
   "metadata": {},
   "outputs": [],
   "source": [
    "df_0_1 = pd.concat([results_p1_0_1,results_p2_0_1,results_p3_0_1,results_p4_0_1])\n",
    "df_1_2 = pd.concat([results_p1_1_2,results_p2_1_2,results_p3_1_2,results_p4_1_2])\n",
    "df_2_3 = pd.concat([results_p1_2_3,results_p3_2_3,results_p3_0_1,results_p4_2_3])\n",
    "df_4plus = pd.concat([results_p1_4plus,results_p2_4plus,results_p3_4plus,results_p4_4plus])\n"
   ]
  },
  {
   "cell_type": "code",
   "execution_count": null,
   "metadata": {},
   "outputs": [],
   "source": []
  },
  {
   "cell_type": "code",
   "execution_count": null,
   "metadata": {},
   "outputs": [],
   "source": [
    "print(\"Dominant Frequency \")\n",
    "\n",
    "fig = go.Figure()\n",
    "fig.add_trace(go.Box(y=df_0_1[\"DominantFreq\"], boxpoints='all',name=\"0-1\"))\n",
    "fig.add_trace(go.Box(y=df_1_2[\"DominantFreq\"], boxpoints='all',name=\"1-2\"))\n",
    "fig.add_trace(go.Box(y=df_2_3[\"DominantFreq\"], boxpoints='all',name=\"2-3\"))\n",
    "fig.add_trace(go.Box(y=df_4plus[\"DominantFreq\"], boxpoints='all',name=\"4 plus\"))\n",
    "\n",
    "fig.show()"
   ]
  },
  {
   "cell_type": "code",
   "execution_count": null,
   "metadata": {},
   "outputs": [],
   "source": [
    "print(\"Number of Peaks Time Based Peak Detector \")\n",
    "fig = go.Figure()\n",
    "fig.add_trace(go.Box(y=df_0_1[\"Method1_TimeBased_Peaks\"], boxpoints='all',name=\"0-1\"))\n",
    "fig.add_trace(go.Box(y=df_1_2[\"Method1_TimeBased_Peaks\"], boxpoints='all',name=\"1-2\"))\n",
    "fig.add_trace(go.Box(y=df_2_3[\"Method1_TimeBased_Peaks\"], boxpoints='all',name=\"2-3\"))\n",
    "fig.add_trace(go.Box(y=df_4plus[\"Method1_TimeBased_Peaks\"], boxpoints='all',name=\"4 plus\"))\n",
    "fig.show()\n",
    "\n"
   ]
  },
  {
   "cell_type": "code",
   "execution_count": null,
   "metadata": {},
   "outputs": [],
   "source": []
  },
  {
   "cell_type": "code",
   "execution_count": null,
   "metadata": {},
   "outputs": [],
   "source": [
    "df_0_1.columns"
   ]
  },
  {
   "cell_type": "code",
   "execution_count": null,
   "metadata": {},
   "outputs": [],
   "source": []
  },
  {
   "cell_type": "code",
   "execution_count": null,
   "metadata": {},
   "outputs": [],
   "source": [
    "print(\"Number of Peaks Frequency Peak Detector \")\n",
    "fig = go.Figure()\n",
    "fig.add_trace(go.Box(y=df_0_1[\"Method3_FreqBased_Peaks\"], boxpoints='all',name=\"0-1\"))\n",
    "fig.add_trace(go.Box(y=df_1_2[\"Method3_FreqBased_Peaks\"], boxpoints='all',name=\"1-2\"))\n",
    "fig.add_trace(go.Box(y=df_2_3[\"Method3_FreqBased_Peaks\"], boxpoints='all',name=\"2-3\"))\n",
    "fig.add_trace(go.Box(y=df_4plus[\"Method3_FreqBased_Peaks\"], boxpoints='all',name=\"4 plus\"))\n",
    "fig.show()\n",
    "\n",
    "     "
   ]
  },
  {
   "cell_type": "code",
   "execution_count": null,
   "metadata": {},
   "outputs": [],
   "source": []
  },
  {
   "cell_type": "code",
   "execution_count": null,
   "metadata": {},
   "outputs": [],
   "source": []
  },
  {
   "cell_type": "code",
   "execution_count": null,
   "metadata": {},
   "outputs": [],
   "source": []
  },
  {
   "cell_type": "code",
   "execution_count": null,
   "metadata": {
    "scrolled": true
   },
   "outputs": [],
   "source": []
  },
  {
   "cell_type": "code",
   "execution_count": null,
   "metadata": {},
   "outputs": [],
   "source": []
  },
  {
   "cell_type": "code",
   "execution_count": null,
   "metadata": {},
   "outputs": [],
   "source": []
  },
  {
   "cell_type": "code",
   "execution_count": null,
   "metadata": {},
   "outputs": [],
   "source": []
  },
  {
   "cell_type": "code",
   "execution_count": null,
   "metadata": {},
   "outputs": [],
   "source": []
  },
  {
   "cell_type": "code",
   "execution_count": null,
   "metadata": {},
   "outputs": [],
   "source": []
  },
  {
   "cell_type": "code",
   "execution_count": null,
   "metadata": {},
   "outputs": [],
   "source": []
  },
  {
   "cell_type": "code",
   "execution_count": null,
   "metadata": {},
   "outputs": [],
   "source": []
  },
  {
   "cell_type": "code",
   "execution_count": null,
   "metadata": {},
   "outputs": [],
   "source": []
  },
  {
   "cell_type": "code",
   "execution_count": null,
   "metadata": {},
   "outputs": [],
   "source": []
  },
  {
   "cell_type": "code",
   "execution_count": null,
   "metadata": {},
   "outputs": [],
   "source": []
  },
  {
   "cell_type": "code",
   "execution_count": null,
   "metadata": {},
   "outputs": [],
   "source": []
  },
  {
   "cell_type": "code",
   "execution_count": null,
   "metadata": {},
   "outputs": [],
   "source": []
  },
  {
   "cell_type": "code",
   "execution_count": null,
   "metadata": {},
   "outputs": [],
   "source": []
  },
  {
   "cell_type": "code",
   "execution_count": null,
   "metadata": {},
   "outputs": [],
   "source": []
  },
  {
   "cell_type": "code",
   "execution_count": null,
   "metadata": {},
   "outputs": [],
   "source": []
  },
  {
   "cell_type": "code",
   "execution_count": null,
   "metadata": {},
   "outputs": [],
   "source": []
  },
  {
   "cell_type": "code",
   "execution_count": null,
   "metadata": {},
   "outputs": [],
   "source": []
  },
  {
   "cell_type": "code",
   "execution_count": null,
   "metadata": {},
   "outputs": [],
   "source": []
  },
  {
   "cell_type": "code",
   "execution_count": null,
   "metadata": {},
   "outputs": [],
   "source": []
  },
  {
   "cell_type": "code",
   "execution_count": null,
   "metadata": {},
   "outputs": [],
   "source": []
  },
  {
   "cell_type": "code",
   "execution_count": null,
   "metadata": {},
   "outputs": [],
   "source": []
  },
  {
   "cell_type": "code",
   "execution_count": null,
   "metadata": {},
   "outputs": [],
   "source": []
  },
  {
   "cell_type": "code",
   "execution_count": null,
   "metadata": {},
   "outputs": [],
   "source": []
  },
  {
   "cell_type": "code",
   "execution_count": null,
   "metadata": {},
   "outputs": [],
   "source": []
  },
  {
   "cell_type": "code",
   "execution_count": null,
   "metadata": {},
   "outputs": [],
   "source": []
  },
  {
   "cell_type": "code",
   "execution_count": null,
   "metadata": {},
   "outputs": [],
   "source": []
  },
  {
   "cell_type": "code",
   "execution_count": null,
   "metadata": {},
   "outputs": [],
   "source": []
  },
  {
   "cell_type": "code",
   "execution_count": null,
   "metadata": {},
   "outputs": [],
   "source": []
  },
  {
   "cell_type": "code",
   "execution_count": null,
   "metadata": {},
   "outputs": [],
   "source": []
  },
  {
   "cell_type": "code",
   "execution_count": null,
   "metadata": {},
   "outputs": [],
   "source": []
  },
  {
   "cell_type": "code",
   "execution_count": null,
   "metadata": {},
   "outputs": [],
   "source": []
  },
  {
   "cell_type": "code",
   "execution_count": null,
   "metadata": {},
   "outputs": [],
   "source": []
  },
  {
   "cell_type": "code",
   "execution_count": null,
   "metadata": {},
   "outputs": [],
   "source": []
  },
  {
   "cell_type": "code",
   "execution_count": null,
   "metadata": {},
   "outputs": [],
   "source": []
  },
  {
   "cell_type": "code",
   "execution_count": null,
   "metadata": {},
   "outputs": [],
   "source": [
    "results_p1[\"time_since_medication\"].value_counts()"
   ]
  },
  {
   "cell_type": "code",
   "execution_count": null,
   "metadata": {},
   "outputs": [],
   "source": [
    "results_p2[\"time_since_medication\"].value_counts()"
   ]
  },
  {
   "cell_type": "code",
   "execution_count": null,
   "metadata": {},
   "outputs": [],
   "source": [
    "results_p3[\"time_since_medication\"].value_counts()"
   ]
  },
  {
   "cell_type": "code",
   "execution_count": null,
   "metadata": {},
   "outputs": [],
   "source": [
    "results_p4[\"time_since_medication\"].value_counts()"
   ]
  },
  {
   "cell_type": "code",
   "execution_count": null,
   "metadata": {},
   "outputs": [],
   "source": []
  },
  {
   "cell_type": "code",
   "execution_count": null,
   "metadata": {},
   "outputs": [],
   "source": [
    "results_p1[\"feel_medication\"].value_counts()"
   ]
  },
  {
   "cell_type": "code",
   "execution_count": null,
   "metadata": {},
   "outputs": [],
   "source": [
    "results_p2[\"feel_medication\"].value_counts()"
   ]
  },
  {
   "cell_type": "code",
   "execution_count": null,
   "metadata": {},
   "outputs": [],
   "source": [
    "results_p3[\"feel_medication\"].value_counts()"
   ]
  },
  {
   "cell_type": "code",
   "execution_count": null,
   "metadata": {},
   "outputs": [],
   "source": [
    "results_p4[\"feel_medication\"].value_counts()"
   ]
  },
  {
   "cell_type": "markdown",
   "metadata": {},
   "source": [
    "# SNR Anlaysis"
   ]
  },
  {
   "cell_type": "code",
   "execution_count": null,
   "metadata": {},
   "outputs": [],
   "source": [
    "\n",
    "# fig = go.Figure()\n",
    "# fig.add_trace(go.Bar(\n",
    "#     y=med_0,\n",
    "#     name='Med Off',\n",
    "#     marker_color='indianred'\n",
    "# ))\n",
    "# fig.add_trace(go.Bar(\n",
    "#     y=med_1,\n",
    "#     name='Med On',\n",
    "#     marker_color='lightsalmon'\n",
    "# ))\n",
    "# # Here we modify the tickangle of the xaxis, resulting in rotated labels.\n",
    "# fig.update_layout(barmode='group', xaxis_tickangle=-45)\n",
    "# fig.show()\n"
   ]
  },
  {
   "cell_type": "code",
   "execution_count": null,
   "metadata": {},
   "outputs": [],
   "source": [
    "fig = px.line(x=results_p3[\"FileName\"], y=results_p3[\"med_on_off\"])\n",
    "fig.add_bar(x=results_p3[\"FileName\"], y=results_p3[\"DominantFreq\"],textposition='outside')\n",
    "fig.show()"
   ]
  },
  {
   "cell_type": "code",
   "execution_count": null,
   "metadata": {},
   "outputs": [],
   "source": [
    "len(results_p3[results_p3[\"med_on_off\"]==0][\"DominantFreq\"])"
   ]
  },
  {
   "cell_type": "code",
   "execution_count": null,
   "metadata": {},
   "outputs": [],
   "source": [
    "len(results_p3[results_p3[\"med_on_off\"]==1][\"DominantFreq\"])"
   ]
  },
  {
   "cell_type": "code",
   "execution_count": null,
   "metadata": {},
   "outputs": [],
   "source": [
    "results_p4.columns"
   ]
  },
  {
   "cell_type": "code",
   "execution_count": null,
   "metadata": {},
   "outputs": [],
   "source": []
  },
  {
   "cell_type": "code",
   "execution_count": null,
   "metadata": {},
   "outputs": [],
   "source": [
    "fig = px.violin(results_p1[results_p1[\"Stage1_Random_Peaks\"] !=-911], y=\"SNR_mean_std\", color=\"med_on_off\",\n",
    "                violinmode='overlay') # draw violins on top of each other\n",
    "                # default violinmode is 'group' as in example above)\n",
    "fig.show()\n"
   ]
  },
  {
   "cell_type": "code",
   "execution_count": null,
   "metadata": {},
   "outputs": [],
   "source": [
    "results_p2[results_p2[\"Stage1_Random_Peaks\"] !=-911]"
   ]
  },
  {
   "cell_type": "code",
   "execution_count": null,
   "metadata": {},
   "outputs": [],
   "source": []
  },
  {
   "cell_type": "code",
   "execution_count": null,
   "metadata": {},
   "outputs": [],
   "source": [
    "fig = px.violin(results_p1[results_p1[\"SNR_mean_std\"] >=0], y=\"SNR_mean_std\", color=\"med_on_off\",\n",
    "                violinmode='overlay',points=\"all\") # draw violins on top of each other\n",
    "                # default violinmode is 'group' as in example above)\n",
    "fig.show()\n"
   ]
  },
  {
   "cell_type": "code",
   "execution_count": null,
   "metadata": {},
   "outputs": [],
   "source": [
    "fig = px.violin(results_p2[results_p2[\"SNR_mean_std\"] >=0], y=\"SNR_mean_std\", color=\"med_on_off\",\n",
    "                violinmode='overlay',points=\"all\") # draw violins on top of each other\n",
    "                # default violinmode is 'group' as in example above)\n",
    "fig.show()\n"
   ]
  },
  {
   "cell_type": "code",
   "execution_count": null,
   "metadata": {},
   "outputs": [],
   "source": [
    "fig = px.violin(results_p3[results_p3[\"SNR_mean_std\"] >=0], y=\"SNR_mean_std\", color=\"med_on_off\",\n",
    "                violinmode='overlay',points=\"all\") # draw violins on top of each other\n",
    "                # default violinmode is 'group' as in example above)\n",
    "fig.show()\n"
   ]
  },
  {
   "cell_type": "code",
   "execution_count": null,
   "metadata": {},
   "outputs": [],
   "source": [
    "fig = px.violin(results_p4[results_p4[\"SNR_mean_std\"] >=0], y=\"SNR_mean_std\", color=\"med_on_off\",\n",
    "                violinmode='overlay',points=\"all\") # draw violins on top of each other\n",
    "                # default violinmode is 'group' as in example above)\n",
    "fig.show()\n"
   ]
  },
  {
   "cell_type": "code",
   "execution_count": null,
   "metadata": {},
   "outputs": [],
   "source": []
  },
  {
   "cell_type": "code",
   "execution_count": null,
   "metadata": {},
   "outputs": [],
   "source": [
    "fig = px.box(results_p1[results_p1[\"SNR_mean_std\"] >=0], y=\"width_threshold\", color=\"med_on_off\",points=\"all\") # draw violins on top of each other\n",
    "fig.show()\n"
   ]
  },
  {
   "cell_type": "code",
   "execution_count": null,
   "metadata": {},
   "outputs": [],
   "source": [
    "fig = px.box(results_p2[results_p2[\"SNR_mean_std\"] >=0], y=\"width_threshold\", color=\"med_on_off\",points=\"all\") # draw violins on top of each other\n",
    "fig.show()"
   ]
  },
  {
   "cell_type": "code",
   "execution_count": null,
   "metadata": {},
   "outputs": [],
   "source": [
    "fig = px.box(results_p3[results_p3[\"SNR_mean_std\"] >=0], y=\"width_threshold\", color=\"med_on_off\",points=\"all\") # draw violins on top of each other\n",
    "fig.show()"
   ]
  },
  {
   "cell_type": "code",
   "execution_count": null,
   "metadata": {},
   "outputs": [],
   "source": [
    "fig = px.box(results_p4[results_p4[\"SNR_mean_std\"] >=0], y=\"width_threshold\", color=\"med_on_off\",points=\"all\") # draw violins on top of each other\n",
    "fig.show()"
   ]
  },
  {
   "cell_type": "code",
   "execution_count": null,
   "metadata": {},
   "outputs": [],
   "source": [
    "results_p1.columns"
   ]
  },
  {
   "cell_type": "code",
   "execution_count": null,
   "metadata": {},
   "outputs": [],
   "source": [
    "fig = px.box(results_p1[results_p1[\"SNR_mean_std\"] >=0], y=\"Method1_TimeBased_Peaks\", color=\"med_on_off\",points=\"all\") # draw violins on top of each other\n",
    "fig.show()\n"
   ]
  },
  {
   "cell_type": "code",
   "execution_count": null,
   "metadata": {},
   "outputs": [],
   "source": [
    "results_p2.columns"
   ]
  },
  {
   "cell_type": "code",
   "execution_count": null,
   "metadata": {},
   "outputs": [],
   "source": [
    "fig = px.box(results_p2[results_p2[\"SNR_mean_std\"] >=0], y=\"Method1_TimeBased_Peaks\", color=\"med_on_off\",points=\"all\") # draw violins on top of each other\n",
    "fig.show()\n"
   ]
  },
  {
   "cell_type": "code",
   "execution_count": null,
   "metadata": {},
   "outputs": [],
   "source": [
    "results_p3.columns"
   ]
  },
  {
   "cell_type": "code",
   "execution_count": null,
   "metadata": {},
   "outputs": [],
   "source": [
    "results_p3.columns"
   ]
  },
  {
   "cell_type": "code",
   "execution_count": null,
   "metadata": {},
   "outputs": [],
   "source": [
    "fig = px.box(results_p3[results_p3[\"SNR_mean_std\"] >=0], y=\"Method1_TimeBased\", color=\"med_on_off\",points=\"all\") # draw violins on top of each other\n",
    "fig.show()\n"
   ]
  },
  {
   "cell_type": "code",
   "execution_count": null,
   "metadata": {},
   "outputs": [],
   "source": []
  },
  {
   "cell_type": "code",
   "execution_count": null,
   "metadata": {},
   "outputs": [],
   "source": [
    "fig = px.box(results_p4[results_p4[\"SNR_mean_std\"] >=0], y=\"Method3_FreqBased_Peaks\", color=\"med_on_off\",points=\"all\") # draw violins on top of each other\n",
    "fig.show()\n"
   ]
  },
  {
   "cell_type": "code",
   "execution_count": null,
   "metadata": {},
   "outputs": [],
   "source": []
  },
  {
   "cell_type": "code",
   "execution_count": null,
   "metadata": {},
   "outputs": [],
   "source": [
    "fig = px.box(results_p1[results_p1[\"SNR_mean_std\"] >=0], y=\"width_threshold\", color=\"med_on_off\",points=\"all\") # draw violins on top of each other\n",
    "fig.show()\n"
   ]
  },
  {
   "cell_type": "code",
   "execution_count": null,
   "metadata": {},
   "outputs": [],
   "source": [
    "fig = px.box(results_p2[results_p2[\"SNR_mean_std\"] >=0], y=\"width_threshold\", color=\"med_on_off\",points=\"all\") # draw violins on top of each other\n",
    "fig.show()\n"
   ]
  },
  {
   "cell_type": "code",
   "execution_count": null,
   "metadata": {},
   "outputs": [],
   "source": [
    "fig = px.box(results_p3[results_p3[\"SNR_mean_std\"] >=0], y=\"width_threshold\", color=\"med_on_off\",points=\"all\") # draw violins on top of each other\n",
    "fig.show()\n"
   ]
  },
  {
   "cell_type": "code",
   "execution_count": null,
   "metadata": {},
   "outputs": [],
   "source": [
    "fig = px.box(results_p4[results_p4[\"SNR_mean_std\"] >=0], y=\"width_threshold\", color=\"med_on_off\",points=\"all\") # draw violins on top of each other\n",
    "fig.show()\n"
   ]
  },
  {
   "cell_type": "code",
   "execution_count": null,
   "metadata": {},
   "outputs": [],
   "source": []
  },
  {
   "cell_type": "code",
   "execution_count": null,
   "metadata": {},
   "outputs": [],
   "source": []
  },
  {
   "cell_type": "code",
   "execution_count": null,
   "metadata": {},
   "outputs": [],
   "source": [
    "fig = px.violin(results_p2, y=\"DominantFreq\", color=\"med_on_off\",\n",
    "                violinmode='overlay',points=\"all\") # draw violins on top of each other\n",
    "                # default violinmode is 'group' as in example above)\n",
    "fig.show()"
   ]
  },
  {
   "cell_type": "code",
   "execution_count": null,
   "metadata": {},
   "outputs": [],
   "source": [
    "fig = px.violin(results_p3, y=\"DominantFreq\", color=\"med_on_off\",\n",
    "                violinmode='overlay',points=\"all\") # draw violins on top of each other\n",
    "                # default violinmode is 'group' as in example above)\n",
    "fig.show()"
   ]
  },
  {
   "cell_type": "code",
   "execution_count": null,
   "metadata": {},
   "outputs": [],
   "source": [
    "fig = px.violin(results_p4, y=\"DominantFreq\", color=\"med_on_off\",\n",
    "                violinmode='overlay',points=\"all\") # draw violins on top of each other\n",
    "                # default violinmode is 'group' as in example above)\n",
    "fig.show()"
   ]
  },
  {
   "cell_type": "code",
   "execution_count": null,
   "metadata": {},
   "outputs": [],
   "source": [
    "\n",
    "fig = go.Figure()\n",
    "fig.add_trace(go.Violin(y=results_p1[results_p1[\"med_on_off\"]==0][\"DominantFreq\"],name=\"0\"))  \n",
    "fig.add_trace(go.Violin(y=results_p1[results_p1[\"med_on_off\"]==1][\"DominantFreq\"],name=\"1\"))  \n",
    "fig.show()\n"
   ]
  },
  {
   "cell_type": "code",
   "execution_count": null,
   "metadata": {},
   "outputs": [],
   "source": [
    "\n",
    "fig = go.Figure()\n",
    "fig.add_trace(go.Violin(y=results_p2[results_p2[\"med_on_off\"]==0][\"DominantFreq\"],name=\"0\"))  \n",
    "fig.add_trace(go.Violin(y=results_p2[results_p2[\"med_on_off\"]==1][\"DominantFreq\"],name=\"1\"))  \n",
    "fig.show()\n",
    "\n"
   ]
  },
  {
   "cell_type": "code",
   "execution_count": null,
   "metadata": {},
   "outputs": [],
   "source": [
    "\n",
    "fig = go.Figure()\n",
    "fig.add_trace(go.Violin(y=results_p3[results_p3[\"med_on_off\"]==0][\"DominantFreq\"],name=\"0\"))  \n",
    "fig.add_trace(go.Violin(y=results_p3[results_p3[\"med_on_off\"]==1][\"DominantFreq\"],name=\"1\"))  \n",
    "fig.show()\n",
    "\n"
   ]
  },
  {
   "cell_type": "code",
   "execution_count": null,
   "metadata": {},
   "outputs": [],
   "source": [
    "\n",
    "fig = go.Figure()\n",
    "fig.add_trace(go.Violin(y=results_p4[results_p4[\"med_on_off\"]==0][\"DominantFreq\"],name=\"0\"))  \n",
    "fig.add_trace(go.Violin(y=results_p4[results_p4[\"med_on_off\"]==1][\"DominantFreq\"],name=\"1\"))  \n",
    "fig.show()\n",
    "\n"
   ]
  },
  {
   "cell_type": "code",
   "execution_count": null,
   "metadata": {},
   "outputs": [],
   "source": []
  },
  {
   "cell_type": "code",
   "execution_count": null,
   "metadata": {},
   "outputs": [],
   "source": []
  },
  {
   "cell_type": "code",
   "execution_count": null,
   "metadata": {},
   "outputs": [],
   "source": []
  },
  {
   "cell_type": "code",
   "execution_count": null,
   "metadata": {},
   "outputs": [],
   "source": []
  },
  {
   "cell_type": "code",
   "execution_count": null,
   "metadata": {},
   "outputs": [],
   "source": [
    "plt.title(\"Participant 3: Meds OFF/OFF Dominant Frequency\")\n",
    "plt.plot(results_p3[results_p3[\"med_on_off\"]==0][\"DominantFreq\"],label =\"0\")\n",
    "plt.plot(results_p3[results_p3[\"med_on_off\"]==1][\"DominantFreq\"],label =\"1\")\n",
    "plt.legend(['Med Off','Med On'])\n"
   ]
  },
  {
   "cell_type": "code",
   "execution_count": null,
   "metadata": {},
   "outputs": [],
   "source": [
    "results_p2 = results_p2[results_p2[\"HumanRater1\"]!=\"X\"]\n"
   ]
  },
  {
   "cell_type": "code",
   "execution_count": null,
   "metadata": {},
   "outputs": [],
   "source": []
  },
  {
   "cell_type": "code",
   "execution_count": null,
   "metadata": {},
   "outputs": [],
   "source": []
  },
  {
   "cell_type": "code",
   "execution_count": null,
   "metadata": {},
   "outputs": [],
   "source": [
    "results_p2[results_p2[\"med_on_off\"]==0][\"DominantFreq\"]"
   ]
  },
  {
   "cell_type": "code",
   "execution_count": null,
   "metadata": {},
   "outputs": [],
   "source": [
    "results_p2[results_p2[\"med_on_off\"]==1][\"DominantFreq\"]"
   ]
  },
  {
   "cell_type": "code",
   "execution_count": null,
   "metadata": {},
   "outputs": [],
   "source": [
    "plt.title(\"Participant 2: Meds OFF/OFF Dominant Frequency\")\n",
    "plt.plot(results_p2[results_p2[\"med_on_off\"]==0][\"DominantFreq\"],label =\"0\")\n",
    "plt.plot(results_p2[results_p2[\"med_on_off\"]==1][\"DominantFreq\"],label =\"1\")\n",
    "plt.legend(['Med Off','Med On'])\n"
   ]
  },
  {
   "cell_type": "code",
   "execution_count": null,
   "metadata": {},
   "outputs": [],
   "source": [
    "results_p1[results_p1[\"med_on_off\"]==1][\"DominantFreq\"]"
   ]
  },
  {
   "cell_type": "code",
   "execution_count": null,
   "metadata": {},
   "outputs": [],
   "source": [
    "plt.title(\"Participant 1: Meds OFF/OFF Dominant Frequency\")\n",
    "plt.plot(results_p1[results_p1[\"med_on_off\"]==0][\"DominantFreq\"],label =\"0\")\n",
    "plt.plot(results_p1[results_p1[\"med_on_off\"]==1][\"DominantFreq\"],label =\"1\")\n",
    "plt.legend(['Med Off','Med On'])\n"
   ]
  },
  {
   "cell_type": "code",
   "execution_count": null,
   "metadata": {},
   "outputs": [],
   "source": [
    "plt.title(\"Participant 4: Meds OFF/OFF Dominant Frequency\")\n",
    "plt.plot(results_p4[results_p4[\"med_on_off\"]==0][\"DominantFreq\"],label =\"0\")\n",
    "plt.plot(results_p4[results_p4[\"med_on_off\"]==1][\"DominantFreq\"],label =\"1\")\n",
    "plt.legend(['Med Off','Med On'])\n"
   ]
  },
  {
   "cell_type": "code",
   "execution_count": null,
   "metadata": {},
   "outputs": [],
   "source": [
    "results_p1 =  results_p1[results_p1[\"SNR_mean_std\"]>0]\n",
    "results_p2 =  results_p2[results_p2[\"SNR_mean_std\"]>0]\n",
    "results_p3 =  results_p3[results_p3[\"SNR_mean_std\"]>0]\n",
    "results_p4 =  results_p4[results_p4[\"SNR_mean_std\"]>0]"
   ]
  },
  {
   "cell_type": "code",
   "execution_count": null,
   "metadata": {},
   "outputs": [],
   "source": []
  },
  {
   "cell_type": "code",
   "execution_count": null,
   "metadata": {},
   "outputs": [],
   "source": [
    "plt.rcParams[\"figure.figsize\"] = [10.50, 6.50] # WIDTH, HEIGHT\n",
    "fig, axs = plt.subplots(2, 2)\n",
    "axs[0, 0].plot(results_p1.index.to_list(),results_p1[\"SNR_Filtered\"],c=results_p1[\"med_on_off\"].to_list(),marker='_')\n",
    "axs[0, 0].set_title('SNR Particiant 1')\n",
    "axs[0, 1].plot(results_p2.index.to_list(),results_p2.index,results_p2[\"SNR_Filtered\"],c=results_p2[\"med_on_off\"].to_list(),marker='_')\n",
    "axs[0, 1].set_title('SNR Particiant 2')\n",
    "axs[1, 0].plot(results_p3.index.to_list(),results_p3.index,results_p3[\"SNR_Filtered\"],c=results_p3[\"med_on_off\"].to_list(),marker='_')\n",
    "axs[1, 0].set_title('SNR Particiant 3')\n",
    "axs[1, 1].plot(results_p4.index.to_list(),results_p4.index,results_p4[\"SNR_Filtered\"],c=results_p4[\"med_on_off\"].to_list(),marker='_')\n",
    "axs[1, 1].set_title('SNR Particiant 4')\n",
    "fig.subplots_adjust(wspace=0.4,hspace=0.5)\n",
    "\n",
    "\n"
   ]
  },
  {
   "cell_type": "code",
   "execution_count": null,
   "metadata": {},
   "outputs": [],
   "source": [
    "plt.rcParams[\"figure.figsize\"] = [10.50, 6.50] # WIDTH, HEIGHT\n",
    "fig, axs = plt.subplots(2, 2)\n",
    "axs[0, 0].plot(results_p1.index,results_p1[\"SNR_mean_std\"])\n",
    "axs[0, 0].set_title('SNR Particiant 1')\n",
    "axs[0, 1].plot(results_p2.index,results_p2[\"SNR_mean_std\"])\n",
    "axs[0, 1].set_title('SNR Particiant 2')\n",
    "axs[1, 0].plot(results_p3.index,results_p3[\"SNR_mean_std\"])\n",
    "axs[1, 0].set_title('SNR Particiant 3')\n",
    "axs[1, 1].plot(results_p4.index,results_p4[\"SNR_mean_std\"])\n",
    "axs[1, 1].set_title('SNR Particiant 4')\n",
    "fig.subplots_adjust(wspace=0.4,hspace=0.5)\n"
   ]
  },
  {
   "cell_type": "code",
   "execution_count": null,
   "metadata": {},
   "outputs": [],
   "source": [
    "results_p1_max = results_p1[results_p1[\"SNR_mean_std\"]==max(results_p1[\"SNR_mean_std\"])]\n",
    "results_p1_max"
   ]
  },
  {
   "cell_type": "code",
   "execution_count": null,
   "metadata": {},
   "outputs": [],
   "source": []
  },
  {
   "cell_type": "code",
   "execution_count": null,
   "metadata": {},
   "outputs": [],
   "source": [
    "results_p1_min = results_p1[results_p1[\"SNR_mean_std\"]==min(results_p1[\"SNR_mean_std\"])]\n",
    "results_p1_min"
   ]
  },
  {
   "cell_type": "code",
   "execution_count": null,
   "metadata": {},
   "outputs": [],
   "source": [
    "results_p2_max = results_p2[results_p2[\"SNR_mean_std\"]==max(results_p2[\"SNR_mean_std\"])]\n",
    "results_p2_max"
   ]
  },
  {
   "cell_type": "code",
   "execution_count": null,
   "metadata": {},
   "outputs": [],
   "source": [
    "results_p2_min = results_p2[results_p2[\"SNR_mean_std\"]==min(results_p2[\"SNR_mean_std\"])]\n",
    "results_p2_min"
   ]
  },
  {
   "cell_type": "code",
   "execution_count": null,
   "metadata": {},
   "outputs": [],
   "source": [
    "results_p3_max = results_p3[results_p3[\"SNR_mean_std\"]==max(results_p3[\"SNR_mean_std\"])]\n",
    "results_p3_max"
   ]
  },
  {
   "cell_type": "code",
   "execution_count": null,
   "metadata": {},
   "outputs": [],
   "source": [
    "results_p3_min = results_p3[results_p3[\"SNR_mean_std\"]==min(results_p3[\"SNR_mean_std\"])]\n",
    "results_p3_min"
   ]
  },
  {
   "cell_type": "code",
   "execution_count": null,
   "metadata": {},
   "outputs": [],
   "source": [
    "results_p4_max = results_p4[results_p4[\"SNR_mean_std\"]==max(results_p4[\"SNR_mean_std\"])]\n",
    "results_p4_max"
   ]
  },
  {
   "cell_type": "code",
   "execution_count": null,
   "metadata": {},
   "outputs": [],
   "source": [
    "results_p4_min = results_p4[results_p4[\"SNR_mean_std\"]==min(results_p4[\"SNR_mean_std\"])]\n",
    "results_p4_min"
   ]
  },
  {
   "cell_type": "markdown",
   "metadata": {},
   "source": [
    "# Preprocessing - Number of Sessions Cut"
   ]
  },
  {
   "cell_type": "code",
   "execution_count": null,
   "metadata": {},
   "outputs": [],
   "source": [
    "# results_p1[results_p1[\"NOT\"]!=\"X\"]\n",
    "results_p1[\"NOT\"].value_counts()"
   ]
  },
  {
   "cell_type": "code",
   "execution_count": null,
   "metadata": {},
   "outputs": [],
   "source": [
    "results_p2[\"NOT\"].value_counts()"
   ]
  },
  {
   "cell_type": "code",
   "execution_count": null,
   "metadata": {},
   "outputs": [],
   "source": [
    "results_p3[\"NOT\"].value_counts()"
   ]
  },
  {
   "cell_type": "code",
   "execution_count": null,
   "metadata": {},
   "outputs": [],
   "source": [
    "results_p4[\"NOT\"].value_counts()"
   ]
  },
  {
   "cell_type": "code",
   "execution_count": null,
   "metadata": {},
   "outputs": [],
   "source": []
  },
  {
   "cell_type": "code",
   "execution_count": null,
   "metadata": {},
   "outputs": [],
   "source": [
    "\n",
    "results_p1 =results_p1[results_p1[\"Method1_TimeBased\"] != -911]\n",
    "fig = go.Figure()\n",
    "fig.add_trace(go.Bar(\n",
    "#     x=results_p1[\"FileName\"],\n",
    "    y=results_p1[\"HumanRater1\"],\n",
    "    name='HumanRater1',\n",
    "    marker_color='red'\n",
    "))\n",
    "fig.add_trace(go.Bar(\n",
    "#     x=results_p1[\"FileName\"],\n",
    "    y=results_p1[\"RandomPeaks\"],\n",
    "    name='RandomPeaks',\n",
    "    marker_color='lightsalmon'\n",
    "))\n",
    "fig.add_trace(go.Bar(\n",
    "#     x=results_p1[\"FileName\"],\n",
    "    y=results_p1[\"Method1_TimeBased\"],\n",
    "    name='Method1_TimeBased',\n",
    "    marker_color='blue'\n",
    "))\n",
    "fig.add_trace(go.Bar(\n",
    "#     x=results_p1[\"FileName\"],\n",
    "    y=results_p1[\"Method3_FreqBased\"],\n",
    "    name='Method3_FreqBased',\n",
    "    marker_color='green'\n",
    "))\n",
    "\n",
    "# Here we modify the tickangle of the xaxis, resulting in rotated labels.\n",
    "fig.update_layout(barmode='group', xaxis_tickangle=-45)\n",
    "fig.show()"
   ]
  },
  {
   "cell_type": "code",
   "execution_count": null,
   "metadata": {
    "scrolled": true
   },
   "outputs": [],
   "source": []
  },
  {
   "cell_type": "code",
   "execution_count": null,
   "metadata": {},
   "outputs": [],
   "source": [
    "fig = go.Figure()\n",
    "fig.add_trace(go.Box(y=results_p1[results_p1[\"width_threshold\"] !=-911][\"width_threshold\"],  name=\"(P1) Width Threshold \",marker_color = \"purple\"))\n",
    "fig.add_trace(go.Box(y=results_p2[results_p2[\"width_threshold\"] !=-911][\"width_threshold\"], name=\"(P2) Width Threshold\",marker_color = \"blue\"))\n",
    "fig.add_trace(go.Box(y=results_p3[results_p3[\"width_threshold\"] !=-911][\"width_threshold\"],  name=\"(P3) Width Threshold\",marker_color = \"green\"))\n",
    "fig.add_trace(go.Box(y=results_p4[results_p4[\"width_threshold\"] !=-911][\"width_threshold\"],  name=\"(P4) Width Threshold\",marker_color = \"yellow\"))\n",
    "fig.update_traces( )\n",
    "fig.show()\n"
   ]
  },
  {
   "cell_type": "code",
   "execution_count": null,
   "metadata": {
    "scrolled": true
   },
   "outputs": [],
   "source": [
    "fig = go.Figure()\n",
    "fig.add_trace(go.Box(y=results_p1[\"DominantFreq\"],  name=\"(P1) DominantFreq\",marker_color = \"purple\"))\n",
    "fig.add_trace(go.Box(y=results_p2[\"DominantFreq\"], name=\"(P2) DominantFreq\",marker_color = \"blue\"))\n",
    "fig.add_trace(go.Box(y=results_p3[\"DominantFreq\"],  name=\"(P3) DominantFreq\",marker_color = \"green\"))\n",
    "fig.add_trace(go.Box(y=results_p4[\"DominantFreq\"],  name=\"(P4)DominantFreq\",marker_color = \"yellow\"))\n",
    "fig.update_traces(jitter=0)\n",
    "fig.update_layout(title='Dominant Frequency')\n",
    "fig.show()"
   ]
  },
  {
   "cell_type": "code",
   "execution_count": null,
   "metadata": {},
   "outputs": [],
   "source": []
  },
  {
   "cell_type": "code",
   "execution_count": null,
   "metadata": {
    "scrolled": true
   },
   "outputs": [],
   "source": [
    "\n",
    "\n",
    "fig = go.Figure()\n",
    "fig.add_trace(go.Box(y=results_p1[\"HumanRater1\"],  name=\"(P1) HumanRater1\",marker_color = \"purple\"))\n",
    "fig.add_trace(go.Box(y=results_p1[\"HumanRater2\"], name=\"(P1) HumanRater2\",marker_color = \"purple\"))\n",
    "fig.add_trace(go.Box(y=results_p2[\"HumanRater1\"],  name=\"(P2) HumanRater1\",marker_color = \"blue\"))\n",
    "fig.add_trace(go.Box(y=results_p2[\"HumanRater2\"], name=\"(P2) HumanRater2\",marker_color = \"blue\"))\n",
    "fig.add_trace(go.Box(y=results_p3[\"HumanRater1\"],  name=\"(P3) HumanRater1\",marker_color = \"green\"))\n",
    "fig.add_trace(go.Box(y=results_p3[\"HumanRater2\"], name=\"(P3) HumanRater2\",marker_color = \"green\"))\n",
    "fig.update_traces(boxpoints='all', jitter=0)\n",
    "fig.show()\n"
   ]
  },
  {
   "cell_type": "markdown",
   "metadata": {},
   "source": [
    "# Time based Peak to Peak Difference Plots for 4 Participants:"
   ]
  },
  {
   "cell_type": "code",
   "execution_count": null,
   "metadata": {
    "scrolled": true
   },
   "outputs": [],
   "source": [
    "def peak2_peak_figures(x_list , min_list, max_list,mean_list,title_text1):\n",
    "    plt.plot(min_list)\n",
    "    plt.plot(max_list)\n",
    "    plt.plot(mean_list)\n",
    "    plt.title(title_text1,fontsize=16)\n",
    "    plt.xlabel('Number of Sessions',fontsize=16)\n",
    "    plt.ylabel('p2p Distance',fontsize=16)\n",
    "    return plt\n"
   ]
  },
  {
   "cell_type": "code",
   "execution_count": null,
   "metadata": {},
   "outputs": [],
   "source": [
    "# Takes: a pea to peak difference datafram of each file returned by the read_iotex_function.\n",
    "# Returns: x_list , min_list, max_list, mean_list.\n",
    "def peak_2_peak_results(p2p_df):\n",
    "    x_list = list(range(0, len(p2p_df)))\n",
    "    min_list = []\n",
    "    max_list = []\n",
    "    mean_list = []  \n",
    "    for i in range(p2p_df.shape[0]):\n",
    "        # print(i)\n",
    "        row = p2p_df.iloc[i,:9]\n",
    "        #print(\"row: \",row)\n",
    "        drop_na = row.dropna()\n",
    "        # print(\"drop_na: \",drop_na)\n",
    "        mean_val= drop_na.mean()\n",
    "        max_val = drop_na.max()\n",
    "        min_val = drop_na.min()\n",
    "       # print(\"mean_val,max_val, min_val: \",mean_val,max_val, min_val)\n",
    "        min_list.append(min_val)\n",
    "        max_list.append(max_val)\n",
    "        mean_list.append(mean_val)\n",
    "    return x_list , min_list, max_list,mean_list\n",
    "\n",
    "    "
   ]
  },
  {
   "cell_type": "code",
   "execution_count": null,
   "metadata": {},
   "outputs": [],
   "source": []
  },
  {
   "cell_type": "code",
   "execution_count": null,
   "metadata": {
    "scrolled": true,
    "tags": []
   },
   "outputs": [],
   "source": [
    "\n",
    "    \n",
    "x_list , min_list, max_list,mean_list= peak_2_peak_results(peak2peak_diff_time_list1)\n",
    "title_text1 ='Participant 1: Peak to Peak difference in amplitude (Time Based)'\n",
    "# peak2_peak_figures(list_of_numbers2,mean_peak2peak_diff_freq_list2,max_peak2peak_diff_freq_list2,min_peak2peak_diff_freq_list2,title_text)\n",
    "\n",
    "# plot1 =peak2_peak_figures(x_list , min_list, max_list,mean_list,title_text1)\n",
    "\n",
    "\n",
    "x_list2 , min_list2, max_list2,mean_list2= peak_2_peak_results(peak2peak_diff_time_list2)\n",
    "\n",
    "title_text2 ='Participant 2: Peak to Peak difference in amplitude (Time Based)'\n",
    "\n",
    "# plot2 =peak2_peak_figures(x_list2 , min_list2, max_list2,mean_list2,title_text2)\n",
    "\n",
    "\n",
    "x_list3 , min_list3, max_list3,mean_list3= peak_2_peak_results(peak2peak_diff_time_list3)\n",
    "\n",
    "title_text3 ='Participant 3: Peak to Peak difference in amplitude (Time Based)'\n",
    "\n",
    "# plot3 =peak2_peak_figures(x_list3 , min_list3, max_list3,mean_list3,title_text3)\n",
    "\n",
    "\n",
    "x_list4 , min_list4, max_list4,mean_list4 = peak_2_peak_results(peak2peak_diff_time_list4)\n",
    "\n",
    "title_text4 ='Participant 4: Peak to Peak difference in amplitude (Time Based)'\n",
    "\n",
    "# plot4 = peak2_peak_figures(x_list4 , min_list4, max_list4,mean_list4,title_text4)\n",
    "\n",
    "\n"
   ]
  },
  {
   "cell_type": "code",
   "execution_count": null,
   "metadata": {},
   "outputs": [],
   "source": [
    "peak2peak_diff_time_list2"
   ]
  },
  {
   "cell_type": "code",
   "execution_count": null,
   "metadata": {},
   "outputs": [],
   "source": [
    "plt.rcParams[\"figure.figsize\"] = [10.50, 6.50] # WIDTH, HEIGHT\n",
    "fig, axs = plt.subplots(2, 2)\n",
    "axs[0, 0].plot(min_list)\n",
    "axs[0, 0].plot(max_list)\n",
    "axs[0, 0].plot(mean_list)\n",
    "# axs.set(xlabel='Number of Sessions', ylabel='p2p Distance')\n",
    "axs[0, 0].set_title('Peak to Peak Differences Participant 1')\n",
    "axs[0, 1].plot(min_list2)\n",
    "axs[0, 1].plot(max_list2)\n",
    "axs[0, 1].plot(mean_list2)\n",
    "# axs[0, 1].xlabel('Number of Sessions',fontsize=16)\n",
    "# axs[0, 1].ylabel('p2p Distance',fontsize=16)\n",
    "axs[0, 1].set_title('Peak to Peak Differences Participant 2')\n",
    "axs[1, 0].plot(min_list3)\n",
    "axs[1, 0].plot(max_list3)\n",
    "axs[1, 0].plot(mean_list3)\n",
    "# axs[1, 0].xlabel('Number of Sessions',fontsize=16)\n",
    "# axs[1, 0].ylabel('p2p Distance',fontsize=16)\n",
    "axs[1, 0].set_title('Peak to Peak Differences Participant 3')\n",
    "axs[1, 1].plot(min_list4)\n",
    "axs[1, 1].plot(max_list4)\n",
    "axs[1, 1].plot(mean_list4)\n",
    "# axs[1, 1].xlabel('Number of Sessions',fontsize=16)\n",
    "# axs[1, 1].ylabel('p2p Distance',fontsize=16)\n",
    "axs[1, 1].set_title('Peak to Peak Differences Participant 4')\n",
    "fig.subplots_adjust(wspace=0.5,hspace=0.5)\n"
   ]
  },
  {
   "cell_type": "code",
   "execution_count": null,
   "metadata": {},
   "outputs": [],
   "source": []
  },
  {
   "cell_type": "code",
   "execution_count": null,
   "metadata": {},
   "outputs": [],
   "source": []
  },
  {
   "cell_type": "code",
   "execution_count": null,
   "metadata": {},
   "outputs": [],
   "source": []
  },
  {
   "cell_type": "code",
   "execution_count": null,
   "metadata": {},
   "outputs": [],
   "source": []
  },
  {
   "cell_type": "code",
   "execution_count": null,
   "metadata": {},
   "outputs": [],
   "source": []
  },
  {
   "cell_type": "code",
   "execution_count": null,
   "metadata": {},
   "outputs": [],
   "source": []
  },
  {
   "cell_type": "code",
   "execution_count": null,
   "metadata": {
    "tags": []
   },
   "outputs": [],
   "source": []
  },
  {
   "cell_type": "code",
   "execution_count": null,
   "metadata": {
    "scrolled": true
   },
   "outputs": [],
   "source": []
  },
  {
   "cell_type": "code",
   "execution_count": null,
   "metadata": {
    "scrolled": true
   },
   "outputs": [],
   "source": []
  },
  {
   "cell_type": "code",
   "execution_count": null,
   "metadata": {},
   "outputs": [],
   "source": []
  },
  {
   "cell_type": "code",
   "execution_count": null,
   "metadata": {},
   "outputs": [],
   "source": []
  },
  {
   "cell_type": "code",
   "execution_count": null,
   "metadata": {
    "tags": []
   },
   "outputs": [],
   "source": []
  },
  {
   "cell_type": "code",
   "execution_count": null,
   "metadata": {
    "scrolled": true
   },
   "outputs": [],
   "source": []
  },
  {
   "cell_type": "markdown",
   "metadata": {},
   "source": [
    "## Frequency based filtering for Peak to Peak Difference Plots for 4 Participants"
   ]
  },
  {
   "cell_type": "code",
   "execution_count": null,
   "metadata": {
    "scrolled": true
   },
   "outputs": [],
   "source": []
  },
  {
   "cell_type": "code",
   "execution_count": null,
   "metadata": {
    "scrolled": true
   },
   "outputs": [],
   "source": [
    "# np.arrange(1,3,len(mean_peak2peak_diff_freq_list))\n",
    "list_of_numbers_freq1 = list(range(0, len(peak2peak_diff_freq_list1)))\n",
    "\n",
    "mean_peak2peak_diff_freq_list1 = peak2peak_diff_freq_list1.mean(axis=1)\n",
    "max_peak2peak_diff_freq_list1 = peak2peak_diff_freq_list1.max(axis=1)\n",
    "min_peak2peak_diff_freq_list1 = peak2peak_diff_freq_list1.min(axis=1)\n",
    "title_text5 ='Participant 1: Peak to Peak difference in amplitude (Freq Based)'\n",
    "\n",
    "# np.arrange(1,3,len(mean_peak2peak_diff_freq_list))\n",
    "list_of_numbers_freq_2 = list(range(0, len(peak2peak_diff_freq_list2)))\n",
    "\n",
    "mean_peak2peak_diff_freq_list2 = peak2peak_diff_freq_list2.mean(axis=1)\n",
    "max_peak2peak_diff_freq_list2 = peak2peak_diff_freq_list2.max(axis=1)\n",
    "min_peak2peak_diff_freq_list2 = peak2peak_diff_freq_list2.min(axis=1)\n",
    "title_text6 ='Participant 2: Peak to Peak difference in amplitude (Freq Based)'\n",
    "# fig2 = peak2_peak_figures(peak2peak_diff_freq_list2[\"filename\"],mean_peak2peak_diff_freq_list2,max_peak2peak_diff_freq_list2,min_peak2peak_diff_freq_list2,title_text6)\n",
    "# fig2.show()\n",
    "# np.arrange(1,3,len(mean_peak2peak_diff_freq_list))\n",
    "list_of_numbers3 = list(range(0, len(peak2peak_diff_freq_list3)))\n",
    "print(len(list_of_numbers3),len(peak2peak_diff_freq_list3))\n",
    "\n",
    "mean_peak2peak_diff_freq_list3 = peak2peak_diff_freq_list3.mean(axis=1)\n",
    "max_peak2peak_diff_freq_list3 = peak2peak_diff_freq_list3.max(axis=1)\n",
    "min_peak2peak_diff_freq_list3 = peak2peak_diff_freq_list3.min(axis=1)\n",
    "title_text7 ='Participant 3: Peak to Peak difference in amplitude (Freq Based)'\n",
    "\n",
    "# fig2 = peak2_peak_figures(list_of_numbers_freq_2,mean_peak2peak_diff_freq_list2,max_peak2peak_diff_freq_list2,min_peak2peak_diff_freq_list2,title_text7)\n",
    "# fig2.show()\n",
    "# np.arrange(1,3,len(mean_peak2peak_diff_freq_list))\n",
    "list_of_numbers_freq4 = list(range(0, len(peak2peak_diff_freq_list4)))\n",
    "# print(len(list_of_numbers4),len(peak2peak_diff_freq_list4))\n",
    "\n",
    "mean_peak2peak_diff_freq_list4 = peak2peak_diff_freq_list4.mean(axis=1)\n",
    "max_peak2peak_diff_freq_list4 = peak2peak_diff_freq_list4.max(axis=1)\n",
    "min_peak2peak_diff_freq_list4 = peak2peak_diff_freq_list4.min(axis=1)\n",
    "title_text8 ='Participant 4: Peak to Peak difference in amplitude (Freq Based)'\n",
    "\n",
    "\n",
    "# fig2 = peak2_peak_figures(list_of_numbers_freq4,mean_peak2peak_diff_freq_list4,max_peak2peak_diff_freq_list4,min_peak2peak_diff_freq_list4,title_text8)\n",
    "# fig2.show()\n",
    "\n",
    "\n",
    "\n"
   ]
  },
  {
   "cell_type": "code",
   "execution_count": null,
   "metadata": {
    "scrolled": true
   },
   "outputs": [],
   "source": []
  },
  {
   "cell_type": "code",
   "execution_count": null,
   "metadata": {},
   "outputs": [],
   "source": []
  },
  {
   "cell_type": "code",
   "execution_count": null,
   "metadata": {},
   "outputs": [],
   "source": []
  },
  {
   "cell_type": "code",
   "execution_count": null,
   "metadata": {
    "scrolled": true
   },
   "outputs": [],
   "source": []
  },
  {
   "cell_type": "code",
   "execution_count": null,
   "metadata": {},
   "outputs": [],
   "source": []
  },
  {
   "cell_type": "code",
   "execution_count": null,
   "metadata": {},
   "outputs": [],
   "source": []
  },
  {
   "cell_type": "code",
   "execution_count": null,
   "metadata": {},
   "outputs": [],
   "source": [
    "plt.rcParams[\"figure.figsize\"] = [10.50, 6.50] # WIDTH, HEIGHT\n",
    "fig, axs = plt.subplots(2, 2)\n",
    "axs[0, 0].plot(mean_peak2peak_diff_freq_list1)\n",
    "axs[0, 0].plot(max_peak2peak_diff_freq_list1)\n",
    "axs[0, 0].plot(min_peak2peak_diff_freq_list1)\n",
    "# axs.set(xlabel='Number of Sessions', ylabel='p2p Distance')\n",
    "axs[0, 0].set_title(title_text5)\n",
    "axs[0, 1].plot(mean_peak2peak_diff_freq_list2)\n",
    "axs[0, 1].plot(max_peak2peak_diff_freq_list2)\n",
    "axs[0, 1].plot(min_peak2peak_diff_freq_list2)\n",
    "# axs[0, 1].xlabel('Number of Sessions',fontsize=16)\n",
    "# axs[0, 1].ylabel('p2p Distance',fontsize=16)\n",
    "axs[0, 1].set_title(title_text6)\n",
    "axs[1, 0].plot(mean_peak2peak_diff_freq_list3)\n",
    "axs[1, 0].plot(max_peak2peak_diff_freq_list3)\n",
    "axs[1, 0].plot(min_peak2peak_diff_freq_list3)\n",
    "# axs[1, 0].xlabel('Number of Sessions',fontsize=16)\n",
    "# axs[1, 0].ylabel('p2p Distance',fontsize=16)\n",
    "axs[1, 0].set_title(title_text7)\n",
    "axs[1, 1].plot(mean_peak2peak_diff_freq_list4)\n",
    "axs[1, 1].plot(max_peak2peak_diff_freq_list4)\n",
    "axs[1, 1].plot(min_peak2peak_diff_freq_list4)\n",
    "# axs[1, 1].xlabel('Number of Sessions',fontsize=16)\n",
    "# axs[1, 1].ylabel('p2p Distance',fontsize=16)\n",
    "axs[1, 1].set_title(title_text8)\n",
    "fig.subplots_adjust(wspace=1.5,hspace=0.5)\n",
    "\n",
    "\n"
   ]
  },
  {
   "cell_type": "code",
   "execution_count": null,
   "metadata": {
    "scrolled": true
   },
   "outputs": [],
   "source": [
    "df = results_p3[results_p3[\"HumanRater1\"].str.contains(\"MARK\") == False]\n",
    "df_int =df[df[\"HumanRater1\"].str.contains(\"HARD\") == False]\n",
    "df_int =df[df[\"HumanRater1\"].str.contains(\"SIGNAL\") == False]\n",
    "df2 = results_p2[results_p2[\"HumanRater1\"].str.contains(\"MARK\") == False]\n",
    "df_int2 =df2[df2[\"HumanRater1\"].str.contains(\"HARD\") == False]\n",
    "# df_int2 =df2[df2[\"HumanRater1\"].str.contains(\"14 (HARD\") == False]\n",
    "df_int2 =df2[df2[\"HumanRater1\"].str.contains(\"SIGNAL\") == False]\n"
   ]
  },
  {
   "cell_type": "code",
   "execution_count": null,
   "metadata": {},
   "outputs": [],
   "source": []
  },
  {
   "cell_type": "code",
   "execution_count": null,
   "metadata": {
    "scrolled": true
   },
   "outputs": [],
   "source": [
    "mHeader = [\"HumanRating\", \"TimeBased\",\"FrequencyBased\"]\n",
    "p_4_mean = [results_p4[results_p4[\"Method1_TimeBased\"]!=-911][\"Human Rater\"].mean(),results_p4[results_p4[\"Method1_TimeBased\"]!=-911][\"Method1_TimeBased\"].mean(),results_p4[results_p4[\"Method3_FreqBased\"]!=-911][\"Method3_FreqBased\"].mean()]\n",
    "p4_std = [results_p4[results_p4[\"Method1_TimeBased\"]!=-911][\"Human Rater\"].std(),results_p4[results_p4[\"Method1_TimeBased\"]!=-911][\"Method1_TimeBased\"].std(),results_p4[results_p4[\"Method3_FreqBased\"]!=-911][\"Method3_FreqBased\"].std()]\n",
    "p3_mean = [pd.to_numeric(df_int[df_int[\"Method1_TimeBased\"]!=-911][\"HumanRater1\"]).mean() ,pd.to_numeric(df_int[df_int[\"Method1_TimeBased\"]!=-911][\"Method1_TimeBased\"]).mean(),pd.to_numeric(df_int[df_int[\"Method3_FreqBased\"]!=-911][\"Method3_FreqBased\"]).mean()]\n",
    "\n",
    "p3_std = [pd.to_numeric(df_int[df_int[\"Method1_TimeBased\"]!=-911][\"HumanRater1\"]).std(),pd.to_numeric(df_int[df_int[\"Method1_TimeBased\"]!=-911][\"Method1_TimeBased\"]).std(),pd.to_numeric(df_int[df_int[\"Method3_FreqBased\"]!=-911][\"Method3_FreqBased\"]).mean()]\n",
    "\n",
    "p2_mean = [pd.to_numeric(df_int2[df_int2[\"Method1_TimeBased\"]!=-911][\"HumanRater1\"]).mean(),pd.to_numeric(df_int2[df_int2[\"Method1_TimeBased\"]!=-911][\"Method1_TimeBased\"]).mean(),pd.to_numeric(df_int2[df_int2[\"Method3_FreqBased\"]!=-911][\"Method3_FreqBased\"]).mean()]\n",
    "p2_std = [pd.to_numeric(df_int2[df_int2[\"Method1_TimeBased\"]!=-911][\"HumanRater1\"]).std(), pd.to_numeric(df_int2[df_int2[\"Method1_TimeBased\"]!=-911][\"Method1_TimeBased\"]).std(),pd.to_numeric(df_int2[df_int2[\"Method3_FreqBased\"]!=-911][\"Method3_FreqBased\"]).std()]\n",
    "\n",
    "\n",
    "p1_mean = [pd.to_numeric(results_p1[results_p1[\"Method1_TimeBased\"]!=-911][\"HumanRater1\"]).mean(), pd.to_numeric(df_int2[df_int2[\"Method1_TimeBased\"]!=-911][\"Method1_TimeBased\"]).mean(),pd.to_numeric(df_int2[df_int2[\"Method3_FreqBased\"]!=-911][\"Method3_FreqBased\"]).mean() ]\n",
    "p1_std = [pd.to_numeric(df_int2[df_int2[\"Method1_TimeBased\"]!=-911][\"HumanRater1\"]).std(), pd.to_numeric(df_int2[df_int2[\"Method1_TimeBased\"]!=-911][\"Method1_TimeBased\"]).std(),pd.to_numeric(df_int2[df_int2[\"Method3_FreqBased\"]!=-911][\"Method3_FreqBased\"]).std()]\n",
    "\n"
   ]
  },
  {
   "cell_type": "code",
   "execution_count": null,
   "metadata": {
    "scrolled": true
   },
   "outputs": [],
   "source": [
    "pd.DataFrame([mHeader,p_4_mean,p4_std,p3_mean,p3_std,p2_mean,p2_std,p1_mean,p1_std])\n"
   ]
  },
  {
   "cell_type": "code",
   "execution_count": null,
   "metadata": {},
   "outputs": [],
   "source": []
  },
  {
   "cell_type": "code",
   "execution_count": null,
   "metadata": {
    "scrolled": true
   },
   "outputs": [],
   "source": []
  },
  {
   "cell_type": "code",
   "execution_count": null,
   "metadata": {
    "scrolled": true
   },
   "outputs": [],
   "source": []
  },
  {
   "cell_type": "code",
   "execution_count": null,
   "metadata": {
    "scrolled": true
   },
   "outputs": [],
   "source": []
  },
  {
   "cell_type": "code",
   "execution_count": null,
   "metadata": {
    "scrolled": true
   },
   "outputs": [],
   "source": []
  },
  {
   "cell_type": "code",
   "execution_count": null,
   "metadata": {
    "scrolled": true
   },
   "outputs": [],
   "source": []
  },
  {
   "cell_type": "code",
   "execution_count": null,
   "metadata": {
    "scrolled": true
   },
   "outputs": [],
   "source": []
  },
  {
   "cell_type": "code",
   "execution_count": null,
   "metadata": {
    "scrolled": true
   },
   "outputs": [],
   "source": [
    "# ===========================================================================================================================\n",
    "# ========================================= STOP HERE File Writes ==================================================================================\n",
    "# ===========================================================================================================================\n",
    "results_p1.to_csv(root_results_write + \"results_p1.csv\")\n",
    "results_p2.to_csv(root_results_write + \"results_p2.csv\")\n",
    "results_p3.to_csv(root_results_write + \"results_p3.csv\")\n",
    "\n"
   ]
  },
  {
   "cell_type": "markdown",
   "metadata": {},
   "source": [
    "# Results Anlaysis"
   ]
  },
  {
   "cell_type": "code",
   "execution_count": null,
   "metadata": {
    "scrolled": true
   },
   "outputs": [],
   "source": [
    "results_p1.columns"
   ]
  },
  {
   "cell_type": "code",
   "execution_count": null,
   "metadata": {
    "scrolled": true
   },
   "outputs": [],
   "source": [
    "results_p1[\"FileName\"].shape"
   ]
  },
  {
   "cell_type": "code",
   "execution_count": null,
   "metadata": {
    "scrolled": true
   },
   "outputs": [],
   "source": [
    "results_p1 = results_p1[results_p1.Method1_TimeBased != -911.0]\n",
    "\n",
    "results_p1 = results_p1.drop([\"Method3_DominantFreqUpperBound\",\"Method3_DominantFreqLowerBound\"],axis=1)\n"
   ]
  },
  {
   "cell_type": "code",
   "execution_count": null,
   "metadata": {
    "scrolled": true
   },
   "outputs": [],
   "source": [
    "results_p1.columns"
   ]
  },
  {
   "cell_type": "code",
   "execution_count": null,
   "metadata": {
    "scrolled": true
   },
   "outputs": [],
   "source": []
  },
  {
   "cell_type": "code",
   "execution_count": null,
   "metadata": {
    "scrolled": true
   },
   "outputs": [],
   "source": [
    "fig= go.Figure()\n",
    "fig.add_trace(go.Scatter(\n",
    "    x=results_p1[\"FileName\"],\n",
    "    y= results_p1[\"SNR_mean_std\"], #results_p1[results_p1.Method3_FreqBased !=-911.0],\n",
    "    name='Frequency Based',\n",
    "    marker_color='#17becf'\n",
    "))"
   ]
  },
  {
   "cell_type": "code",
   "execution_count": null,
   "metadata": {
    "scrolled": true
   },
   "outputs": [],
   "source": []
  },
  {
   "cell_type": "code",
   "execution_count": null,
   "metadata": {
    "scrolled": true
   },
   "outputs": [],
   "source": []
  },
  {
   "cell_type": "code",
   "execution_count": null,
   "metadata": {
    "scrolled": true
   },
   "outputs": [],
   "source": []
  },
  {
   "cell_type": "code",
   "execution_count": null,
   "metadata": {
    "scrolled": true
   },
   "outputs": [],
   "source": []
  },
  {
   "cell_type": "code",
   "execution_count": null,
   "metadata": {
    "scrolled": true
   },
   "outputs": [],
   "source": []
  },
  {
   "cell_type": "code",
   "execution_count": null,
   "metadata": {
    "scrolled": true
   },
   "outputs": [],
   "source": []
  },
  {
   "cell_type": "code",
   "execution_count": null,
   "metadata": {
    "scrolled": true
   },
   "outputs": [],
   "source": []
  },
  {
   "cell_type": "code",
   "execution_count": null,
   "metadata": {
    "scrolled": true
   },
   "outputs": [],
   "source": []
  },
  {
   "cell_type": "code",
   "execution_count": null,
   "metadata": {
    "scrolled": true
   },
   "outputs": [],
   "source": []
  },
  {
   "cell_type": "code",
   "execution_count": null,
   "metadata": {
    "scrolled": true
   },
   "outputs": [],
   "source": []
  },
  {
   "cell_type": "code",
   "execution_count": null,
   "metadata": {
    "scrolled": true
   },
   "outputs": [],
   "source": []
  },
  {
   "cell_type": "code",
   "execution_count": null,
   "metadata": {
    "scrolled": true
   },
   "outputs": [],
   "source": []
  },
  {
   "cell_type": "code",
   "execution_count": null,
   "metadata": {
    "scrolled": true
   },
   "outputs": [],
   "source": []
  },
  {
   "cell_type": "code",
   "execution_count": null,
   "metadata": {
    "scrolled": true
   },
   "outputs": [],
   "source": []
  },
  {
   "cell_type": "code",
   "execution_count": null,
   "metadata": {
    "scrolled": true
   },
   "outputs": [],
   "source": []
  },
  {
   "cell_type": "code",
   "execution_count": null,
   "metadata": {
    "scrolled": true
   },
   "outputs": [],
   "source": []
  },
  {
   "cell_type": "code",
   "execution_count": null,
   "metadata": {},
   "outputs": [],
   "source": []
  },
  {
   "cell_type": "code",
   "execution_count": null,
   "metadata": {
    "scrolled": true
   },
   "outputs": [],
   "source": []
  },
  {
   "cell_type": "code",
   "execution_count": null,
   "metadata": {
    "scrolled": true
   },
   "outputs": [],
   "source": []
  },
  {
   "cell_type": "code",
   "execution_count": null,
   "metadata": {
    "scrolled": true
   },
   "outputs": [],
   "source": []
  },
  {
   "cell_type": "code",
   "execution_count": null,
   "metadata": {
    "scrolled": true
   },
   "outputs": [],
   "source": []
  },
  {
   "cell_type": "code",
   "execution_count": null,
   "metadata": {
    "scrolled": true
   },
   "outputs": [],
   "source": []
  },
  {
   "cell_type": "code",
   "execution_count": null,
   "metadata": {
    "scrolled": true
   },
   "outputs": [],
   "source": []
  },
  {
   "cell_type": "code",
   "execution_count": null,
   "metadata": {
    "scrolled": true
   },
   "outputs": [],
   "source": []
  },
  {
   "cell_type": "code",
   "execution_count": null,
   "metadata": {
    "scrolled": true
   },
   "outputs": [],
   "source": []
  },
  {
   "cell_type": "code",
   "execution_count": null,
   "metadata": {
    "scrolled": true
   },
   "outputs": [],
   "source": []
  },
  {
   "cell_type": "code",
   "execution_count": null,
   "metadata": {
    "scrolled": true
   },
   "outputs": [],
   "source": []
  },
  {
   "cell_type": "code",
   "execution_count": null,
   "metadata": {
    "scrolled": true
   },
   "outputs": [],
   "source": []
  },
  {
   "cell_type": "code",
   "execution_count": null,
   "metadata": {
    "scrolled": true
   },
   "outputs": [],
   "source": []
  },
  {
   "cell_type": "code",
   "execution_count": null,
   "metadata": {
    "scrolled": true
   },
   "outputs": [],
   "source": []
  },
  {
   "cell_type": "code",
   "execution_count": null,
   "metadata": {
    "scrolled": true
   },
   "outputs": [],
   "source": []
  },
  {
   "cell_type": "code",
   "execution_count": null,
   "metadata": {
    "scrolled": true
   },
   "outputs": [],
   "source": []
  },
  {
   "cell_type": "code",
   "execution_count": null,
   "metadata": {
    "scrolled": true
   },
   "outputs": [],
   "source": []
  },
  {
   "cell_type": "code",
   "execution_count": null,
   "metadata": {
    "scrolled": true
   },
   "outputs": [],
   "source": []
  },
  {
   "cell_type": "code",
   "execution_count": null,
   "metadata": {
    "scrolled": true
   },
   "outputs": [],
   "source": []
  },
  {
   "cell_type": "code",
   "execution_count": null,
   "metadata": {
    "scrolled": true
   },
   "outputs": [],
   "source": []
  },
  {
   "cell_type": "code",
   "execution_count": null,
   "metadata": {
    "scrolled": true
   },
   "outputs": [],
   "source": []
  },
  {
   "cell_type": "code",
   "execution_count": null,
   "metadata": {
    "scrolled": true
   },
   "outputs": [],
   "source": []
  },
  {
   "cell_type": "code",
   "execution_count": null,
   "metadata": {},
   "outputs": [],
   "source": []
  },
  {
   "cell_type": "code",
   "execution_count": null,
   "metadata": {
    "scrolled": true
   },
   "outputs": [],
   "source": []
  },
  {
   "cell_type": "code",
   "execution_count": null,
   "metadata": {
    "scrolled": true
   },
   "outputs": [],
   "source": []
  },
  {
   "cell_type": "code",
   "execution_count": null,
   "metadata": {
    "scrolled": true
   },
   "outputs": [],
   "source": []
  },
  {
   "cell_type": "code",
   "execution_count": null,
   "metadata": {
    "scrolled": true
   },
   "outputs": [],
   "source": []
  },
  {
   "cell_type": "code",
   "execution_count": null,
   "metadata": {
    "scrolled": true
   },
   "outputs": [],
   "source": []
  },
  {
   "cell_type": "code",
   "execution_count": null,
   "metadata": {
    "scrolled": true
   },
   "outputs": [],
   "source": [
    "\n",
    "\n",
    "\n"
   ]
  },
  {
   "cell_type": "code",
   "execution_count": null,
   "metadata": {
    "scrolled": true
   },
   "outputs": [],
   "source": []
  },
  {
   "cell_type": "code",
   "execution_count": null,
   "metadata": {
    "scrolled": true
   },
   "outputs": [],
   "source": []
  },
  {
   "cell_type": "code",
   "execution_count": null,
   "metadata": {
    "scrolled": true
   },
   "outputs": [],
   "source": []
  },
  {
   "cell_type": "code",
   "execution_count": null,
   "metadata": {
    "scrolled": true
   },
   "outputs": [],
   "source": []
  },
  {
   "cell_type": "code",
   "execution_count": null,
   "metadata": {
    "scrolled": true
   },
   "outputs": [],
   "source": []
  },
  {
   "cell_type": "code",
   "execution_count": null,
   "metadata": {
    "scrolled": true
   },
   "outputs": [],
   "source": []
  },
  {
   "cell_type": "code",
   "execution_count": null,
   "metadata": {
    "scrolled": true
   },
   "outputs": [],
   "source": []
  },
  {
   "cell_type": "code",
   "execution_count": null,
   "metadata": {
    "scrolled": true
   },
   "outputs": [],
   "source": []
  },
  {
   "cell_type": "markdown",
   "metadata": {},
   "source": [
    "### \n"
   ]
  },
  {
   "cell_type": "code",
   "execution_count": null,
   "metadata": {
    "scrolled": true
   },
   "outputs": [],
   "source": []
  },
  {
   "cell_type": "code",
   "execution_count": null,
   "metadata": {
    "scrolled": true
   },
   "outputs": [],
   "source": []
  },
  {
   "cell_type": "code",
   "execution_count": null,
   "metadata": {
    "scrolled": true
   },
   "outputs": [],
   "source": []
  },
  {
   "cell_type": "code",
   "execution_count": null,
   "metadata": {
    "scrolled": true
   },
   "outputs": [],
   "source": []
  },
  {
   "cell_type": "code",
   "execution_count": null,
   "metadata": {
    "scrolled": true
   },
   "outputs": [],
   "source": []
  },
  {
   "cell_type": "code",
   "execution_count": null,
   "metadata": {
    "scrolled": true
   },
   "outputs": [],
   "source": []
  },
  {
   "cell_type": "code",
   "execution_count": null,
   "metadata": {
    "scrolled": true
   },
   "outputs": [],
   "source": []
  },
  {
   "cell_type": "code",
   "execution_count": null,
   "metadata": {
    "scrolled": true
   },
   "outputs": [],
   "source": []
  },
  {
   "cell_type": "code",
   "execution_count": null,
   "metadata": {
    "scrolled": true
   },
   "outputs": [],
   "source": []
  },
  {
   "cell_type": "code",
   "execution_count": null,
   "metadata": {
    "scrolled": true
   },
   "outputs": [],
   "source": []
  },
  {
   "cell_type": "code",
   "execution_count": null,
   "metadata": {
    "scrolled": true
   },
   "outputs": [],
   "source": []
  },
  {
   "cell_type": "code",
   "execution_count": null,
   "metadata": {
    "scrolled": true
   },
   "outputs": [],
   "source": []
  },
  {
   "cell_type": "code",
   "execution_count": null,
   "metadata": {},
   "outputs": [],
   "source": []
  },
  {
   "cell_type": "code",
   "execution_count": null,
   "metadata": {},
   "outputs": [],
   "source": []
  },
  {
   "cell_type": "code",
   "execution_count": null,
   "metadata": {},
   "outputs": [],
   "source": []
  },
  {
   "cell_type": "code",
   "execution_count": null,
   "metadata": {},
   "outputs": [],
   "source": []
  }
 ],
 "metadata": {
  "kernelspec": {
   "display_name": "Python 3 (ipykernel)",
   "language": "python",
   "name": "python3"
  },
  "language_info": {
   "codemirror_mode": {
    "name": "ipython",
    "version": 3
   },
   "file_extension": ".py",
   "mimetype": "text/x-python",
   "name": "python",
   "nbconvert_exporter": "python",
   "pygments_lexer": "ipython3",
   "version": "3.11.6"
  },
  "varInspector": {
   "cols": {
    "lenName": 16,
    "lenType": 16,
    "lenVar": 40
   },
   "kernels_config": {
    "python": {
     "delete_cmd_postfix": "",
     "delete_cmd_prefix": "del ",
     "library": "var_list.py",
     "varRefreshCmd": "print(var_dic_list())"
    },
    "r": {
     "delete_cmd_postfix": ") ",
     "delete_cmd_prefix": "rm(",
     "library": "var_list.r",
     "varRefreshCmd": "cat(var_dic_list()) "
    }
   },
   "oldHeight": 431.852,
   "position": {
    "height": "296.719px",
    "left": "842.988px",
    "right": "20px",
    "top": "118.997px",
    "width": "416.858px"
   },
   "types_to_exclude": [
    "module",
    "function",
    "builtin_function_or_method",
    "instance",
    "_Feature"
   ],
   "varInspector_section_display": "block",
   "window_display": false
  },
  "vscode": {
   "interpreter": {
    "hash": "31f2aee4e71d21fbe5cf8b01ff0e069b9275f58929596ceb00d14d90e3e16cd6"
   }
  }
 },
 "nbformat": 4,
 "nbformat_minor": 4
}
