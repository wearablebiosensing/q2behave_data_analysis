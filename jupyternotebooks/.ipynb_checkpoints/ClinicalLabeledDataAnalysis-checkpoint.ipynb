{
 "cells": [
  {
   "cell_type": "code",
   "execution_count": null,
   "id": "61558914",
   "metadata": {},
   "outputs": [],
   "source": [
    "%reset"
   ]
  },
  {
   "cell_type": "code",
   "execution_count": null,
   "id": "1e4462bf",
   "metadata": {},
   "outputs": [],
   "source": [
    "import pandas as pd \n",
    "import numpy as np \n",
    "from sklearn.preprocessing import RobustScaler\n",
    "from sklearn.preprocessing import OneHotEncoder\n",
    "from scipy import stats\n",
    "# from tensorflow import keras\n",
    "import matplotlib.pyplot as plt\n",
    "import seaborn as sns\n",
    "import os\n",
    "from sklearn.model_selection import train_test_split\n",
    "from jupyter_dash import JupyterDash\n",
    "from scipy import signal\n",
    "from scipy.fft import fftshift\n",
    "import plotly.graph_objects as go\n",
    "import matplotlib.dates as mdates\n",
    "from datetime import datetime\n",
    "import plotly.graph_objects as go\n",
    "from plotly.subplots import make_subplots"
   ]
  },
  {
   "cell_type": "code",
   "execution_count": null,
   "id": "6f402a34",
   "metadata": {},
   "outputs": [],
   "source": [
    "import scipy.fftpack                 # discrete Fourier transforms\n",
    "from scipy import signal\n",
    "from scipy.signal import find_peaks\n",
    "from scipy.signal import butter, lfilter\n",
    "from scipy.signal import find_peaks, peak_prominences\n",
    "from scipy.signal import chirp, peak_widths\n"
   ]
  },
  {
   "cell_type": "markdown",
   "id": "f80e0c3d",
   "metadata": {},
   "source": [
    "![Example Image](clinical_data_analysis.png)\n"
   ]
  },
  {
   "cell_type": "code",
   "execution_count": null,
   "id": "ce05c91f",
   "metadata": {},
   "outputs": [],
   "source": [
    "%matplotlib inline\n",
    "from IPython.core.display import display, HTML\n",
    "display(HTML(\"<style> .output_scroll { max-height: 10000px; } </style>\"))\n"
   ]
  },
  {
   "cell_type": "code",
   "execution_count": null,
   "id": "86f58466",
   "metadata": {},
   "outputs": [],
   "source": [
    "def plot_bar_plot(grouped_data,filename):\n",
    "     # Plotting the bar plot using matplotlib\n",
    "    fig, ax = plt.subplots(figsize=(15, 8))\n",
    "    bars = ax.bar(grouped_data.index, grouped_data.values, color='skyblue')\n",
    "    # Adding value annotations on top of each bar with increased font size\n",
    "    for bar in bars:\n",
    "        yval = bar.get_height()\n",
    "        ax.text(bar.get_x() + bar.get_width()/2, yval + 0.5, round(yval, 2), \n",
    "                ha='center', va='bottom', fontsize=20)  # Increased fontsize to 14\n",
    "    \n",
    "#     plt.bar(grouped_data.index, grouped_data.values, color='skyblue')\n",
    "    plt.title('Duration for Different Hyperactive Behaviour Types \\n' + filename, fontsize=20)\n",
    "    plt.xlabel('Hyperactive Behaviour Type',fontsize=20)\n",
    "    plt.ylabel('Duration (in seconds)',fontsize=20)\n",
    "    plt.xticks(rotation=15)\n",
    "    plt.yticks(fontsize=18)  # y-axis ticks font size\n",
    "    plt.tight_layout()\n",
    "    return plt\n"
   ]
  },
  {
   "cell_type": "markdown",
   "id": "3bc4b263",
   "metadata": {},
   "source": [
    "### Create a master file consisting of all the labeles from all the participants and activities"
   ]
  },
  {
   "cell_type": "code",
   "execution_count": null,
   "id": "fdcebbee",
   "metadata": {},
   "outputs": [],
   "source": [
    "labels_folder_path = \"/Users/shehjarsadhu/Desktop/UniversityOfRhodeIsland/Graduate/WBL/Project_Q2Behave/LabelsAll/\"\n",
    "# Master dataframe to store data from all CSV files\n",
    "master_data_frame = pd.DataFrame()\n",
    "master_data_frame_2 = pd.DataFrame(columns=['nan', 'Drumming fingers ',\n",
    "       'Manipulating object (turning pen over & over in hand)',\n",
    "       'Twirling your hair', 'Hyperactive Behaviour Type',\n",
    "       'Standing up while working ', 'Moving the chair back and forth',\n",
    "       'Talking to peers', 'Talking to self',\n",
    "       'Tapping foot/ Bouncing Leg', 'Finger tapping', 'None ',\n",
    "       ' Bouncing leg / Shaking leg'])\n",
    "for filename in os.listdir(labels_folder_path):\n",
    "    if filename.endswith(\".csv\"):\n",
    "        filepath = os.path.join(labels_folder_path, filename)\n",
    "        print(\"filepath: \",filepath)\n",
    "        df_labels = pd.read_csv(filepath,header=None)\n",
    "        df_labels = df_labels.drop(0)\n",
    "        df_labels.columns = [\"Elapsed_Time\",\"OffSeat\",\"Hyperactive_Restless\",\"HyperactiveBehaviourType\",\"SecondHyperactiveBehaviourType\",\"Inattentive\",\"InattentiveBehaviourType\",\"SecondInattentiveBehaviourType\"]\n",
    "        filtered_data = df_labels[df_labels[\"HyperactiveBehaviourType\"] != \"None\"]\n",
    "        filtered_data[\"PID\"] = filename.split(\"_\")[1].split(\".\")[0]\n",
    "        filtered_data[\"activity_id\"] = filename.split(\"_\")[0]\n",
    "        #master_data_frame = master_data_frame.append(filtered_data)\n",
    "        master_data_frame = pd.concat([master_data_frame, filtered_data], ignore_index=True)\n",
    "\n",
    "        #print(\"HyperactiveBehaviourType: \",df_labels[\"HyperactiveBehaviourType\"].unique())\n",
    "        # Group by the \"Hyperactive Behaviour Type\" and count the occurrences\n",
    "        grouped_data = filtered_data.groupby(\"HyperactiveBehaviourType\").size()\n",
    "        #print(\"grouped_data: \",grouped_data,type(grouped_data))\n",
    "        #print(grouped_data.to_frame())\n",
    "        print(\"=====================================================================================================================\")\n",
    "        plt = plot_bar_plot(grouped_data,filename)\n",
    "        plt.show()\n"
   ]
  },
  {
   "cell_type": "code",
   "execution_count": null,
   "id": "96589d7b",
   "metadata": {},
   "outputs": [],
   "source": [
    "master_data_frame = master_data_frame.drop(0)\n",
    "unique_pids = master_data_frame[\"PID\"].unique()\n",
    "print(\"Unique participnats in the labeled data file: \",len(unique_pids))\n",
    "unique_pids.sort()\n",
    "print(\"Sorted list of particinants in the labeled data file: \",unique_pids)"
   ]
  },
  {
   "cell_type": "code",
   "execution_count": null,
   "id": "b596f757",
   "metadata": {},
   "outputs": [],
   "source": [
    "master_data_frame[\"HyperactiveBehaviourType\"].unique()"
   ]
  },
  {
   "cell_type": "code",
   "execution_count": null,
   "id": "0c5f7431",
   "metadata": {},
   "outputs": [],
   "source": [
    "def aggregate_and_plot_bar_plot(all_grouped_data):\n",
    "    # Plotting the bar plot using matplotlib\n",
    "    fig, ax = plt.subplots(figsize=(15, 8))\n",
    "    bars = ax.bar(all_grouped_data.index, all_grouped_data.values, color='skyblue')\n",
    "    \n",
    "    # Adding value annotations on top of each bar with increased font size\n",
    "    for bar in bars:\n",
    "        yval = bar.get_height()\n",
    "        ax.text(bar.get_x() + bar.get_width()/2, yval + 0.5, round(yval, 2), \n",
    "                ha='center', va='bottom', fontsize=20)  # Increased fontsize to 20\n",
    "    \n",
    "    plt.title('Aggregated Duration for Different Hyperactive Behaviour Types Across All Participants', fontsize=20)\n",
    "    plt.xlabel('Hyperactive Behaviour Type', fontsize=20)\n",
    "    plt.ylabel('Duration (in seconds)', fontsize=20)\n",
    "    plt.xticks(rotation=45, fontsize=10)  # x-axis ticks font size\n",
    "    plt.yticks(fontsize=18)  # y-axis ticks font size\n",
    "    plt.tight_layout()\n",
    "    return plt"
   ]
  },
  {
   "cell_type": "code",
   "execution_count": null,
   "id": "c31ff4bc",
   "metadata": {},
   "outputs": [],
   "source": [
    "# Filter out rows where the behavior type is \"None\"\n",
    "all_data_filtered = master_data_frame[master_data_frame[\"HyperactiveBehaviourType\"] != \"None\"]\n",
    "\n",
    "# Group by behavior type and get the sum\n",
    "all_grouped_data = all_data_filtered.groupby(\"HyperactiveBehaviourType\").size()\n",
    "\n",
    "# Plotting the aggregated data\n",
    "plt = aggregate_and_plot_bar_plot(all_grouped_data)\n",
    "plt.show()"
   ]
  },
  {
   "cell_type": "code",
   "execution_count": null,
   "id": "f1084079",
   "metadata": {},
   "outputs": [],
   "source": [
    "# master_data_frame.to_csv(\"/Users/shehjarsadhu/Desktop/UniversityOfRhodeIsland/Graduate/WBL/Project_Q2Behave/master_labels_all.csv\",index=0)\n"
   ]
  },
  {
   "cell_type": "code",
   "execution_count": null,
   "id": "260f2605",
   "metadata": {},
   "outputs": [],
   "source": [
    "# Filter out rows where the \"Hyperactive Behaviour Type\" is \"None\"\n",
    "filtered_data = df_labels[df_labels[\"HyperactiveBehaviourType\"] != \"None\"]\n",
    "# Group by the \"Hyperactive Behaviour Type\" and count the occurrences\n",
    "grouped_data = filtered_data.groupby(\"HyperactiveBehaviourType\").size()\n",
    "\n",
    "grouped_data"
   ]
  },
  {
   "cell_type": "markdown",
   "id": "7c0670b4",
   "metadata": {},
   "source": [
    "## Heatmap plots for all the labeled data:"
   ]
  },
  {
   "cell_type": "code",
   "execution_count": null,
   "id": "2c58683a-40b1-456d-bbbf-e8287ea51a40",
   "metadata": {},
   "outputs": [],
   "source": [
    "\n",
    "def generate_df_for_heatmap_hyperactive_0_1(df):\n",
    "    # List of unique items in \"HyperactiveBehaviourType\" as provided\n",
    "    unique_items = df[\"Hyperactive_Restless\"].unique()\n",
    "    #print(\"unique_items: \",unique_items)\n",
    "    # Group by 'PID' and count the occurrences of each unique item in \"HyperactiveBehaviourType\"\n",
    "    grouped = df.groupby('PID')['Hyperactive_Restless'].value_counts().unstack().fillna(0)\n",
    "    \n",
    "    # Reindex the columns to match the unique items list and fill missing columns with NaN\n",
    "    grouped = grouped.reindex(columns=unique_items)\n",
    "    \n",
    "    # Reset the index for final output\n",
    "    result = grouped.reset_index()\n",
    "    \n",
    "    return result\n"
   ]
  },
  {
   "cell_type": "code",
   "execution_count": null,
   "id": "9362bae0",
   "metadata": {},
   "outputs": [],
   "source": [
    "\n",
    "def generate_df_for_heatmap(df):\n",
    "      # Replace old labels with new label\n",
    "    df['HyperactiveBehaviourType'] = df['HyperactiveBehaviourType'].replace({\n",
    "        'Tapping foot/ Bouncing Leg': 'BL',\n",
    "        ' Bouncing leg / Shaking leg': 'BL',\n",
    "        'Drumming fingers ': \"DF\",\n",
    "         'Manipulating object (turning pen over & over in hand)': \"MO\",\n",
    "         'Twirling your hair':\"TH\",\n",
    "         'Standing up while working ': \"SW\", \n",
    "        'Moving the chair back and forth': \"MC\",\n",
    "         'Talking to peers': \"TP\",\n",
    "        'Talking to self' :\"TS\", \n",
    "         'Finger tapping' : \"FT\"\n",
    "    })\n",
    "    # List of unique items in \"HyperactiveBehaviourType\" as provided\n",
    "    unique_items = df[\"HyperactiveBehaviourType\"].unique()\n",
    "    #print(\"unique_items: \",unique_items)\n",
    "    # Group by 'PID' and count the occurrences of each unique item in \"HyperactiveBehaviourType\"\n",
    "    grouped = df.groupby('PID')['HyperactiveBehaviourType'].value_counts().unstack().fillna(0)\n",
    "    \n",
    "    # Reindex the columns to match the unique items list and fill missing columns with NaN\n",
    "    grouped = grouped.reindex(columns=unique_items)\n",
    "    \n",
    "    # Reset the index for final output\n",
    "    result = grouped.reset_index()\n",
    "    \n",
    "    return result\n"
   ]
  },
  {
   "cell_type": "code",
   "execution_count": null,
   "id": "36ceb3fd",
   "metadata": {},
   "outputs": [],
   "source": [
    "def plot_heatmap(result):\n",
    "    # Mapping of old names to new names\n",
    "    rename_dict = {\n",
    "        'P7': 'P7_AD',\n",
    "        'P9': 'P9_AD',\n",
    "        'P11': 'P11_AD',\n",
    "        'P14': 'P14_AD',\n",
    "        'P16': 'P16_AD',\n",
    "        'P24': 'P24_AD'}\n",
    "    x_labels = result.columns[1:].tolist()  # Get the behavior types (excluding 'PID' column)\n",
    "    y_labels = result['PID'].tolist()  # Get the participant IDs\n",
    "  \n",
    "    # y_labels \n",
    "    # P7_AD , P9_AD, P11_AD, P14_AD, P16_AD, P24_AD\n",
    "    # Rename elements in the list\n",
    "    updated_participants_y_labels = [rename_dict.get(participant, participant) for participant in y_labels]\n",
    "    \n",
    "    z_values = result.iloc[:, 1:].values  # Get the counts\n",
    "    \n",
    "    # Create the heatmap\n",
    "    fig = go.Figure(data=go.Heatmap(\n",
    "        z=z_values,\n",
    "        x=x_labels,\n",
    "        y=updated_participants_y_labels,\n",
    "        colorscale='Cividis_r',\n",
    "        hovertemplate='<b>%{y}</b><br><b>%{x}</b>: %{z}<extra></extra>',\n",
    "        showscale=True,  # show the colorbar\n",
    "        # text=z_values,  # Display the numbers on top\n",
    "         text=z_values,\n",
    "                    texttemplate=\"%{text}\",\n",
    "                    textfont={\"size\":20}\n",
    "        # textposition=\"inside\",  # Position the text inside the boxes\n",
    "       # textfont=dict(color='black', size=12)  # Font properties for the text\n",
    "\n",
    "    ))\n",
    "    \n",
    "    # Update layout\n",
    "    fig.update_layout(\n",
    "        yaxis_title=\"Participant IDs\",\n",
    "        xaxis_title=\"Behavior Types\",\n",
    "        xaxis=dict(showgrid=True, gridcolor='black'),  # Add gridlines\n",
    "        yaxis=dict(showgrid=True, gridcolor='black'),  # Add gridlines\n",
    "        plot_bgcolor='rgba(0,0,0,0)',  # Set the background color to transparent\n",
    "        font=dict(size=12),  # Increase font size\n",
    "       # margin=dict(t=50, b=50, l=50, r=50),  # Set margins to give more space\n",
    "    )\n",
    "    \n",
    "    fig.show()"
   ]
  },
  {
   "cell_type": "code",
   "execution_count": null,
   "id": "9c0f2ecb",
   "metadata": {},
   "outputs": [],
   "source": [
    "# master_data_frame\n",
    "master_labels_filepath = \"/Users/shehjarsadhu/Desktop/UniversityOfRhodeIsland/Graduate/WBL/Project_Q2Behave/master_labels_all_NEW.csv\"\n",
    "master_labels_filepath = pd.read_csv(master_labels_filepath)\n"
   ]
  },
  {
   "cell_type": "markdown",
   "id": "58e77971",
   "metadata": {},
   "source": [
    "### Hyperactive / Non Hyper Active Heatmap plot (Stage 1 in the pipeline): "
   ]
  },
  {
   "cell_type": "code",
   "execution_count": null,
   "id": "0d6282dd",
   "metadata": {},
   "outputs": [],
   "source": [
    "result_0_1 = generate_df_for_heatmap_hyperactive_0_1(master_labels_filepath)\n",
    "result_0_1 = result_0_1.drop([\"Hyperactive or Restless\", ' ','0'], axis=1)\n",
    "result_0_1 = result_0_1[result_0_1.columns[result_0_1.columns.notna()]]\n",
    "print(\"All: \")\n",
    "plot_heatmap(result_0_1)\n"
   ]
  },
  {
   "cell_type": "code",
   "execution_count": null,
   "id": "2b562395",
   "metadata": {},
   "outputs": [],
   "source": [
    "A1_01 = master_labels_filepath[master_labels_filepath[\"activity_id\"]==\"A1\"]\n",
    "A1_result_0_1 = generate_df_for_heatmap_hyperactive_0_1(A1_01)\n",
    "A1_result_0_1 = A1_result_0_1.drop([\"Hyperactive or Restless\",'0'], axis=1)\n",
    "A1_result_0_1 = A1_result_0_1[A1_result_0_1.columns[A1_result_0_1.columns.notna()]]\n",
    "print(\"Activity 1: \")\n",
    "plot_heatmap(A1_result_0_1)"
   ]
  },
  {
   "cell_type": "code",
   "execution_count": null,
   "id": "570a6b02",
   "metadata": {},
   "outputs": [],
   "source": [
    "A2_01 = master_labels_filepath[master_labels_filepath[\"activity_id\"]==\"A2\"]\n",
    "A2_result_0_1 = generate_df_for_heatmap_hyperactive_0_1(A2_01)\n",
    "A2_result_0_1 = A2_result_0_1.drop([\"Hyperactive or Restless\",'0'], axis=1)\n",
    "A2_result_0_1 = A2_result_0_1[A2_result_0_1.columns[A2_result_0_1.columns.notna()]]\n",
    "print(\"Activity 2: \")\n",
    "plot_heatmap(A2_result_0_1)"
   ]
  },
  {
   "cell_type": "code",
   "execution_count": null,
   "id": "11536802",
   "metadata": {},
   "outputs": [],
   "source": [
    "A3_01 = master_labels_filepath[master_labels_filepath[\"activity_id\"]==\"A3\"]\n",
    "A3_result_0_1 = generate_df_for_heatmap_hyperactive_0_1(A3_01)\n",
    "A3_result_0_1 = A3_result_0_1.drop([\"Hyperactive or Restless\",'0',' '], axis=1)\n",
    "A3_result_0_1 = A3_result_0_1[A3_result_0_1.columns[A3_result_0_1.columns.notna()]]\n",
    "print(\"Activity 3: \")\n",
    "plot_heatmap(A3_result_0_1)"
   ]
  },
  {
   "cell_type": "code",
   "execution_count": null,
   "id": "249c5b9b",
   "metadata": {},
   "outputs": [],
   "source": [
    "A4_01 = master_labels_filepath[master_labels_filepath[\"activity_id\"]==\"A4\"]\n",
    "A4_result_0_1 = generate_df_for_heatmap_hyperactive_0_1(A4_01)\n",
    "A4_result_0_1 = A4_result_0_1.drop([\"Hyperactive or Restless\",'0'], axis=1)\n",
    "A4_result_0_1 = A4_result_0_1[A4_result_0_1.columns[A4_result_0_1.columns.notna()]]\n",
    "A4_result_0_1.columns\n",
    "print(\"Activity 4:\")\n",
    "plot_heatmap(A4_result_0_1)"
   ]
  },
  {
   "cell_type": "markdown",
   "id": "3914cfc5",
   "metadata": {},
   "source": [
    "### Behaviour type counts for all the different hyperactive behaviour types (Stage 2 in the pipeline)"
   ]
  },
  {
   "cell_type": "code",
   "execution_count": null,
   "id": "41c0a970",
   "metadata": {},
   "outputs": [],
   "source": [
    "\n",
    "## Get the dataframes to plot heatmaps.\n",
    "result = generate_df_for_heatmap(master_labels_filepath)\n",
    "result = result.drop([\"Hyperactive Behaviour Type\",'None '], axis=1)\n",
    "result = result[result.columns[result.columns.notna()]]\n"
   ]
  },
  {
   "cell_type": "code",
   "execution_count": null,
   "id": "10349bf7",
   "metadata": {},
   "outputs": [],
   "source": [
    "########################################################################################\n",
    "# Create Activity based dataframes for heatmap plot.\n",
    "########################################################################################\n",
    "A1 = master_labels_filepath[master_labels_filepath[\"activity_id\"]==\"A1\"]\n",
    "#A1 = A1.drop(12629)\n",
    "A2 = master_labels_filepath[master_labels_filepath[\"activity_id\"]==\"A2\"]\n",
    "A3 =  master_labels_filepath[master_labels_filepath[\"activity_id\"]==\"A3\"]\n",
    "#A3 = A3.drop(2407)\n",
    "A4 =  master_labels_filepath[master_labels_filepath[\"activity_id\"]==\"A4\"]\n",
    "#A4 = A4.drop(13833)\n",
    "\n",
    "result_A1 = generate_df_for_heatmap(A1)\n",
    "result_A1 = result_A1.drop([\"Hyperactive Behaviour Type\"], axis=1)\n",
    "# result_A1 = result_A1.drop([\"Hyperactive Behaviour Type\"], axis=1)\n",
    "result_A1 = result_A1[result_A1.columns[result_A1.columns.notna()]]\n",
    "result_A2 = generate_df_for_heatmap(A2)\n",
    "result_A2 = result_A2.drop([\"Hyperactive Behaviour Type\"], axis=1)\n",
    "result_A2 = result_A2[result_A2.columns[result_A2.columns.notna()]]\n",
    "result_A3 = generate_df_for_heatmap(A3)\n",
    "result_A3 = result_A3.drop(\"Hyperactive Behaviour Type\", axis=1)\n",
    "result_A3 = result_A3[result_A3.columns[result_A3.columns.notna()]]\n",
    "result_A4 = generate_df_for_heatmap(A4)\n",
    "result_A4 = result_A4.drop([\"Hyperactive Behaviour Type\",'None '], axis=1)\n",
    "result_A4 = result_A4[result_A4.columns[result_A4.columns.notna()]]\n",
    "# result_A4"
   ]
  },
  {
   "cell_type": "code",
   "execution_count": null,
   "id": "a53bd2cf",
   "metadata": {},
   "outputs": [],
   "source": []
  },
  {
   "cell_type": "code",
   "execution_count": null,
   "id": "e563971b",
   "metadata": {},
   "outputs": [],
   "source": [
    "print(\"All Activities\")\n",
    "plot_heatmap(result)\n"
   ]
  },
  {
   "cell_type": "code",
   "execution_count": null,
   "id": "62012631",
   "metadata": {},
   "outputs": [],
   "source": [
    "\n",
    "print(\"Activity 1\")\n",
    "plot_heatmap(result_A1)\n"
   ]
  },
  {
   "cell_type": "code",
   "execution_count": null,
   "id": "1827886f",
   "metadata": {},
   "outputs": [],
   "source": [
    "\n",
    "print(\"Activity 2\")\n",
    "plot_heatmap(result_A2)\n"
   ]
  },
  {
   "cell_type": "code",
   "execution_count": null,
   "id": "a84902ec",
   "metadata": {},
   "outputs": [],
   "source": [
    "\n",
    "print(\"Activity 3\")\n",
    "plot_heatmap(result_A3)\n"
   ]
  },
  {
   "cell_type": "code",
   "execution_count": null,
   "id": "99949e59",
   "metadata": {},
   "outputs": [],
   "source": [
    "\n",
    "print(\"Activity 4\")\n",
    "plot_heatmap(result_A4)"
   ]
  },
  {
   "cell_type": "code",
   "execution_count": null,
   "id": "a1c46d15",
   "metadata": {},
   "outputs": [],
   "source": []
  },
  {
   "cell_type": "code",
   "execution_count": null,
   "id": "46ebf070",
   "metadata": {},
   "outputs": [],
   "source": []
  },
  {
   "cell_type": "code",
   "execution_count": null,
   "id": "d76385da",
   "metadata": {},
   "outputs": [],
   "source": []
  },
  {
   "cell_type": "code",
   "execution_count": null,
   "id": "bd1d51b2",
   "metadata": {},
   "outputs": [],
   "source": []
  }
 ],
 "metadata": {
  "kernelspec": {
   "display_name": "Python 3 (ipykernel)",
   "language": "python",
   "name": "python3"
  },
  "language_info": {
   "codemirror_mode": {
    "name": "ipython",
    "version": 3
   },
   "file_extension": ".py",
   "mimetype": "text/x-python",
   "name": "python",
   "nbconvert_exporter": "python",
   "pygments_lexer": "ipython3",
   "version": "3.11.6"
  },
  "varInspector": {
   "cols": {
    "lenName": 16,
    "lenType": 16,
    "lenVar": 40
   },
   "kernels_config": {
    "python": {
     "delete_cmd_postfix": "",
     "delete_cmd_prefix": "del ",
     "library": "var_list.py",
     "varRefreshCmd": "print(var_dic_list())"
    },
    "r": {
     "delete_cmd_postfix": ") ",
     "delete_cmd_prefix": "rm(",
     "library": "var_list.r",
     "varRefreshCmd": "cat(var_dic_list()) "
    }
   },
   "types_to_exclude": [
    "module",
    "function",
    "builtin_function_or_method",
    "instance",
    "_Feature"
   ],
   "window_display": false
  }
 },
 "nbformat": 4,
 "nbformat_minor": 5
}
